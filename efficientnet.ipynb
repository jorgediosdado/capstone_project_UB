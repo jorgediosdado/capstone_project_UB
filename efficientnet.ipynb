{
 "cells": [
  {
   "cell_type": "code",
   "execution_count": 20,
   "metadata": {},
   "outputs": [],
   "source": [
    "import os\n",
    "import tensorflow as tf\n",
    "from keras import models\n",
    "from keras import layers\n",
    "from keras import Sequential\n",
    "from datetime import datetime\n",
    "from PIL import Image\n",
    "import numpy as np\n",
    "import keras.backend as K\n",
    "import matplotlib.pyplot as plt\n",
    "import mlflow\n",
    "from tensorflow.keras.layers.experimental import preprocessing\n",
    "from tensorflow.keras.applications import EfficientNetB5\n",
    "from tensorflow.keras.utils import plot_model\n",
    "from matplotlib import pyplot as plt\n",
    "from keras.models import Model\n",
    "from sklearn.metrics import confusion_matrix, ConfusionMatrixDisplay, precision_score, recall_score, accuracy_score\n"
   ]
  },
  {
   "cell_type": "code",
   "execution_count": 21,
   "metadata": {},
   "outputs": [],
   "source": [
    "dataset_name = \"public_dataset\"\n",
    "batch_size = 64"
   ]
  },
  {
   "cell_type": "code",
   "execution_count": 22,
   "metadata": {},
   "outputs": [
    {
     "name": "stdout",
     "output_type": "stream",
     "text": [
      "Found 14910 files belonging to 3 classes.\n",
      "Using 11928 files for training.\n",
      "Found 14910 files belonging to 3 classes.\n",
      "Using 2982 files for validation.\n"
     ]
    }
   ],
   "source": [
    "# Load the dataset\n",
    "\n",
    "image_size = (255, 255)\n",
    "\n",
    "train_ds = tf.keras.preprocessing.image_dataset_from_directory(\n",
    "    dataset_name,\n",
    "    validation_split=0.2,\n",
    "    subset=\"training\",\n",
    "    label_mode = 'int',\n",
    "    labels = 'inferred',\n",
    "    seed=1336,\n",
    "    image_size=image_size,\n",
    "    interpolation = 'bilinear',\n",
    "    batch_size=batch_size,\n",
    "    shuffle = True,\n",
    ")\n",
    "val_ds = tf.keras.preprocessing.image_dataset_from_directory(\n",
    "    dataset_name,\n",
    "    validation_split=0.2,\n",
    "    subset=\"validation\",\n",
    "    label_mode = 'int',\n",
    "    labels = 'inferred',\n",
    "    seed=1336,\n",
    "    image_size=image_size,\n",
    "    interpolation = 'bilinear',\n",
    "    batch_size=batch_size,\n",
    "    shuffle = True,\n",
    ")\n"
   ]
  },
  {
   "cell_type": "code",
   "execution_count": 23,
   "metadata": {},
   "outputs": [],
   "source": [
    "# Obtain the number of samples\n",
    "num_train_samples = 0\n",
    "for images, labels in train_ds:\n",
    "    num_train_samples += images.shape[0]\n",
    "\n",
    "num_val_samples = 0\n",
    "for images, labels in val_ds:\n",
    "    num_val_samples += images.shape[0]\n",
    "\n",
    "\n"
   ]
  },
  {
   "cell_type": "code",
   "execution_count": 24,
   "metadata": {},
   "outputs": [
    {
     "name": "stdout",
     "output_type": "stream",
     "text": [
      "Number of training samples: 11928\n",
      "Number of validation samples: 2982\n"
     ]
    }
   ],
   "source": [
    "print(\"Number of training samples:\", num_train_samples)\n",
    "print(\"Number of validation samples:\", num_val_samples)\n"
   ]
  },
  {
   "cell_type": "code",
   "execution_count": 25,
   "metadata": {},
   "outputs": [],
   "source": [
    "imput = (255,255,3)"
   ]
  },
  {
   "cell_type": "code",
   "execution_count": 26,
   "metadata": {},
   "outputs": [
    {
     "name": "stdout",
     "output_type": "stream",
     "text": [
      "Model: \"model_1\"\n",
      "_________________________________________________________________\n",
      "Layer (type)                 Output Shape              Param #   \n",
      "=================================================================\n",
      "input_4 (InputLayer)         [(None, 255, 255, 3)]     0         \n",
      "_________________________________________________________________\n",
      "sequential_1 (Sequential)    (None, 255, 255, 3)       0         \n",
      "_________________________________________________________________\n",
      "efficientnetb5 (Functional)  (None, 2048)              28513527  \n",
      "_________________________________________________________________\n",
      "dense_2 (Dense)              (None, 512)               1049088   \n",
      "_________________________________________________________________\n",
      "dense_3 (Dense)              (None, 3)                 1539      \n",
      "=================================================================\n",
      "Total params: 29,564,154\n",
      "Trainable params: 4,073,475\n",
      "Non-trainable params: 25,490,679\n",
      "_________________________________________________________________\n"
     ]
    }
   ],
   "source": [
    "base_model = EfficientNetB5(include_top = False ,weights='imagenet', pooling='avg')\n",
    "\n",
    "#todo introduce a layer of data augmentation \n",
    "\n",
    "# Introduce a layer of data augmentation\n",
    "data_augmentation = Sequential([\n",
    "   preprocessing.RandomRotation(0.2),\n",
    "    preprocessing.RandomFlip(\"horizontal\"),\n",
    "    preprocessing.RandomZoom(0.2),\n",
    "    preprocessing.RandomContrast(0.2),\n",
    "    preprocessing.RandomTranslation(0.2, 0.2),    \n",
    "])\n",
    "\n",
    "\n",
    "\n",
    "# Freeze all layers in the base model\n",
    "for layer in base_model.layers:\n",
    "    layer.trainable = False\n",
    "\n",
    "# Unfreeze the last 10 layers in the base model for fine-tuning\n",
    "\n",
    "for layer in base_model.layers[-10:]:\n",
    "    layer.trainable = True\n",
    "\n",
    "#Capa de entradas. No se si eficientnet ya espera 225x225 o es 224 x 224. En realidad la efficient net ya tiene un parametro de input shape...\n",
    "# Capa de entradas\n",
    "\n",
    "entradas = layers.Input((255, 255, 3))\n",
    "\n",
    "# Apply data augmentation to the input images\n",
    "x = data_augmentation(entradas)\n",
    "\n",
    "\n",
    "# Pass the augmented images through the base model\n",
    "x = base_model(x)\n",
    "\n",
    "\n",
    "# Add a dense layer\n",
    "x = layers.Dense(512, activation='relu')(x)\n",
    "# Add another dense layer\n",
    "salidas = layers.Dense(3, activation='softmax')(x)\n",
    "\n",
    "modelo = Model(inputs = entradas, outputs = salidas)\n",
    "\n",
    "modelo.compile(optimizer = 'adam', loss = 'sparse_categorical_crossentropy', metrics = ['accuracy'])\n",
    "modelo.summary()\n",
    "\n",
    "\n"
   ]
  },
  {
   "cell_type": "code",
   "execution_count": 27,
   "metadata": {},
   "outputs": [
    {
     "name": "stdout",
     "output_type": "stream",
     "text": [
      "Number of parameters: 29564154\n"
     ]
    }
   ],
   "source": [
    "num_params = modelo.count_params()\n",
    "print(\"Number of parameters:\", num_params)\n",
    "\n"
   ]
  },
  {
   "cell_type": "code",
   "execution_count": 28,
   "metadata": {},
   "outputs": [],
   "source": [
    "folder_date = 'old_models/' +  datetime.now().strftime(\"%Y_%m_%d-%I_%M_%S_%p\")\n",
    "os.mkdir(folder_date)\n",
    "filepath_model = folder_date + '/my_best_model.epoch{epoch:02d}-loss{val_loss:.2f}.hdf5'\n"
   ]
  },
  {
   "attachments": {},
   "cell_type": "markdown",
   "metadata": {},
   "source": [
    "# Callbacks"
   ]
  },
  {
   "cell_type": "code",
   "execution_count": 29,
   "metadata": {},
   "outputs": [],
   "source": [
    "model_checkpoint_callback = tf.keras.callbacks.ModelCheckpoint(\n",
    "filepath=filepath_model,\n",
    "save_weights_only=False,\n",
    "monitor='val_accuracy',\n",
    "mode='max',\n",
    "save_freq=\"epoch\",\n",
    "save_best_only=True)"
   ]
  },
  {
   "cell_type": "code",
   "execution_count": 30,
   "metadata": {},
   "outputs": [],
   "source": [
    "early_stopping = tf.keras.callbacks.EarlyStopping(monitor='val_loss', patience=4, mode='auto', verbose = 1, )"
   ]
  },
  {
   "attachments": {},
   "cell_type": "markdown",
   "metadata": {},
   "source": [
    "## Para hacer un training con weights"
   ]
  },
  {
   "cell_type": "code",
   "execution_count": 31,
   "metadata": {},
   "outputs": [],
   "source": [
    "\n",
    "# # Calculate class weights\n",
    "# # class_weights = tf.class_weight.compute_class_weight('balanced', tf.unique(train_ds.labels)[0], train_ds.labels)\n",
    "\n",
    "# # Convert class weights to dictionary\n",
    "# # class_weights_dict = {i: weight for i, weight in enumerate(class_weights)}\n",
    "\n",
    "# # history = modelo.fit(\n",
    "# #     train_ds, epochs=epochs, validation_data=val_ds, callbacks=[model_checkpoint_callback], class_weight=class_weights_dict\n",
    "# # )"
   ]
  },
  {
   "cell_type": "code",
   "execution_count": 32,
   "metadata": {},
   "outputs": [
    {
     "name": "stdout",
     "output_type": "stream",
     "text": [
      "Epoch 1/80\n",
      "187/187 [==============================] - 407s 2s/step - loss: 0.2164 - accuracy: 0.9143 - val_loss: 0.2505 - val_accuracy: 0.9007\n"
     ]
    },
    {
     "name": "stderr",
     "output_type": "stream",
     "text": [
      "c:\\Users\\diosdadj\\Anaconda3\\envs\\ml\\lib\\site-packages\\keras\\utils\\generic_utils.py:494: CustomMaskWarning: Custom mask layers require a config and must override get_config. When loading, the custom mask layer must be passed to the custom_objects argument.\n",
      "  warnings.warn('Custom mask layers require a config and must override '\n"
     ]
    },
    {
     "name": "stdout",
     "output_type": "stream",
     "text": [
      "Epoch 2/80\n",
      "187/187 [==============================] - 370s 2s/step - loss: 0.1446 - accuracy: 0.9425 - val_loss: 0.1894 - val_accuracy: 0.9202\n",
      "Epoch 3/80\n",
      "187/187 [==============================] - 287s 2s/step - loss: 0.1216 - accuracy: 0.9525 - val_loss: 0.0760 - val_accuracy: 0.9755\n",
      "Epoch 4/80\n",
      "187/187 [==============================] - 249s 1s/step - loss: 0.1097 - accuracy: 0.9570 - val_loss: 0.0788 - val_accuracy: 0.9738\n",
      "Epoch 5/80\n",
      "187/187 [==============================] - 249s 1s/step - loss: 0.0951 - accuracy: 0.9612 - val_loss: 0.0754 - val_accuracy: 0.9708\n",
      "Epoch 6/80\n",
      "187/187 [==============================] - 248s 1s/step - loss: 0.0852 - accuracy: 0.9676 - val_loss: 0.0741 - val_accuracy: 0.9638\n",
      "Epoch 7/80\n",
      "187/187 [==============================] - 261s 1s/step - loss: 0.0844 - accuracy: 0.9665 - val_loss: 0.0476 - val_accuracy: 0.9816\n",
      "Epoch 8/80\n",
      "187/187 [==============================] - 249s 1s/step - loss: 0.0822 - accuracy: 0.9690 - val_loss: 0.0404 - val_accuracy: 0.9826\n",
      "Epoch 9/80\n",
      "187/187 [==============================] - 249s 1s/step - loss: 0.0745 - accuracy: 0.9720 - val_loss: 0.0662 - val_accuracy: 0.9712\n",
      "Epoch 10/80\n",
      "187/187 [==============================] - 249s 1s/step - loss: 0.0700 - accuracy: 0.9745 - val_loss: 0.0496 - val_accuracy: 0.9805\n",
      "Epoch 11/80\n",
      "187/187 [==============================] - 249s 1s/step - loss: 0.0619 - accuracy: 0.9769 - val_loss: 0.1276 - val_accuracy: 0.9477\n",
      "Epoch 12/80\n",
      "187/187 [==============================] - 250s 1s/step - loss: 0.0680 - accuracy: 0.9748 - val_loss: 0.0681 - val_accuracy: 0.9722\n",
      "Epoch 13/80\n",
      "187/187 [==============================] - 249s 1s/step - loss: 0.0566 - accuracy: 0.9785 - val_loss: 0.0416 - val_accuracy: 0.9849\n",
      "Epoch 14/80\n",
      "187/187 [==============================] - 249s 1s/step - loss: 0.0511 - accuracy: 0.9818 - val_loss: 0.0261 - val_accuracy: 0.9913\n",
      "Epoch 15/80\n",
      "187/187 [==============================] - 249s 1s/step - loss: 0.0551 - accuracy: 0.9794 - val_loss: 0.0279 - val_accuracy: 0.9903\n",
      "Epoch 16/80\n",
      "187/187 [==============================] - 250s 1s/step - loss: 0.0548 - accuracy: 0.9805 - val_loss: 0.0357 - val_accuracy: 0.9873\n",
      "Epoch 17/80\n",
      "187/187 [==============================] - 250s 1s/step - loss: 0.0499 - accuracy: 0.9823 - val_loss: 0.0196 - val_accuracy: 0.9936\n",
      "Epoch 18/80\n",
      "187/187 [==============================] - 251s 1s/step - loss: 0.0490 - accuracy: 0.9826 - val_loss: 0.0325 - val_accuracy: 0.9886\n",
      "Epoch 19/80\n",
      "187/187 [==============================] - 251s 1s/step - loss: 0.0477 - accuracy: 0.9835 - val_loss: 0.0216 - val_accuracy: 0.9920\n",
      "Epoch 20/80\n",
      "187/187 [==============================] - 251s 1s/step - loss: 0.0425 - accuracy: 0.9837 - val_loss: 0.0174 - val_accuracy: 0.9936\n",
      "Epoch 21/80\n",
      "187/187 [==============================] - 250s 1s/step - loss: 0.0416 - accuracy: 0.9860 - val_loss: 0.0176 - val_accuracy: 0.9940\n",
      "Epoch 22/80\n",
      "187/187 [==============================] - 250s 1s/step - loss: 0.0422 - accuracy: 0.9842 - val_loss: 0.0157 - val_accuracy: 0.9936\n",
      "Epoch 23/80\n",
      "187/187 [==============================] - 250s 1s/step - loss: 0.0438 - accuracy: 0.9835 - val_loss: 0.0157 - val_accuracy: 0.9946\n",
      "Epoch 24/80\n",
      "187/187 [==============================] - 250s 1s/step - loss: 0.0412 - accuracy: 0.9848 - val_loss: 0.0230 - val_accuracy: 0.9916\n",
      "Epoch 25/80\n",
      "187/187 [==============================] - 250s 1s/step - loss: 0.0446 - accuracy: 0.9842 - val_loss: 0.0249 - val_accuracy: 0.9909\n",
      "Epoch 26/80\n",
      "187/187 [==============================] - 250s 1s/step - loss: 0.0356 - accuracy: 0.9863 - val_loss: 0.0204 - val_accuracy: 0.9930\n",
      "Epoch 27/80\n",
      "187/187 [==============================] - 250s 1s/step - loss: 0.0323 - accuracy: 0.9879 - val_loss: 0.0208 - val_accuracy: 0.9926\n",
      "Epoch 28/80\n",
      "187/187 [==============================] - 250s 1s/step - loss: 0.0413 - accuracy: 0.9856 - val_loss: 0.0247 - val_accuracy: 0.9926\n",
      "Epoch 29/80\n",
      "187/187 [==============================] - 250s 1s/step - loss: 0.0327 - accuracy: 0.9883 - val_loss: 0.0105 - val_accuracy: 0.9960\n",
      "Epoch 30/80\n",
      "187/187 [==============================] - 250s 1s/step - loss: 0.0371 - accuracy: 0.9867 - val_loss: 0.0225 - val_accuracy: 0.9916\n",
      "Epoch 31/80\n",
      "187/187 [==============================] - 250s 1s/step - loss: 0.0360 - accuracy: 0.9868 - val_loss: 0.0192 - val_accuracy: 0.9923\n",
      "Epoch 32/80\n",
      "187/187 [==============================] - 250s 1s/step - loss: 0.0351 - accuracy: 0.9882 - val_loss: 0.0146 - val_accuracy: 0.9930\n",
      "Epoch 33/80\n",
      "187/187 [==============================] - 250s 1s/step - loss: 0.0342 - accuracy: 0.9872 - val_loss: 0.0104 - val_accuracy: 0.9960\n",
      "Epoch 34/80\n",
      "187/187 [==============================] - 249s 1s/step - loss: 0.0346 - accuracy: 0.9868 - val_loss: 0.0102 - val_accuracy: 0.9970\n",
      "Epoch 35/80\n",
      "187/187 [==============================] - 249s 1s/step - loss: 0.0322 - accuracy: 0.9879 - val_loss: 0.0154 - val_accuracy: 0.9943\n",
      "Epoch 36/80\n",
      "187/187 [==============================] - 250s 1s/step - loss: 0.0285 - accuracy: 0.9895 - val_loss: 0.0177 - val_accuracy: 0.9943\n",
      "Epoch 37/80\n",
      "187/187 [==============================] - 250s 1s/step - loss: 0.0307 - accuracy: 0.9890 - val_loss: 0.0169 - val_accuracy: 0.9943\n",
      "Epoch 38/80\n",
      "187/187 [==============================] - 250s 1s/step - loss: 0.0366 - accuracy: 0.9872 - val_loss: 0.0150 - val_accuracy: 0.9950\n",
      "Epoch 39/80\n",
      "187/187 [==============================] - 250s 1s/step - loss: 0.0287 - accuracy: 0.9894 - val_loss: 0.0081 - val_accuracy: 0.9977\n",
      "Epoch 40/80\n",
      "187/187 [==============================] - 249s 1s/step - loss: 0.0276 - accuracy: 0.9903 - val_loss: 0.0116 - val_accuracy: 0.9963\n",
      "Epoch 41/80\n",
      "187/187 [==============================] - 249s 1s/step - loss: 0.0254 - accuracy: 0.9917 - val_loss: 0.0068 - val_accuracy: 0.9970\n",
      "Epoch 42/80\n",
      "187/187 [==============================] - 250s 1s/step - loss: 0.0282 - accuracy: 0.9890 - val_loss: 0.0232 - val_accuracy: 0.9940\n",
      "Epoch 43/80\n",
      "187/187 [==============================] - 246s 1s/step - loss: 0.0304 - accuracy: 0.9904 - val_loss: 0.0136 - val_accuracy: 0.9953\n",
      "Epoch 44/80\n",
      "187/187 [==============================] - 245s 1s/step - loss: 0.0260 - accuracy: 0.9901 - val_loss: 0.0094 - val_accuracy: 0.9966\n",
      "Epoch 45/80\n",
      "187/187 [==============================] - 246s 1s/step - loss: 0.0318 - accuracy: 0.9878 - val_loss: 0.0117 - val_accuracy: 0.9960\n",
      "Epoch 46/80\n",
      "187/187 [==============================] - 245s 1s/step - loss: 0.0286 - accuracy: 0.9891 - val_loss: 0.0082 - val_accuracy: 0.9970\n",
      "Epoch 47/80\n",
      "187/187 [==============================] - 245s 1s/step - loss: 0.0277 - accuracy: 0.9898 - val_loss: 0.0162 - val_accuracy: 0.9950\n",
      "Epoch 48/80\n",
      "187/187 [==============================] - 245s 1s/step - loss: 0.0244 - accuracy: 0.9904 - val_loss: 0.0099 - val_accuracy: 0.9966\n",
      "Epoch 49/80\n",
      "187/187 [==============================] - 245s 1s/step - loss: 0.0286 - accuracy: 0.9900 - val_loss: 0.0164 - val_accuracy: 0.9956\n",
      "Epoch 50/80\n",
      "187/187 [==============================] - 246s 1s/step - loss: 0.0235 - accuracy: 0.9924 - val_loss: 0.0119 - val_accuracy: 0.9970\n",
      "Epoch 51/80\n",
      "187/187 [==============================] - 245s 1s/step - loss: 0.0242 - accuracy: 0.9918 - val_loss: 0.0152 - val_accuracy: 0.9943\n",
      "Epoch 52/80\n",
      "187/187 [==============================] - 245s 1s/step - loss: 0.0241 - accuracy: 0.9925 - val_loss: 0.0145 - val_accuracy: 0.9960\n",
      "Epoch 53/80\n",
      "187/187 [==============================] - 245s 1s/step - loss: 0.0252 - accuracy: 0.9917 - val_loss: 0.0127 - val_accuracy: 0.9946\n",
      "Epoch 54/80\n",
      "187/187 [==============================] - 245s 1s/step - loss: 0.0191 - accuracy: 0.9929 - val_loss: 0.0072 - val_accuracy: 0.9970\n",
      "Epoch 55/80\n",
      "187/187 [==============================] - 245s 1s/step - loss: 0.0210 - accuracy: 0.9924 - val_loss: 0.0054 - val_accuracy: 0.9980\n",
      "Epoch 56/80\n",
      "187/187 [==============================] - 245s 1s/step - loss: 0.0253 - accuracy: 0.9902 - val_loss: 0.0094 - val_accuracy: 0.9956\n",
      "Epoch 57/80\n",
      "187/187 [==============================] - 20711s 111s/step - loss: 0.0231 - accuracy: 0.9910 - val_loss: 0.0153 - val_accuracy: 0.9943\n",
      "Epoch 58/80\n",
      "187/187 [==============================] - 306s 2s/step - loss: 0.0209 - accuracy: 0.9930 - val_loss: 0.0093 - val_accuracy: 0.9973\n",
      "Epoch 59/80\n",
      "187/187 [==============================] - 265s 1s/step - loss: 0.0229 - accuracy: 0.9921 - val_loss: 0.0062 - val_accuracy: 0.9987\n",
      "Epoch 60/80\n",
      "187/187 [==============================] - 258s 1s/step - loss: 0.0255 - accuracy: 0.9918 - val_loss: 0.0075 - val_accuracy: 0.9980\n",
      "Epoch 61/80\n",
      "187/187 [==============================] - 255s 1s/step - loss: 0.0251 - accuracy: 0.9909 - val_loss: 0.0186 - val_accuracy: 0.9940\n",
      "Epoch 62/80\n",
      "187/187 [==============================] - 255s 1s/step - loss: 0.0250 - accuracy: 0.9915 - val_loss: 0.0237 - val_accuracy: 0.9909\n",
      "Epoch 63/80\n",
      "187/187 [==============================] - 258s 1s/step - loss: 0.0229 - accuracy: 0.9928 - val_loss: 0.0105 - val_accuracy: 0.9970\n",
      "Epoch 64/80\n",
      "187/187 [==============================] - 260s 1s/step - loss: 0.0254 - accuracy: 0.9909 - val_loss: 0.0086 - val_accuracy: 0.9970\n",
      "Epoch 65/80\n",
      "187/187 [==============================] - 259s 1s/step - loss: 0.0234 - accuracy: 0.9925 - val_loss: 0.0141 - val_accuracy: 0.9963\n",
      "Epoch 66/80\n",
      "187/187 [==============================] - 261s 1s/step - loss: 0.0198 - accuracy: 0.9930 - val_loss: 0.0125 - val_accuracy: 0.9956\n",
      "Epoch 67/80\n",
      "187/187 [==============================] - 266s 1s/step - loss: 0.0212 - accuracy: 0.9930 - val_loss: 0.0052 - val_accuracy: 0.9990\n",
      "Epoch 68/80\n",
      "187/187 [==============================] - 256s 1s/step - loss: 0.0177 - accuracy: 0.9930 - val_loss: 0.0070 - val_accuracy: 0.9983\n",
      "Epoch 69/80\n",
      "187/187 [==============================] - 267s 1s/step - loss: 0.0224 - accuracy: 0.9925 - val_loss: 0.0052 - val_accuracy: 0.9990\n",
      "Epoch 70/80\n",
      "187/187 [==============================] - 255s 1s/step - loss: 0.0191 - accuracy: 0.9929 - val_loss: 0.0051 - val_accuracy: 0.9983\n",
      "Epoch 71/80\n",
      "187/187 [==============================] - 258s 1s/step - loss: 0.0243 - accuracy: 0.9916 - val_loss: 0.0052 - val_accuracy: 0.9977\n",
      "Epoch 72/80\n",
      "187/187 [==============================] - 260s 1s/step - loss: 0.0201 - accuracy: 0.9931 - val_loss: 0.0066 - val_accuracy: 0.9973\n",
      "Epoch 73/80\n",
      "187/187 [==============================] - 259s 1s/step - loss: 0.0206 - accuracy: 0.9935 - val_loss: 0.0082 - val_accuracy: 0.9977\n",
      "Epoch 74/80\n",
      "187/187 [==============================] - 262s 1s/step - loss: 0.0192 - accuracy: 0.9930 - val_loss: 0.0083 - val_accuracy: 0.9970\n",
      "Epoch 75/80\n",
      "187/187 [==============================] - 257s 1s/step - loss: 0.0187 - accuracy: 0.9940 - val_loss: 0.0051 - val_accuracy: 0.9987\n",
      "Epoch 76/80\n",
      "187/187 [==============================] - 259s 1s/step - loss: 0.0202 - accuracy: 0.9931 - val_loss: 0.0059 - val_accuracy: 0.9973\n",
      "Epoch 77/80\n",
      "187/187 [==============================] - 257s 1s/step - loss: 0.0173 - accuracy: 0.9939 - val_loss: 0.0066 - val_accuracy: 0.9983\n",
      "Epoch 78/80\n",
      "187/187 [==============================] - 266s 1s/step - loss: 0.0199 - accuracy: 0.9930 - val_loss: 0.0087 - val_accuracy: 0.9970\n",
      "Epoch 79/80\n",
      "187/187 [==============================] - 269s 1s/step - loss: 0.0176 - accuracy: 0.9942 - val_loss: 0.0067 - val_accuracy: 0.9966\n",
      "Epoch 80/80\n",
      "187/187 [==============================] - 264s 1s/step - loss: 0.0179 - accuracy: 0.9935 - val_loss: 0.0051 - val_accuracy: 0.9973\n",
      "47/47 [==============================] - 50s 1s/step - loss: 0.0051 - accuracy: 0.9973\n"
     ]
    }
   ],
   "source": [
    "# Start an MLflow run\n",
    "mlflow.start_run()\n",
    "\n",
    "mlflow.set_experiment('efficientnet_project_capstone')\n",
    "\n",
    "# Log the name of the dataset\n",
    "mlflow.log_param(\"dataset_name\", dataset_name)\n",
    "\n",
    "# Log the number of samples in the dataset\n",
    "#   mlflow.log_param(\"num_samples_train\", num_train_samples)\n",
    "#   mlflow.log_param(\"num_samples_train\", num_val_samples)\n",
    "\n",
    "epochs = 80\n",
    "history = modelo.fit(\n",
    "    train_ds, epochs=epochs, validation_data=val_ds, callbacks=[model_checkpoint_callback]\n",
    ")\n",
    " \n",
    "# Evaluate the model\n",
    "loss, accuracy = modelo.evaluate(val_ds)\n",
    "\n",
    "#Logging\n",
    "\n",
    "\n",
    "mlflow.log_param(\"epochs\", epochs)\n",
    "mlflow.log_param(\"batch_size\", batch_size)\n",
    "\n",
    "mlflow.log_param(\"parameters\", num_params)\n",
    "\n",
    "mlflow.log_metric(\"val_loss\", loss)\n",
    "mlflow.log_metric(\"val_accuracy\", accuracy)\n",
    "\n",
    "\n"
   ]
  },
  {
   "cell_type": "code",
   "execution_count": 33,
   "metadata": {},
   "outputs": [],
   "source": [
    "#Guardo el modelo en la última epoch. Esto \n",
    "modelo.save(folder_date + '/modelo_entrenado.h5')\n"
   ]
  },
  {
   "cell_type": "code",
   "execution_count": 34,
   "metadata": {},
   "outputs": [
    {
     "name": "stdout",
     "output_type": "stream",
     "text": [
      "dict_keys(['loss', 'accuracy', 'val_loss', 'val_accuracy'])\n"
     ]
    }
   ],
   "source": [
    "history\n",
    "print(history.history.keys())"
   ]
  },
  {
   "cell_type": "code",
   "execution_count": 35,
   "metadata": {},
   "outputs": [
    {
     "data": {
      "text/plain": [
       "'old_models/2023_05_31-11_47_46_PM/accuracy.png'"
      ]
     },
     "execution_count": 35,
     "metadata": {},
     "output_type": "execute_result"
    }
   ],
   "source": [
    "folder_date + \"/accuracy.png\""
   ]
  },
  {
   "cell_type": "code",
   "execution_count": 36,
   "metadata": {},
   "outputs": [
    {
     "name": "stdout",
     "output_type": "stream",
     "text": [
      "dict_keys(['loss', 'accuracy', 'val_loss', 'val_accuracy'])\n"
     ]
    },
    {
     "data": {
      "image/png": "[encoded data removed]",
      "text/plain": [
       "<Figure size 432x288 with 1 Axes>"
      ]
     },
     "metadata": {
      "needs_background": "light"
     },
     "output_type": "display_data"
    },
    {
     "data": {
      "image/png": "[encoded data removed]",
      "text/plain": [
       "<Figure size 432x288 with 1 Axes>"
      ]
     },
     "metadata": {
      "needs_background": "light"
     },
     "output_type": "display_data"
    }
   ],
   "source": [
    "print(history.history.keys())\n",
    "\n",
    "#  \"Accuracy\"\n",
    "plt.plot(history.history['accuracy'])\n",
    "plt.plot(history.history['val_accuracy'])\n",
    "plt.title('model accuracy')\n",
    "plt.ylabel('accuracy')\n",
    "plt.xlabel('epoch')\n",
    "plt.legend(['train', 'validation'], loc='upper left')\n",
    "\n",
    "plt.text(len(history.history['accuracy'])-1, history.history['accuracy'][-1], \n",
    "         f\"Acc: {history.history['accuracy'][-1]:.4f}\", ha='center', va='bottom')\n",
    "plt.text(len(history.history['val_accuracy'])-1, history.history['val_accuracy'][-1], \n",
    "         f\"Val Acc: {history.history['val_accuracy'][-1]:.4f}\", ha='center', va='top')\n",
    "\n",
    "\n",
    "plt.savefig(folder_date + \"/accuracy.png\")\n",
    "plt.show()\n",
    "\n",
    "# \"Loss\"\n",
    "plt.plot(history.history['loss'])\n",
    "plt.plot(history.history['val_loss'])\n",
    "plt.title('model loss')\n",
    "plt.ylabel('loss')\n",
    "plt.xlabel('epoch')\n",
    "plt.legend(['train', 'validation'], loc='upper left')\n",
    "\n",
    "plt.text(len(history.history['loss'])-1, history.history['loss'][-1], \n",
    "         f\"Loss: {history.history['loss'][-1]:.4f}\", ha='center', va='bottom')\n",
    "plt.text(len(history.history['val_loss'])-1, history.history['val_loss'][-1], \n",
    "         f\"Val Loss: {history.history['val_loss'][-1]:.4f}\", ha='center', va='top')\n",
    "\n",
    "\n",
    "plt.savefig(folder_date + \"/loss.png\")\n",
    "plt.show()\n",
    "\n",
    "\n",
    "\n"
   ]
  },
  {
   "attachments": {},
   "cell_type": "markdown",
   "metadata": {},
   "source": [
    "Preguntas, cómo puedo gestionar datos que vienen de dos distribuciones distintas?\n",
    "\n"
   ]
  },
  {
   "attachments": {},
   "cell_type": "markdown",
   "metadata": {},
   "source": [
    "# This is a section to evaluate the model on te test data"
   ]
  },
  {
   "cell_type": "code",
   "execution_count": 38,
   "metadata": {},
   "outputs": [
    {
     "name": "stdout",
     "output_type": "stream",
     "text": [
      "[0, 0, 0, 0, 0, 0, 0, 0, 0, 0, 0, 0, 0, 0, 0, 0, 2, 0, 0, 0, 0, 0, 0, 0, 0, 0, 0, 0, 0, 0, 1, 1, 1, 1, 1, 1, 1, 1, 1, 1, 1, 1, 1, 1, 1, 1, 1, 1, 1, 1, 1, 1, 1, 0, 1, 1, 1, 1, 1, 1, 2, 2, 2, 2, 2, 2, 2, 2, 2, 2, 2, 2, 2, 2, 2, 2, 2, 2, 2, 2, 2, 2, 2, 2, 2, 2, 2, 2, 2, 2]\n",
      "[0, 0, 0, 0, 0, 0, 0, 0, 0, 0, 0, 0, 0, 0, 0, 0, 0, 0, 0, 0, 0, 0, 0, 0, 0, 0, 0, 0, 0, 0, 1, 1, 1, 1, 1, 1, 1, 1, 1, 1, 1, 1, 1, 1, 1, 1, 1, 1, 1, 1, 1, 1, 1, 1, 1, 1, 1, 1, 1, 1, 2, 2, 2, 2, 2, 2, 2, 2, 2, 2, 2, 2, 2, 2, 2, 2, 2, 2, 2, 2, 2, 2, 2, 2, 2, 2, 2, 2, 2, 2]\n"
     ]
    },
    {
     "data": {
      "image/png": "[encoded data removed]",
      "text/plain": [
       "<Figure size 432x288 with 2 Axes>"
      ]
     },
     "metadata": {
      "needs_background": "light"
     },
     "output_type": "display_data"
    },
    {
     "name": "stdout",
     "output_type": "stream",
     "text": [
      "Precision: 0.9781362007168458\n",
      "Recall: 0.9777777777777777\n",
      "Accuracy: 0.9777777777777777\n"
     ]
    }
   ],
   "source": [
    "# Load the test images from the folder 'test_images'\n",
    "predicted_labels= []\n",
    "true_labels = []\n",
    "\n",
    "label_mapping = {\n",
    "    'aca': 0,\n",
    "    'nor': 1,\n",
    "    'scc': 2\n",
    "}\n",
    "\n",
    "\n",
    "directory = \"test_set_public\"\n",
    "for filename in os.listdir(directory):\n",
    "\n",
    "    # Load the image and add it to the list of test images\n",
    "    f = os.path.join(directory, filename)\n",
    "    imagen = tf.keras.preprocessing.image.load_img(f, target_size=(255,255))\n",
    "    x = tf.keras.preprocessing.image.img_to_array(imagen)    \n",
    "    x = np.expand_dims(x, axis=0)\n",
    "\n",
    "    prediction = modelo.predict(x)\n",
    "    predicted_class = np.argmax(prediction)\n",
    "\n",
    "    #True labels are calculated based on name. It is a very weak way of doing it. Look for a better one or rename the files\n",
    "\n",
    "    if 'aca' in filename or 'lungaca' in filename:\n",
    "        true_labels.append(0)\n",
    "    elif 'scc' in filename or 'lungscc' in filename:\n",
    "        true_labels.append(2)\n",
    "    elif 'nor' in filename or 'lungn' in filename:\n",
    "        true_labels.append(1)\n",
    "   \n",
    "    \n",
    "\n",
    "    predicted_labels.append(predicted_class)\n",
    "\n",
    "print(predicted_labels)\n",
    "print(true_labels)\n",
    "\n",
    "\n",
    "cm = confusion_matrix(true_labels, predicted_labels)\n",
    "labels = [label for label, _ in sorted(label_mapping.items(), key=lambda x: x[1])]\n",
    "disp = ConfusionMatrixDisplay(confusion_matrix=cm, display_labels=labels)\n",
    "disp.plot()\n",
    "\n",
    "plt.title(directory,  fontdict={'fontsize': 16})  # Set the new title for the plot\n",
    "plt.show()\n",
    "\n",
    "\n",
    "# Calculate precision, recall, and accuracy\n",
    "precision = precision_score(true_labels, predicted_labels, average='weighted')\n",
    "recall = recall_score(true_labels, predicted_labels, average='weighted')\n",
    "accuracy = accuracy_score(true_labels, predicted_labels)\n",
    "\n",
    "# Print the results\n",
    "print(\"Precision:\", precision)\n",
    "print(\"Recall:\", recall)\n",
    "print(\"Accuracy:\", accuracy)\n",
    "\n",
    "mlflow.log_metric(\"Precision\", precision)\n",
    "mlflow.log_metric(\"Recall\", recall)\n",
    "mlflow.log_metric(\"Accuracy\", accuracy)\n",
    "\n",
    "mlflow.end_run()\n",
    "\n"
   ]
  },
  {
   "attachments": {},
   "cell_type": "markdown",
   "metadata": {},
   "source": [
    "#Predice mal en las muestras de Henar. Veremos con el nuevo dataset, pero quizá haya que hacer un training con peso Opciones:\n",
    "\n",
    "Undersample the larger distribution: randomly remove examples from the larger distribution until it matches the size of the smaller one.\n",
    "\n",
    "Oversample the smaller distribution: randomly duplicate examples from the smaller distribution until it matches the size of the larger one.\n",
    "\n",
    "Data augmentation: generate new examples from the smaller distribution using techniques like rotation, flipping, or zooming.\n",
    "\n",
    "Use class weights: adjust the loss function of your CNN to assign higher weights to the smaller distribution so that it receives more emphasis during training.\n",
    "\n",
    "Fine-tuning: you could use a pre-trained model to initialize the weights and only fine-tune the last few layers to fit the imbalanced data."
   ]
  },
  {
   "cell_type": "code",
   "execution_count": 41,
   "metadata": {},
   "outputs": [
    {
     "name": "stdout",
     "output_type": "stream",
     "text": [
      "[2, 2, 2, 0, 2, 2, 0, 0, 0, 1, 0, 0, 2, 0, 0, 0, 0, 0, 2, 2, 0, 0, 2, 0, 0, 0, 0, 0, 0, 2, 2, 2, 0, 2, 0, 0, 0, 0, 0, 0, 0, 0, 0, 0, 0, 0, 0, 0, 0, 0, 2, 0, 0, 0, 2, 0, 2, 0, 0, 2, 0, 1, 1, 1, 1, 0, 0, 1, 1, 1, 2, 1, 0, 1, 0, 0, 0, 0, 0, 0, 2, 0, 0, 1, 1, 0, 0, 2, 1, 0, 1, 0, 0, 0, 1, 2, 0, 0, 0, 2, 0, 1, 1, 0, 0, 2, 2, 0, 1, 2, 0, 2, 0, 0, 0, 2, 2, 2, 2, 0, 2, 2, 2, 2, 2, 2, 0, 2, 2, 2, 2, 2, 2, 2, 0, 0, 0, 0, 2, 0, 2, 2, 2, 2, 0, 0, 0, 0, 0, 2, 2, 2, 0, 0, 2, 2]\n",
      "[0, 0, 0, 0, 0, 0, 0, 0, 0, 0, 0, 0, 0, 0, 0, 0, 0, 0, 0, 0, 0, 0, 0, 0, 0, 0, 0, 0, 0, 0, 0, 0, 0, 0, 0, 0, 0, 0, 0, 0, 0, 0, 0, 0, 0, 0, 0, 0, 0, 0, 0, 0, 0, 0, 0, 0, 0, 0, 0, 0, 1, 1, 1, 1, 1, 1, 1, 1, 1, 1, 1, 1, 1, 1, 1, 1, 1, 1, 1, 1, 1, 1, 1, 1, 1, 1, 1, 1, 1, 1, 1, 1, 1, 1, 1, 1, 1, 1, 1, 1, 1, 1, 1, 1, 1, 1, 1, 1, 1, 1, 1, 1, 1, 1, 1, 1, 2, 2, 2, 2, 2, 2, 2, 2, 2, 2, 2, 2, 2, 2, 2, 2, 2, 2, 2, 2, 2, 2, 2, 2, 2, 2, 2, 2, 2, 2, 2, 2, 2, 2, 2, 2, 2, 2, 2, 2]\n"
     ]
    },
    {
     "data": {
      "image/png": "[encoded data removed]",
      "text/plain": [
       "<Figure size 432x288 with 2 Axes>"
      ]
     },
     "metadata": {
      "needs_background": "light"
     },
     "output_type": "display_data"
    },
    {
     "name": "stdout",
     "output_type": "stream",
     "text": [
      "Precision: 0.6548627514221299\n",
      "Recall: 0.5448717948717948\n",
      "Accuracy: 0.5448717948717948\n"
     ]
    }
   ],
   "source": [
    "# Load the test images from the folder 'test_images'\n",
    "predicted_labels= []\n",
    "true_labels = []\n",
    "\n",
    "label_mapping = {\n",
    "    'aca': 0,\n",
    "    'nor': 1,\n",
    "    'scc': 2\n",
    "}\n",
    "\n",
    "\n",
    "directory = \"test_set_private\"\n",
    "for filename in os.listdir(directory):\n",
    "\n",
    "    # Load the image and add it to the list of test images\n",
    "    f = os.path.join(directory, filename)\n",
    "    imagen = tf.keras.preprocessing.image.load_img(f, target_size=(255,255))\n",
    "    x = tf.keras.preprocessing.image.img_to_array(imagen)    \n",
    "    x = np.expand_dims(x, axis=0)\n",
    "\n",
    "    prediction = modelo.predict(x)\n",
    "    predicted_class = np.argmax(prediction)\n",
    "\n",
    "    #True labels are calculated based on name. It is a very weak way of doing it. Look for a better one or rename the files\n",
    "\n",
    "    if 'aca' in filename or 'lungaca' in filename:\n",
    "        true_labels.append(0)\n",
    "    elif 'scc' in filename or 'lungscc' in filename:\n",
    "        true_labels.append(2)\n",
    "    elif 'nor' in filename or 'lungn' in filename:\n",
    "        true_labels.append(1)\n",
    "   \n",
    "    \n",
    "\n",
    "    predicted_labels.append(predicted_class)\n",
    "\n",
    "print(predicted_labels)\n",
    "print(true_labels)\n",
    "\n",
    "\n",
    "cm = confusion_matrix(true_labels, predicted_labels)\n",
    "labels = [label for label, _ in sorted(label_mapping.items(), key=lambda x: x[1])]\n",
    "disp = ConfusionMatrixDisplay(confusion_matrix=cm, display_labels=labels)\n",
    "disp.plot()\n",
    "\n",
    "plt.title(directory,  fontdict={'fontsize': 16})  # Set the new title for the plot\n",
    "plt.show()\n",
    "\n",
    "\n",
    "# Calculate precision, recall, and accuracy\n",
    "precision = precision_score(true_labels, predicted_labels, average='weighted')\n",
    "recall = recall_score(true_labels, predicted_labels, average='weighted')\n",
    "accuracy = accuracy_score(true_labels, predicted_labels)\n",
    "\n",
    "# Print the results\n",
    "print(\"Precision:\", precision)\n",
    "print(\"Recall:\", recall)\n",
    "print(\"Accuracy:\", accuracy)\n",
    "\n",
    "mlflow.log_metric(\"Precision\", precision)\n",
    "mlflow.log_metric(\"Recall\", recall)\n",
    "mlflow.log_metric(\"Accuracy\", accuracy)\n",
    "\n",
    "mlflow.end_run()\n",
    "\n",
    "\n"
   ]
  },
  {
   "cell_type": "code",
   "execution_count": null,
   "metadata": {},
   "outputs": [],
   "source": []
  },
  {
   "cell_type": "code",
   "execution_count": null,
   "metadata": {},
   "outputs": [],
   "source": []
  }
 ],
 "metadata": {
  "kernelspec": {
   "display_name": "ml",
   "language": "python",
   "name": "python3"
  },
  "language_info": {
   "codemirror_mode": {
    "name": "ipython",
    "version": 3
   },
   "file_extension": ".py",
   "mimetype": "text/x-python",
   "name": "python",
   "nbconvert_exporter": "python",
   "pygments_lexer": "ipython3",
   "version": "3.9.12"
  },
  "orig_nbformat": 4,
  "vscode": {
   "interpreter": {
    "hash": "fea903cc172cce62c6301ba3c7eecfb26209215bbdb6c0bb5db0de1694474dd0"
   }
  }
 },
 "nbformat": 4,
 "nbformat_minor": 2
}
