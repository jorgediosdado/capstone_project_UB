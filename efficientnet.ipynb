{
 "cells": [
  {
   "cell_type": "code",
   "execution_count": 3,
   "metadata": {},
   "outputs": [],
   "source": [
    "import os\n",
    "import tensorflow as tf\n",
    "from keras import models\n",
    "from keras import layers\n",
    "from keras import Sequential\n",
    "from datetime import datetime\n",
    "from PIL import Image\n",
    "import numpy as np\n",
    "import keras.backend as K\n",
    "import matplotlib.pyplot as plt\n",
    "import mlflow\n",
    "from tensorflow.keras.layers.experimental import preprocessing\n",
    "from tensorflow.keras.applications import EfficientNetB5\n",
    "from tensorflow.keras.utils import plot_model\n",
    "from matplotlib import pyplot as plt\n",
    "from keras.models import Model\n",
    "from sklearn.metrics import confusion_matrix, ConfusionMatrixDisplay, precision_score, recall_score, accuracy_score\n"
   ]
  },
  {
   "cell_type": "code",
   "execution_count": 4,
   "metadata": {},
   "outputs": [],
   "source": [
    "dataset_name = \"new_private_dataset\"\n",
    "batch_size = 64"
   ]
  },
  {
   "cell_type": "code",
   "execution_count": 5,
   "metadata": {},
   "outputs": [
    {
     "name": "stdout",
     "output_type": "stream",
     "text": [
      "Found 1267 files belonging to 3 classes.\n",
      "Using 1014 files for training.\n",
      "Found 1267 files belonging to 3 classes.\n",
      "Using 253 files for validation.\n"
     ]
    }
   ],
   "source": [
    "# Load the dataset\n",
    "\n",
    "image_size = (255, 255)\n",
    "\n",
    "train_ds = tf.keras.preprocessing.image_dataset_from_directory(\n",
    "    dataset_name,\n",
    "    validation_split=0.2,\n",
    "    subset=\"training\",\n",
    "    label_mode = 'int',\n",
    "    labels = 'inferred',\n",
    "    seed=1336,\n",
    "    image_size=image_size,\n",
    "    interpolation = 'bilinear',\n",
    "    batch_size=batch_size,\n",
    "    shuffle = True,\n",
    ")\n",
    "\n",
    "\n",
    "val_ds = tf.keras.preprocessing.image_dataset_from_directory(\n",
    "    dataset_name,\n",
    "    validation_split=0.2,\n",
    "    subset=\"validation\",\n",
    "    label_mode = 'int',\n",
    "    labels = 'inferred',\n",
    "    seed=1336,\n",
    "    image_size=image_size,\n",
    "    interpolation = 'bilinear',\n",
    "    batch_size=batch_size,\n",
    "    shuffle = True,\n",
    ")\n"
   ]
  },
  {
   "cell_type": "code",
   "execution_count": 6,
   "metadata": {},
   "outputs": [],
   "source": [
    "# Obtain the number of samples\n",
    "num_train_samples = 0\n",
    "for images, labels in train_ds:\n",
    "    num_train_samples += images.shape[0]\n",
    "\n",
    "num_val_samples = 0\n",
    "for images, labels in val_ds:\n",
    "    num_val_samples += images.shape[0]\n",
    "\n",
    "\n"
   ]
  },
  {
   "cell_type": "code",
   "execution_count": 7,
   "metadata": {},
   "outputs": [
    {
     "name": "stdout",
     "output_type": "stream",
     "text": [
      "Number of training samples: 1014\n",
      "Number of validation samples: 253\n"
     ]
    }
   ],
   "source": [
    "print(\"Number of training samples:\", num_train_samples)\n",
    "print(\"Number of validation samples:\", num_val_samples)\n"
   ]
  },
  {
   "cell_type": "code",
   "execution_count": 8,
   "metadata": {},
   "outputs": [],
   "source": [
    "imput = (255,255,3)"
   ]
  },
  {
   "cell_type": "code",
   "execution_count": 9,
   "metadata": {},
   "outputs": [
    {
     "name": "stdout",
     "output_type": "stream",
     "text": [
      "Model: \"model\"\n",
      "_________________________________________________________________\n",
      "Layer (type)                 Output Shape              Param #   \n",
      "=================================================================\n",
      "input_2 (InputLayer)         [(None, 255, 255, 3)]     0         \n",
      "_________________________________________________________________\n",
      "sequential (Sequential)      (None, 255, 255, 3)       0         \n",
      "_________________________________________________________________\n",
      "efficientnetb5 (Functional)  (None, 2048)              28513527  \n",
      "_________________________________________________________________\n",
      "dense (Dense)                (None, 512)               1049088   \n",
      "_________________________________________________________________\n",
      "dense_1 (Dense)              (None, 3)                 1539      \n",
      "=================================================================\n",
      "Total params: 29,564,154\n",
      "Trainable params: 4,073,475\n",
      "Non-trainable params: 25,490,679\n",
      "_________________________________________________________________\n"
     ]
    }
   ],
   "source": [
    "base_model = EfficientNetB5(include_top = False ,weights='imagenet', pooling='avg')\n",
    "\n",
    "#todo introduce a layer of data augmentation \n",
    "\n",
    "# Introduce a layer of data augmentation\n",
    "data_augmentation = Sequential([\n",
    "   preprocessing.RandomRotation(0.2),\n",
    "    preprocessing.RandomFlip(\"horizontal\"),\n",
    "    preprocessing.RandomZoom(0.2),\n",
    "    preprocessing.RandomContrast(0.2),\n",
    "    preprocessing.RandomTranslation(0.2, 0.2),    \n",
    "])\n",
    "\n",
    "\n",
    "\n",
    "# Freeze all layers in the base model\n",
    "for layer in base_model.layers:\n",
    "    layer.trainable = False\n",
    "\n",
    "# Unfreeze the last 10 layers in the base model for fine-tuning\n",
    "\n",
    "for layer in base_model.layers[-10:]:\n",
    "    layer.trainable = True\n",
    "\n",
    "#Capa de entradas. No se si eficientnet ya espera 225x225 o es 224 x 224. En realidad la efficient net ya tiene un parametro de input shape...\n",
    "# Capa de entradas\n",
    "\n",
    "entradas = layers.Input((255, 255, 3))\n",
    "\n",
    "# Apply data augmentation to the input images\n",
    "x = data_augmentation(entradas)\n",
    "\n",
    "\n",
    "# Pass the augmented images through the base model\n",
    "x = base_model(x)\n",
    "\n",
    "\n",
    "# Add a dense layer\n",
    "x = layers.Dense(512, activation='relu')(x)\n",
    "# Add another dense layer\n",
    "salidas = layers.Dense(3, activation='softmax')(x)\n",
    "\n",
    "modelo = Model(inputs = entradas, outputs = salidas)\n",
    "\n",
    "modelo.compile(optimizer = 'adam', loss = 'sparse_categorical_crossentropy', metrics = ['accuracy'])\n",
    "modelo.summary()\n",
    "\n",
    "\n"
   ]
  },
  {
   "cell_type": "code",
   "execution_count": 10,
   "metadata": {},
   "outputs": [
    {
     "name": "stdout",
     "output_type": "stream",
     "text": [
      "Number of parameters: 29564154\n"
     ]
    }
   ],
   "source": [
    "num_params = modelo.count_params()\n",
    "print(\"Number of parameters:\", num_params)\n",
    "\n"
   ]
  },
  {
   "cell_type": "code",
   "execution_count": 11,
   "metadata": {},
   "outputs": [],
   "source": [
    "folder_date = 'old_models/' +  datetime.now().strftime(\"%Y_%m_%d-%I_%M_%S_%p\")\n",
    "os.mkdir(folder_date)\n",
    "filepath_model = folder_date + '/my_best_model.epoch{epoch:02d}-loss{val_loss:.2f}.hdf5'\n"
   ]
  },
  {
   "attachments": {},
   "cell_type": "markdown",
   "metadata": {},
   "source": [
    "# Callbacks"
   ]
  },
  {
   "cell_type": "code",
   "execution_count": 12,
   "metadata": {},
   "outputs": [],
   "source": [
    "model_checkpoint_callback = tf.keras.callbacks.ModelCheckpoint(\n",
    "filepath=filepath_model,\n",
    "save_weights_only=False,\n",
    "monitor='val_accuracy',\n",
    "mode='max',\n",
    "save_freq=\"epoch\",\n",
    "save_best_only=True)"
   ]
  },
  {
   "cell_type": "code",
   "execution_count": 13,
   "metadata": {},
   "outputs": [],
   "source": [
    "early_stopping = tf.keras.callbacks.EarlyStopping(monitor='val_loss', patience=4, mode='auto', verbose = 1, )"
   ]
  },
  {
   "attachments": {},
   "cell_type": "markdown",
   "metadata": {},
   "source": [
    "## Para hacer un training con weights"
   ]
  },
  {
   "cell_type": "code",
   "execution_count": 14,
   "metadata": {},
   "outputs": [],
   "source": [
    "\n",
    "# # Calculate class weights\n",
    "# # class_weights = tf.class_weight.compute_class_weight('balanced', tf.unique(train_ds.labels)[0], train_ds.labels)\n",
    "\n",
    "# # Convert class weights to dictionary\n",
    "# # class_weights_dict = {i: weight for i, weight in enumerate(class_weights)}\n",
    "\n",
    "# # history = modelo.fit(\n",
    "# #     train_ds, epochs=epochs, validation_data=val_ds, callbacks=[model_checkpoint_callback], class_weight=class_weights_dict\n",
    "# # )"
   ]
  },
  {
   "cell_type": "code",
   "execution_count": 15,
   "metadata": {},
   "outputs": [
    {
     "name": "stdout",
     "output_type": "stream",
     "text": [
      "Epoch 1/80\n",
      "16/16 [==============================] - 71s 3s/step - loss: 0.8901 - accuracy: 0.5937 - val_loss: 0.8203 - val_accuracy: 0.6957\n"
     ]
    },
    {
     "name": "stderr",
     "output_type": "stream",
     "text": [
      "c:\\Users\\diosdadj\\Anaconda3\\envs\\ml\\lib\\site-packages\\keras\\utils\\generic_utils.py:494: CustomMaskWarning: Custom mask layers require a config and must override get_config. When loading, the custom mask layer must be passed to the custom_objects argument.\n",
      "  warnings.warn('Custom mask layers require a config and must override '\n"
     ]
    },
    {
     "name": "stdout",
     "output_type": "stream",
     "text": [
      "Epoch 2/80\n",
      "16/16 [==============================] - 27s 2s/step - loss: 0.7529 - accuracy: 0.6677 - val_loss: 0.8001 - val_accuracy: 0.7115\n",
      "Epoch 3/80\n",
      "16/16 [==============================] - 28s 2s/step - loss: 0.6549 - accuracy: 0.7278 - val_loss: 0.5826 - val_accuracy: 0.7391\n",
      "Epoch 4/80\n",
      "16/16 [==============================] - 27s 2s/step - loss: 0.6106 - accuracy: 0.7475 - val_loss: 0.5556 - val_accuracy: 0.7708\n",
      "Epoch 5/80\n",
      "16/16 [==============================] - 26s 2s/step - loss: 0.5755 - accuracy: 0.7643 - val_loss: 0.6263 - val_accuracy: 0.7273\n",
      "Epoch 6/80\n",
      "16/16 [==============================] - 25s 2s/step - loss: 0.5355 - accuracy: 0.7781 - val_loss: 0.6260 - val_accuracy: 0.7747\n",
      "Epoch 7/80\n",
      "16/16 [==============================] - 25s 1s/step - loss: 0.5328 - accuracy: 0.7919 - val_loss: 0.4803 - val_accuracy: 0.7866\n",
      "Epoch 8/80\n",
      "16/16 [==============================] - 22s 1s/step - loss: 0.4835 - accuracy: 0.8028 - val_loss: 0.4820 - val_accuracy: 0.7945\n",
      "Epoch 9/80\n",
      "16/16 [==============================] - 21s 1s/step - loss: 0.4309 - accuracy: 0.8146 - val_loss: 0.4320 - val_accuracy: 0.8458\n",
      "Epoch 10/80\n",
      "16/16 [==============================] - 21s 1s/step - loss: 0.4503 - accuracy: 0.8185 - val_loss: 0.6004 - val_accuracy: 0.7628\n",
      "Epoch 11/80\n",
      "16/16 [==============================] - 21s 1s/step - loss: 0.4412 - accuracy: 0.7988 - val_loss: 0.6088 - val_accuracy: 0.7312\n",
      "Epoch 12/80\n",
      "16/16 [==============================] - 21s 1s/step - loss: 0.4366 - accuracy: 0.8264 - val_loss: 0.3670 - val_accuracy: 0.8538\n",
      "Epoch 13/80\n",
      "16/16 [==============================] - 21s 1s/step - loss: 0.3969 - accuracy: 0.8442 - val_loss: 0.4239 - val_accuracy: 0.8538\n",
      "Epoch 14/80\n",
      "16/16 [==============================] - 21s 1s/step - loss: 0.3785 - accuracy: 0.8550 - val_loss: 0.4347 - val_accuracy: 0.8340\n",
      "Epoch 15/80\n",
      "16/16 [==============================] - 21s 1s/step - loss: 0.3902 - accuracy: 0.8442 - val_loss: 0.4173 - val_accuracy: 0.8300\n",
      "Epoch 16/80\n",
      "16/16 [==============================] - 21s 1s/step - loss: 0.3953 - accuracy: 0.8333 - val_loss: 0.6436 - val_accuracy: 0.7787\n",
      "Epoch 17/80\n",
      "16/16 [==============================] - 21s 1s/step - loss: 0.3382 - accuracy: 0.8649 - val_loss: 0.5149 - val_accuracy: 0.8340\n",
      "Epoch 18/80\n",
      "16/16 [==============================] - 21s 1s/step - loss: 0.3715 - accuracy: 0.8452 - val_loss: 0.5158 - val_accuracy: 0.8221\n",
      "Epoch 19/80\n",
      "16/16 [==============================] - 21s 1s/step - loss: 0.3365 - accuracy: 0.8708 - val_loss: 0.4855 - val_accuracy: 0.8300\n",
      "Epoch 20/80\n",
      "16/16 [==============================] - 21s 1s/step - loss: 0.3411 - accuracy: 0.8669 - val_loss: 0.4685 - val_accuracy: 0.8142\n",
      "Epoch 21/80\n",
      "16/16 [==============================] - 21s 1s/step - loss: 0.3003 - accuracy: 0.8856 - val_loss: 0.3859 - val_accuracy: 0.8656\n",
      "Epoch 22/80\n",
      "16/16 [==============================] - 21s 1s/step - loss: 0.2935 - accuracy: 0.8895 - val_loss: 0.4070 - val_accuracy: 0.8577\n",
      "Epoch 23/80\n",
      "16/16 [==============================] - 21s 1s/step - loss: 0.3278 - accuracy: 0.8698 - val_loss: 0.4665 - val_accuracy: 0.8379\n",
      "Epoch 24/80\n",
      "16/16 [==============================] - 21s 1s/step - loss: 0.3117 - accuracy: 0.8728 - val_loss: 0.5163 - val_accuracy: 0.8419\n",
      "Epoch 25/80\n",
      "16/16 [==============================] - 21s 1s/step - loss: 0.3125 - accuracy: 0.8738 - val_loss: 0.4072 - val_accuracy: 0.8696\n",
      "Epoch 26/80\n",
      "16/16 [==============================] - 21s 1s/step - loss: 0.2937 - accuracy: 0.8836 - val_loss: 0.3405 - val_accuracy: 0.9012\n",
      "Epoch 27/80\n",
      "16/16 [==============================] - 21s 1s/step - loss: 0.3008 - accuracy: 0.8866 - val_loss: 0.5162 - val_accuracy: 0.8261\n",
      "Epoch 28/80\n",
      "16/16 [==============================] - 21s 1s/step - loss: 0.3012 - accuracy: 0.8826 - val_loss: 0.4953 - val_accuracy: 0.8340\n",
      "Epoch 29/80\n",
      "16/16 [==============================] - 21s 1s/step - loss: 0.3016 - accuracy: 0.8807 - val_loss: 0.5358 - val_accuracy: 0.8419\n",
      "Epoch 30/80\n",
      "16/16 [==============================] - 21s 1s/step - loss: 0.2600 - accuracy: 0.9004 - val_loss: 0.3655 - val_accuracy: 0.8656\n",
      "Epoch 31/80\n",
      "16/16 [==============================] - 21s 1s/step - loss: 0.2739 - accuracy: 0.8915 - val_loss: 0.3523 - val_accuracy: 0.8735\n",
      "Epoch 32/80\n",
      "16/16 [==============================] - 21s 1s/step - loss: 0.2540 - accuracy: 0.8994 - val_loss: 0.3085 - val_accuracy: 0.9130\n",
      "Epoch 33/80\n",
      "16/16 [==============================] - 21s 1s/step - loss: 0.2609 - accuracy: 0.8974 - val_loss: 0.4574 - val_accuracy: 0.8577\n",
      "Epoch 34/80\n",
      "16/16 [==============================] - 21s 1s/step - loss: 0.2432 - accuracy: 0.9132 - val_loss: 0.4472 - val_accuracy: 0.8498\n",
      "Epoch 35/80\n",
      "16/16 [==============================] - 21s 1s/step - loss: 0.2487 - accuracy: 0.9073 - val_loss: 0.3984 - val_accuracy: 0.8696\n",
      "Epoch 36/80\n",
      "16/16 [==============================] - 21s 1s/step - loss: 0.2545 - accuracy: 0.9063 - val_loss: 0.3694 - val_accuracy: 0.8656\n",
      "Epoch 37/80\n",
      "16/16 [==============================] - 21s 1s/step - loss: 0.2261 - accuracy: 0.9103 - val_loss: 0.3533 - val_accuracy: 0.8933\n",
      "Epoch 38/80\n",
      "16/16 [==============================] - 21s 1s/step - loss: 0.2683 - accuracy: 0.8994 - val_loss: 0.5193 - val_accuracy: 0.8340\n",
      "Epoch 39/80\n",
      "16/16 [==============================] - 21s 1s/step - loss: 0.2649 - accuracy: 0.9063 - val_loss: 0.3655 - val_accuracy: 0.8735\n",
      "Epoch 40/80\n",
      "16/16 [==============================] - 21s 1s/step - loss: 0.2425 - accuracy: 0.9162 - val_loss: 0.3610 - val_accuracy: 0.8656\n",
      "Epoch 41/80\n",
      "16/16 [==============================] - 21s 1s/step - loss: 0.2228 - accuracy: 0.9142 - val_loss: 0.3597 - val_accuracy: 0.9012\n",
      "Epoch 42/80\n",
      "16/16 [==============================] - 21s 1s/step - loss: 0.2214 - accuracy: 0.9122 - val_loss: 0.4283 - val_accuracy: 0.8458\n",
      "Epoch 43/80\n",
      "16/16 [==============================] - 21s 1s/step - loss: 0.2263 - accuracy: 0.9043 - val_loss: 0.4298 - val_accuracy: 0.8379\n",
      "Epoch 44/80\n",
      "16/16 [==============================] - 21s 1s/step - loss: 0.2581 - accuracy: 0.8915 - val_loss: 0.4020 - val_accuracy: 0.8696\n",
      "Epoch 45/80\n",
      "16/16 [==============================] - 21s 1s/step - loss: 0.2427 - accuracy: 0.9053 - val_loss: 0.3610 - val_accuracy: 0.8893\n",
      "Epoch 46/80\n",
      "16/16 [==============================] - 21s 1s/step - loss: 0.2571 - accuracy: 0.9034 - val_loss: 0.3721 - val_accuracy: 0.8735\n",
      "Epoch 47/80\n",
      "16/16 [==============================] - 21s 1s/step - loss: 0.2111 - accuracy: 0.9320 - val_loss: 0.3016 - val_accuracy: 0.8972\n",
      "Epoch 48/80\n",
      "16/16 [==============================] - 21s 1s/step - loss: 0.2321 - accuracy: 0.9172 - val_loss: 0.3297 - val_accuracy: 0.8854\n",
      "Epoch 49/80\n",
      "16/16 [==============================] - 21s 1s/step - loss: 0.1977 - accuracy: 0.9260 - val_loss: 0.3983 - val_accuracy: 0.8735\n",
      "Epoch 50/80\n",
      "16/16 [==============================] - 21s 1s/step - loss: 0.2274 - accuracy: 0.9211 - val_loss: 0.3770 - val_accuracy: 0.8696\n",
      "Epoch 51/80\n",
      "16/16 [==============================] - 21s 1s/step - loss: 0.2031 - accuracy: 0.9221 - val_loss: 0.3254 - val_accuracy: 0.8933\n",
      "Epoch 52/80\n",
      "16/16 [==============================] - 21s 1s/step - loss: 0.1976 - accuracy: 0.9290 - val_loss: 0.3592 - val_accuracy: 0.8617\n",
      "Epoch 53/80\n",
      "16/16 [==============================] - 21s 1s/step - loss: 0.2054 - accuracy: 0.9103 - val_loss: 0.3819 - val_accuracy: 0.8775\n",
      "Epoch 54/80\n",
      "16/16 [==============================] - 21s 1s/step - loss: 0.1969 - accuracy: 0.9250 - val_loss: 0.2968 - val_accuracy: 0.8972\n",
      "Epoch 55/80\n",
      "16/16 [==============================] - 21s 1s/step - loss: 0.1876 - accuracy: 0.9329 - val_loss: 0.3312 - val_accuracy: 0.9012\n",
      "Epoch 56/80\n",
      "16/16 [==============================] - 21s 1s/step - loss: 0.1871 - accuracy: 0.9320 - val_loss: 0.3600 - val_accuracy: 0.8893\n",
      "Epoch 57/80\n",
      "16/16 [==============================] - 21s 1s/step - loss: 0.1836 - accuracy: 0.9329 - val_loss: 0.4112 - val_accuracy: 0.8814\n",
      "Epoch 58/80\n",
      "16/16 [==============================] - 21s 1s/step - loss: 0.1621 - accuracy: 0.9389 - val_loss: 0.4166 - val_accuracy: 0.8854\n",
      "Epoch 59/80\n",
      "16/16 [==============================] - 21s 1s/step - loss: 0.1767 - accuracy: 0.9389 - val_loss: 0.5381 - val_accuracy: 0.8656\n",
      "Epoch 60/80\n",
      "16/16 [==============================] - 21s 1s/step - loss: 0.1744 - accuracy: 0.9379 - val_loss: 0.4054 - val_accuracy: 0.8656\n",
      "Epoch 61/80\n",
      "16/16 [==============================] - 21s 1s/step - loss: 0.1981 - accuracy: 0.9231 - val_loss: 0.4138 - val_accuracy: 0.8419\n",
      "Epoch 62/80\n",
      "16/16 [==============================] - 21s 1s/step - loss: 0.2167 - accuracy: 0.9201 - val_loss: 0.4044 - val_accuracy: 0.8656\n",
      "Epoch 63/80\n",
      "16/16 [==============================] - 21s 1s/step - loss: 0.1899 - accuracy: 0.9310 - val_loss: 0.3111 - val_accuracy: 0.8775\n",
      "Epoch 64/80\n",
      "16/16 [==============================] - 21s 1s/step - loss: 0.1687 - accuracy: 0.9320 - val_loss: 0.3846 - val_accuracy: 0.8617\n",
      "Epoch 65/80\n",
      "16/16 [==============================] - 21s 1s/step - loss: 0.1508 - accuracy: 0.9418 - val_loss: 0.4590 - val_accuracy: 0.8538\n",
      "Epoch 66/80\n",
      "16/16 [==============================] - 23s 1s/step - loss: 0.1876 - accuracy: 0.9250 - val_loss: 0.3478 - val_accuracy: 0.8814\n",
      "Epoch 67/80\n",
      "16/16 [==============================] - 23s 1s/step - loss: 0.1981 - accuracy: 0.9270 - val_loss: 0.4059 - val_accuracy: 0.8814\n",
      "Epoch 68/80\n",
      "16/16 [==============================] - 21s 1s/step - loss: 0.1868 - accuracy: 0.9270 - val_loss: 0.3812 - val_accuracy: 0.8775\n",
      "Epoch 69/80\n",
      "16/16 [==============================] - 21s 1s/step - loss: 0.1766 - accuracy: 0.9339 - val_loss: 0.3668 - val_accuracy: 0.8893\n",
      "Epoch 70/80\n",
      "16/16 [==============================] - 23s 1s/step - loss: 0.1825 - accuracy: 0.9241 - val_loss: 0.3088 - val_accuracy: 0.8814\n",
      "Epoch 71/80\n",
      "16/16 [==============================] - 22s 1s/step - loss: 0.1537 - accuracy: 0.9418 - val_loss: 0.3602 - val_accuracy: 0.8854\n",
      "Epoch 72/80\n",
      "16/16 [==============================] - 22s 1s/step - loss: 0.1573 - accuracy: 0.9389 - val_loss: 0.3927 - val_accuracy: 0.8735\n",
      "Epoch 73/80\n",
      "16/16 [==============================] - 21s 1s/step - loss: 0.1540 - accuracy: 0.9507 - val_loss: 0.4432 - val_accuracy: 0.8419\n",
      "Epoch 74/80\n",
      "16/16 [==============================] - 21s 1s/step - loss: 0.1902 - accuracy: 0.9241 - val_loss: 0.3391 - val_accuracy: 0.8656\n",
      "Epoch 75/80\n",
      "16/16 [==============================] - 21s 1s/step - loss: 0.1563 - accuracy: 0.9329 - val_loss: 0.3907 - val_accuracy: 0.8696\n",
      "Epoch 76/80\n",
      "16/16 [==============================] - 21s 1s/step - loss: 0.1686 - accuracy: 0.9408 - val_loss: 0.3820 - val_accuracy: 0.8893\n",
      "Epoch 77/80\n",
      "16/16 [==============================] - 22s 1s/step - loss: 0.1506 - accuracy: 0.9458 - val_loss: 0.3549 - val_accuracy: 0.8696\n",
      "Epoch 78/80\n",
      "16/16 [==============================] - 22s 1s/step - loss: 0.1695 - accuracy: 0.9467 - val_loss: 0.3857 - val_accuracy: 0.8893\n",
      "Epoch 79/80\n",
      "16/16 [==============================] - 23s 1s/step - loss: 0.1592 - accuracy: 0.9428 - val_loss: 0.4332 - val_accuracy: 0.8735\n",
      "Epoch 80/80\n",
      "16/16 [==============================] - 23s 1s/step - loss: 0.1656 - accuracy: 0.9379 - val_loss: 0.3103 - val_accuracy: 0.8933\n",
      "4/4 [==============================] - 4s 995ms/step - loss: 0.3103 - accuracy: 0.8933\n"
     ]
    }
   ],
   "source": [
    "# Start an MLflow run\n",
    "mlflow.start_run()\n",
    "\n",
    "mlflow.set_experiment('efficientnet_project_capstone')\n",
    "\n",
    "# Log the name of the dataset\n",
    "mlflow.log_param(\"dataset_name\", dataset_name)\n",
    "\n",
    "# Log the number of samples in the dataset\n",
    "#   mlflow.log_param(\"num_samples_train\", num_train_samples)\n",
    "#   mlflow.log_param(\"num_samples_train\", num_val_samples)\n",
    "\n",
    "epochs = 80\n",
    "history = modelo.fit(\n",
    "    train_ds, epochs=epochs, validation_data=val_ds, callbacks=[model_checkpoint_callback]\n",
    ")\n",
    " \n",
    "# Evaluate the model\n",
    "loss, accuracy = modelo.evaluate(val_ds)\n",
    "\n",
    "#Logging\n",
    "\n",
    "\n",
    "mlflow.log_param(\"epochs\", epochs)\n",
    "mlflow.log_param(\"batch_size\", batch_size)\n",
    "\n",
    "mlflow.log_param(\"parameters\", num_params)\n",
    "\n",
    "mlflow.log_metric(\"val_loss\", loss)\n",
    "mlflow.log_metric(\"val_accuracy\", accuracy)\n",
    "\n",
    "\n"
   ]
  },
  {
   "cell_type": "code",
   "execution_count": 16,
   "metadata": {},
   "outputs": [],
   "source": [
    "#Guardo el modelo en la última epoch. Esto \n",
    "modelo.save(folder_date + '/modelo_entrenado.h5')\n"
   ]
  },
  {
   "cell_type": "code",
   "execution_count": 17,
   "metadata": {},
   "outputs": [
    {
     "name": "stdout",
     "output_type": "stream",
     "text": [
      "dict_keys(['loss', 'accuracy', 'val_loss', 'val_accuracy'])\n"
     ]
    }
   ],
   "source": [
    "history\n",
    "print(history.history.keys())"
   ]
  },
  {
   "cell_type": "code",
   "execution_count": 18,
   "metadata": {},
   "outputs": [
    {
     "data": {
      "text/plain": [
       "'old_models/2023_06_19-08_15_11_AM/accuracy.png'"
      ]
     },
     "execution_count": 18,
     "metadata": {},
     "output_type": "execute_result"
    }
   ],
   "source": [
    "folder_date + \"/accuracy.png\""
   ]
  },
  {
   "cell_type": "code",
   "execution_count": 19,
   "metadata": {},
   "outputs": [
    {
     "name": "stdout",
     "output_type": "stream",
     "text": [
      "dict_keys(['loss', 'accuracy', 'val_loss', 'val_accuracy'])\n"
     ]
    },
    {
     "data": {
      "image/png": "[encoded data removed]",
      "text/plain": [
       "<Figure size 432x288 with 1 Axes>"
      ]
     },
     "metadata": {
      "needs_background": "light"
     },
     "output_type": "display_data"
    },
    {
     "data": {
      "image/png": "[encoded data removed]",
      "text/plain": [
       "<Figure size 432x288 with 1 Axes>"
      ]
     },
     "metadata": {
      "needs_background": "light"
     },
     "output_type": "display_data"
    }
   ],
   "source": [
    "print(history.history.keys())\n",
    "\n",
    "#  \"Accuracy\"\n",
    "plt.plot(history.history['accuracy'])\n",
    "plt.plot(history.history['val_accuracy'])\n",
    "plt.title('model accuracy')\n",
    "plt.ylabel('accuracy')\n",
    "plt.xlabel('epoch')\n",
    "plt.legend(['train', 'validation'], loc='upper left')\n",
    "\n",
    "plt.text(len(history.history['accuracy'])-1, history.history['accuracy'][-1], \n",
    "         f\"Acc: {history.history['accuracy'][-1]:.4f}\", ha='center', va='bottom')\n",
    "plt.text(len(history.history['val_accuracy'])-1, history.history['val_accuracy'][-1], \n",
    "         f\"Val Acc: {history.history['val_accuracy'][-1]:.4f}\", ha='center', va='top')\n",
    "\n",
    "\n",
    "plt.savefig(folder_date + \"/accuracy.png\")\n",
    "plt.show()\n",
    "\n",
    "# \"Loss\"\n",
    "plt.plot(history.history['loss'])\n",
    "plt.plot(history.history['val_loss'])\n",
    "plt.title('model loss')\n",
    "plt.ylabel('loss')\n",
    "plt.xlabel('epoch')\n",
    "plt.legend(['train', 'validation'], loc='upper left')\n",
    "\n",
    "plt.text(len(history.history['loss'])-1, history.history['loss'][-1], \n",
    "         f\"Loss: {history.history['loss'][-1]:.4f}\", ha='center', va='bottom')\n",
    "plt.text(len(history.history['val_loss'])-1, history.history['val_loss'][-1], \n",
    "         f\"Val Loss: {history.history['val_loss'][-1]:.4f}\", ha='center', va='top')\n",
    "\n",
    "\n",
    "plt.savefig(folder_date + \"/loss.png\")\n",
    "plt.show()\n",
    "\n",
    "\n",
    "\n"
   ]
  },
  {
   "attachments": {},
   "cell_type": "markdown",
   "metadata": {},
   "source": [
    "Preguntas, cómo puedo gestionar datos que vienen de dos distribuciones distintas?\n",
    "\n"
   ]
  },
  {
   "attachments": {},
   "cell_type": "markdown",
   "metadata": {},
   "source": [
    "# This is a section to evaluate the model on te test data"
   ]
  },
  {
   "cell_type": "code",
   "execution_count": 20,
   "metadata": {},
   "outputs": [
    {
     "name": "stdout",
     "output_type": "stream",
     "text": [
      "[1, 1, 1, 1, 1, 1, 1, 1, 1, 1, 1, 1, 0, 2, 1, 1, 2, 0, 1, 1, 1, 1, 2, 1, 1, 1, 2, 2, 2, 0, 1, 1, 1, 1, 1, 1, 1, 1, 1, 1, 1, 1, 1, 1, 1, 1, 1, 1, 1, 1, 1, 1, 1, 1, 1, 1, 1, 1, 1, 1, 2, 2, 2, 0, 1, 2, 2, 1, 2, 1, 2, 2, 2, 2, 2, 2, 2, 2, 2, 2, 2, 2, 2, 2, 2, 2, 2, 2, 2, 1]\n",
      "[0, 0, 0, 0, 0, 0, 0, 0, 0, 0, 0, 0, 0, 0, 0, 0, 0, 0, 0, 0, 0, 0, 0, 0, 0, 0, 0, 0, 0, 0, 1, 1, 1, 1, 1, 1, 1, 1, 1, 1, 1, 1, 1, 1, 1, 1, 1, 1, 1, 1, 1, 1, 1, 1, 1, 1, 1, 1, 1, 1, 2, 2, 2, 2, 2, 2, 2, 2, 2, 2, 2, 2, 2, 2, 2, 2, 2, 2, 2, 2, 2, 2, 2, 2, 2, 2, 2, 2, 2, 2]\n"
     ]
    },
    {
     "data": {
      "image/png": "[encoded data removed]",
      "text/plain": [
       "<Figure size 432x288 with 2 Axes>"
      ]
     },
     "metadata": {
      "needs_background": "light"
     },
     "output_type": "display_data"
    },
    {
     "name": "stdout",
     "output_type": "stream",
     "text": [
      "Precision: 0.700635386119257\n",
      "Recall: 0.6444444444444445\n",
      "Accuracy: 0.6444444444444445\n"
     ]
    }
   ],
   "source": [
    "# Load the test images from the folder 'test_images'\n",
    "predicted_labels= []\n",
    "true_labels = []\n",
    "\n",
    "label_mapping = {\n",
    "    'aca': 0,\n",
    "    'nor': 1,\n",
    "    'scc': 2\n",
    "}\n",
    "\n",
    "\n",
    "directory = \"test_set_public\"\n",
    "for filename in os.listdir(directory):\n",
    "\n",
    "    # Load the image and add it to the list of test images\n",
    "    f = os.path.join(directory, filename)\n",
    "    imagen = tf.keras.preprocessing.image.load_img(f, target_size=(255,255))\n",
    "    x = tf.keras.preprocessing.image.img_to_array(imagen)    \n",
    "    x = np.expand_dims(x, axis=0)\n",
    "\n",
    "    prediction = modelo.predict(x)\n",
    "    predicted_class = np.argmax(prediction)\n",
    "\n",
    "    #True labels are calculated based on name. It is a very weak way of doing it. Look for a better one or rename the files\n",
    "\n",
    "    if 'aca' in filename or 'lungaca' in filename:\n",
    "        true_labels.append(0)\n",
    "    elif 'scc' in filename or 'lungscc' in filename:\n",
    "        true_labels.append(2)\n",
    "    elif 'nor' in filename or 'lungn' in filename:\n",
    "        true_labels.append(1)\n",
    "   \n",
    "    \n",
    "\n",
    "    predicted_labels.append(predicted_class)\n",
    "\n",
    "print(predicted_labels)\n",
    "print(true_labels)\n",
    "\n",
    "\n",
    "cm = confusion_matrix(true_labels, predicted_labels)\n",
    "labels = [label for label, _ in sorted(label_mapping.items(), key=lambda x: x[1])]\n",
    "disp = ConfusionMatrixDisplay(confusion_matrix=cm, display_labels=labels)\n",
    "disp.plot()\n",
    "\n",
    "plt.title(directory,  fontdict={'fontsize': 16})  # Set the new title for the plot\n",
    "plt.show()\n",
    "\n",
    "\n",
    "# Calculate precision, recall, and accuracy\n",
    "precision = precision_score(true_labels, predicted_labels, average='weighted')\n",
    "recall = recall_score(true_labels, predicted_labels, average='weighted')\n",
    "accuracy = accuracy_score(true_labels, predicted_labels)\n",
    "\n",
    "# Print the results\n",
    "print(\"Precision:\", precision)\n",
    "print(\"Recall:\", recall)\n",
    "print(\"Accuracy:\", accuracy)\n",
    "\n",
    "mlflow.log_metric(\"Precision\", precision)\n",
    "mlflow.log_metric(\"Recall\", recall)\n",
    "mlflow.log_metric(\"Accuracy\", accuracy)\n",
    "\n",
    "mlflow.end_run()\n",
    "\n"
   ]
  },
  {
   "attachments": {},
   "cell_type": "markdown",
   "metadata": {},
   "source": [
    "#Predice mal en las muestras de Henar. Veremos con el nuevo dataset, pero quizá haya que hacer un training con peso Opciones:\n",
    "\n",
    "Undersample the larger distribution: randomly remove examples from the larger distribution until it matches the size of the smaller one.\n",
    "\n",
    "Oversample the smaller distribution: randomly duplicate examples from the smaller distribution until it matches the size of the larger one.\n",
    "\n",
    "Data augmentation: generate new examples from the smaller distribution using techniques like rotation, flipping, or zooming.\n",
    "\n",
    "Use class weights: adjust the loss function of your CNN to assign higher weights to the smaller distribution so that it receives more emphasis during training.\n",
    "\n",
    "Fine-tuning: you could use a pre-trained model to initialize the weights and only fine-tune the last few layers to fit the imbalanced data."
   ]
  },
  {
   "cell_type": "code",
   "execution_count": 22,
   "metadata": {},
   "outputs": [
    {
     "name": "stdout",
     "output_type": "stream",
     "text": [
      "[0, 2, 2, 0, 2, 2, 1, 0, 0, 1, 0, 1, 2, 0, 0, 0, 1, 0, 0, 1, 0, 2, 1, 0, 2, 0, 2, 0, 2, 1, 2, 0, 1, 0, 0, 0, 0, 0, 0, 0, 0, 0, 0, 0, 0, 1, 0, 0, 0, 0, 0, 1, 0, 0, 1, 1, 2, 0, 0, 1, 1, 1, 1, 1, 1, 1, 0, 1, 1, 1, 1, 1, 1, 1, 1, 1, 1, 1, 1, 0, 0, 0, 0, 1, 1, 1, 1, 1, 1, 0, 1, 2, 0, 1, 1, 1, 1, 0, 1, 1, 1, 1, 1, 1, 0, 1, 2, 2, 1, 1, 2, 2, 1, 1, 1, 1, 2, 2, 2, 2, 1, 2, 2, 2, 2, 2, 0, 2, 2, 2, 2, 2, 2, 2, 1, 1, 1, 0, 2, 0, 2, 2, 2, 0, 1, 2, 1, 2, 1, 2, 0, 2, 1, 0, 2, 2]\n",
      "[0, 0, 0, 0, 0, 0, 0, 0, 0, 0, 0, 0, 0, 0, 0, 0, 0, 0, 0, 0, 0, 0, 0, 0, 0, 0, 0, 0, 0, 0, 0, 0, 0, 0, 0, 0, 0, 0, 0, 0, 0, 0, 0, 0, 0, 0, 0, 0, 0, 0, 0, 0, 0, 0, 0, 0, 0, 0, 0, 0, 1, 1, 1, 1, 1, 1, 1, 1, 1, 1, 1, 1, 1, 1, 1, 1, 1, 1, 1, 1, 1, 1, 1, 1, 1, 1, 1, 1, 1, 1, 1, 1, 1, 1, 1, 1, 1, 1, 1, 1, 1, 1, 1, 1, 1, 1, 1, 1, 1, 1, 1, 1, 1, 1, 1, 1, 2, 2, 2, 2, 2, 2, 2, 2, 2, 2, 2, 2, 2, 2, 2, 2, 2, 2, 2, 2, 2, 2, 2, 2, 2, 2, 2, 2, 2, 2, 2, 2, 2, 2, 2, 2, 2, 2, 2, 2]\n"
     ]
    },
    {
     "data": {
      "image/png": "[encoded data removed]",
      "text/plain": [
       "<Figure size 432x288 with 2 Axes>"
      ]
     },
     "metadata": {
      "needs_background": "light"
     },
     "output_type": "display_data"
    },
    {
     "name": "stdout",
     "output_type": "stream",
     "text": [
      "Precision: 0.6695396107160813\n",
      "Recall: 0.6666666666666666\n",
      "Accuracy: 0.6666666666666666\n"
     ]
    }
   ],
   "source": [
    "# Load the test images from the folder 'test_images'\n",
    "predicted_labels= []\n",
    "true_labels = []\n",
    "\n",
    "label_mapping = {\n",
    "    'aca': 0,\n",
    "    'nor': 1,\n",
    "    'scc': 2\n",
    "}\n",
    "\n",
    "\n",
    "directory = \"test_set_private\"\n",
    "for filename in os.listdir(directory):\n",
    "\n",
    "    # Load the image and add it to the list of test images\n",
    "    f = os.path.join(directory, filename)\n",
    "    imagen = tf.keras.preprocessing.image.load_img(f, target_size=(255,255))\n",
    "    x = tf.keras.preprocessing.image.img_to_array(imagen)    \n",
    "    x = np.expand_dims(x, axis=0)\n",
    "\n",
    "    prediction = modelo.predict(x)\n",
    "    predicted_class = np.argmax(prediction)\n",
    "\n",
    "    #True labels are calculated based on name. It is a very weak way of doing it. Look for a better one or rename the files\n",
    "\n",
    "    if 'aca' in filename or 'lungaca' in filename:\n",
    "        true_labels.append(0)\n",
    "    elif 'scc' in filename or 'lungscc' in filename:\n",
    "        true_labels.append(2)\n",
    "    elif 'nor' in filename or 'lungn' in filename:\n",
    "        true_labels.append(1)\n",
    "   \n",
    "    \n",
    "\n",
    "    predicted_labels.append(predicted_class)\n",
    "\n",
    "print(predicted_labels)\n",
    "print(true_labels)\n",
    "\n",
    "\n",
    "cm = confusion_matrix(true_labels, predicted_labels)\n",
    "labels = [label for label, _ in sorted(label_mapping.items(), key=lambda x: x[1])]\n",
    "disp = ConfusionMatrixDisplay(confusion_matrix=cm, display_labels=labels)\n",
    "disp.plot()\n",
    "\n",
    "plt.title(directory,  fontdict={'fontsize': 16})  # Set the new title for the plot\n",
    "plt.show()\n",
    "\n",
    "\n",
    "# Calculate precision, recall, and accuracy\n",
    "precision = precision_score(true_labels, predicted_labels, average='weighted')\n",
    "recall = recall_score(true_labels, predicted_labels, average='weighted')\n",
    "accuracy = accuracy_score(true_labels, predicted_labels)\n",
    "\n",
    "# Print the results\n",
    "print(\"Precision:\", precision)\n",
    "print(\"Recall:\", recall)\n",
    "print(\"Accuracy:\", accuracy)\n",
    "\n",
    "mlflow.log_metric(\"Precision\", precision)\n",
    "mlflow.log_metric(\"Recall\", recall)\n",
    "mlflow.log_metric(\"Accuracy\", accuracy)\n",
    "\n",
    "mlflow.end_run()\n",
    "\n",
    "\n"
   ]
  },
  {
   "cell_type": "code",
   "execution_count": null,
   "metadata": {},
   "outputs": [],
   "source": []
  },
  {
   "cell_type": "code",
   "execution_count": null,
   "metadata": {},
   "outputs": [],
   "source": []
  },
  {
   "cell_type": "code",
   "execution_count": null,
   "metadata": {},
   "outputs": [],
   "source": []
  }
 ],
 "metadata": {
  "kernelspec": {
   "display_name": "ml",
   "language": "python",
   "name": "python3"
  },
  "language_info": {
   "codemirror_mode": {
    "name": "ipython",
    "version": 3
   },
   "file_extension": ".py",
   "mimetype": "text/x-python",
   "name": "python",
   "nbconvert_exporter": "python",
   "pygments_lexer": "ipython3",
   "version": "3.9.12"
  },
  "orig_nbformat": 4,
  "vscode": {
   "interpreter": {
    "hash": "fea903cc172cce62c6301ba3c7eecfb26209215bbdb6c0bb5db0de1694474dd0"
   }
  }
 },
 "nbformat": 4,
 "nbformat_minor": 2
}
