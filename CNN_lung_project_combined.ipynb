{
 "cells": [
  {
   "cell_type": "code",
   "execution_count": 1,
   "metadata": {},
   "outputs": [],
   "source": [
    "import os\n",
    "import tensorflow as tf\n",
    "import keras\n",
    "from keras import models\n",
    "from keras import layers\n",
    "from keras import optimizers\n",
    "from datetime import datetime\n",
    "from PIL import Image\n",
    "import numpy as np\n",
    "import keras.backend as K\n",
    "import matplotlib.pyplot as plt\n",
    "import mlflow\n",
    "\n",
    "\n",
    "\n"
   ]
  },
  {
   "cell_type": "code",
   "execution_count": 2,
   "metadata": {},
   "outputs": [
    {
     "name": "stderr",
     "output_type": "stream",
     "text": [
      "2023/05/16 15:55:48 INFO mlflow.tracking.fluent: Autologging successfully enabled for tensorflow.\n"
     ]
    }
   ],
   "source": [
    "#Clear GPU memory and set up the logging of the experiment with mlflow\n",
    "K.clear_session()\n",
    "mlflow.set_experiment('lung_project')\n",
    "mlflow.autolog()"
   ]
  },
  {
   "cell_type": "code",
   "execution_count": 3,
   "metadata": {},
   "outputs": [],
   "source": [
    "batch_size = 32"
   ]
  },
  {
   "cell_type": "code",
   "execution_count": 4,
   "metadata": {},
   "outputs": [
    {
     "name": "stdout",
     "output_type": "stream",
     "text": [
      "Found 16752 files belonging to 3 classes.\n",
      "Using 14240 files for training.\n",
      "Found 16752 files belonging to 3 classes.\n",
      "Using 2512 files for validation.\n"
     ]
    }
   ],
   "source": [
    "image_size = (255, 255)\n",
    "\n",
    "\n",
    "train_ds = tf.keras.preprocessing.image_dataset_from_directory(\n",
    "    'combined_dataset',\n",
    "    validation_split=0.15,\n",
    "    subset=\"training\",\n",
    "    label_mode = 'int',\n",
    "    labels = 'inferred',\n",
    "    seed=1336,\n",
    "    image_size=image_size,\n",
    "    interpolation = 'bilinear',\n",
    "    batch_size=batch_size,\n",
    "    shuffle = True,\n",
    ")\n",
    "\n",
    "\n",
    "val_ds = tf.keras.preprocessing.image_dataset_from_directory(\n",
    "    'combined_dataset',\n",
    "    validation_split=0.15,\n",
    "    subset=\"validation\",\n",
    "    label_mode = 'int',\n",
    "    labels = 'inferred',\n",
    "    seed=1336,\n",
    "    image_size=image_size,\n",
    "    interpolation = 'bilinear',\n",
    "    batch_size=batch_size,\n",
    "    shuffle = True,\n",
    ")\n"
   ]
  },
  {
   "cell_type": "code",
   "execution_count": 23,
   "metadata": {},
   "outputs": [],
   "source": [
    "imput = (255,255,3)"
   ]
  },
  {
   "cell_type": "code",
   "execution_count": 24,
   "metadata": {},
   "outputs": [
    {
     "name": "stdout",
     "output_type": "stream",
     "text": [
      "Model: \"sequential\"\n",
      "_________________________________________________________________\n",
      "Layer (type)                 Output Shape              Param #   \n",
      "=================================================================\n",
      "rescaling (Rescaling)        (None, 255, 255, 3)       0         \n",
      "_________________________________________________________________\n",
      "random_flip (RandomFlip)     (None, 255, 255, 3)       0         \n",
      "_________________________________________________________________\n",
      "random_rotation (RandomRotat (None, 255, 255, 3)       0         \n",
      "_________________________________________________________________\n",
      "random_zoom (RandomZoom)     (None, 255, 255, 3)       0         \n",
      "_________________________________________________________________\n",
      "random_contrast (RandomContr (None, 255, 255, 3)       0         \n",
      "_________________________________________________________________\n",
      "conv2d (Conv2D)              (None, 254, 254, 32)      416       \n",
      "_________________________________________________________________\n",
      "max_pooling2d (MaxPooling2D) (None, 127, 127, 32)      0         \n",
      "_________________________________________________________________\n",
      "conv2d_1 (Conv2D)            (None, 126, 126, 64)      8256      \n",
      "_________________________________________________________________\n",
      "max_pooling2d_1 (MaxPooling2 (None, 63, 63, 64)        0         \n",
      "_________________________________________________________________\n",
      "conv2d_2 (Conv2D)            (None, 62, 62, 128)       32896     \n",
      "_________________________________________________________________\n",
      "max_pooling2d_2 (MaxPooling2 (None, 31, 31, 128)       0         \n",
      "_________________________________________________________________\n",
      "conv2d_3 (Conv2D)            (None, 30, 30, 256)       131328    \n",
      "_________________________________________________________________\n",
      "max_pooling2d_3 (MaxPooling2 (None, 15, 15, 256)       0         \n",
      "_________________________________________________________________\n",
      "conv2d_4 (Conv2D)            (None, 14, 14, 512)       524800    \n",
      "_________________________________________________________________\n",
      "max_pooling2d_4 (MaxPooling2 (None, 7, 7, 512)         0         \n",
      "_________________________________________________________________\n",
      "flatten (Flatten)            (None, 25088)             0         \n",
      "_________________________________________________________________\n",
      "dense (Dense)                (None, 512)               12845568  \n",
      "_________________________________________________________________\n",
      "dropout (Dropout)            (None, 512)               0         \n",
      "_________________________________________________________________\n",
      "dense_1 (Dense)              (None, 256)               131328    \n",
      "_________________________________________________________________\n",
      "dropout_1 (Dropout)          (None, 256)               0         \n",
      "_________________________________________________________________\n",
      "dense_2 (Dense)              (None, 3)                 771       \n",
      "=================================================================\n",
      "Total params: 13,675,363\n",
      "Trainable params: 13,675,363\n",
      "Non-trainable params: 0\n",
      "_________________________________________________________________\n"
     ]
    }
   ],
   "source": [
    "imput = (255,255,3)\n",
    "\n",
    "model=models.Sequential()\n",
    "\n",
    "model.add(layers.Rescaling(scale = 1./255, offset=0.0, input_shape=imput))\n",
    "\n",
    "\n",
    "model.add(layers.RandomFlip(\"horizontal_and_vertical\"))\n",
    "model.add(layers.RandomRotation(0.2))\n",
    "model.add(layers.RandomZoom(0.2))\n",
    "model.add(layers.RandomContrast(0.2))\n",
    "\n",
    "#Estas me petan la dimension de entrada a la densa. Debería haber un resizing \n",
    "# model.add(layers.RandomWidth(0.2))\n",
    "# model.add(layers.RandomHeight(0.2))\n",
    "\n",
    "\n",
    "model.add(layers.Conv2D(filters=32, kernel_size=(2,2), activation='relu',))\n",
    "model.add(layers.MaxPooling2D(pool_size=(2, 2)))\n",
    "model.add(layers.Conv2D(filters=64, kernel_size=(2,2), activation='relu',))\n",
    "model.add(layers.MaxPooling2D(pool_size=(2, 2)))\n",
    "model.add(layers.Conv2D(filters=128, kernel_size=(2,2), activation='relu',))\n",
    "model.add(layers.MaxPooling2D(pool_size=(2, 2)))\n",
    "model.add(layers.Conv2D(filters=256, kernel_size=(2,2), activation='relu',))\n",
    "model.add(layers.MaxPooling2D(pool_size=(2, 2)))\n",
    "model.add(layers.Conv2D(filters=512, kernel_size=(2,2), activation='relu',))\n",
    "model.add(layers.MaxPooling2D(pool_size=(2, 2)))\n",
    "\n",
    "\n",
    "# Add flatten layer\n",
    "model.add(layers.Flatten())\n",
    "\n",
    "# Add dense/dropout layers + activation functions\n",
    "\n",
    "model.add(layers.Dense(512, activation = 'relu'))\n",
    "model.add(layers.Dropout(0.3))\n",
    "model.add(layers.Dense(256, activation = 'relu'))\n",
    "model.add(layers.Dropout(0.3))\n",
    "model.add(layers.Dense(3, activation = 'softmax'))\n",
    "\n",
    "adam = tf.keras.optimizers.Adam(learning_rate=0.001, beta_1=0.9, beta_2=0.999, epsilon=1e-08)\n",
    "\n",
    "model.compile(optimizer = adam, loss = 'sparse_categorical_crossentropy', metrics = ['accuracy'])\n",
    "model.summary()\n",
    "\n"
   ]
  },
  {
   "cell_type": "code",
   "execution_count": 25,
   "metadata": {},
   "outputs": [],
   "source": [
    "folder_date = 'old_models/' +  datetime.now().strftime(\"%Y_%m_%d-%I_%M_%S_%p\")\n",
    "os.mkdir(folder_date)\n",
    "filepath_model = folder_date + '/my_best_model.epoch{epoch:02d}-loss{val_loss:.2f}.hdf5'\n"
   ]
  },
  {
   "attachments": {},
   "cell_type": "markdown",
   "metadata": {},
   "source": [
    "# Callbacks"
   ]
  },
  {
   "cell_type": "code",
   "execution_count": 26,
   "metadata": {},
   "outputs": [],
   "source": [
    "model_checkpoint_callback = tf.keras.callbacks.ModelCheckpoint(\n",
    "filepath=filepath_model,\n",
    "save_weights_only=False,\n",
    "monitor='val_accuracy',\n",
    "mode='max',\n",
    "save_freq=\"epoch\",\n",
    "save_best_only=True)"
   ]
  },
  {
   "cell_type": "code",
   "execution_count": 27,
   "metadata": {},
   "outputs": [],
   "source": [
    "early_stopping = tf.keras.callbacks.EarlyStopping(monitor='val_loss', patience=4, mode='auto', verbose = 1, )"
   ]
  },
  {
   "cell_type": "code",
   "execution_count": 28,
   "metadata": {},
   "outputs": [
    {
     "name": "stderr",
     "output_type": "stream",
     "text": [
      "2023/03/15 18:06:39 INFO mlflow.utils.autologging_utils: Created MLflow autologging run with ID 'a1091872c0c246f699199efdeeec2ef9', which will track hyperparameters, performance metrics, model artifacts, and lineage information for the current tensorflow workflow\n"
     ]
    },
    {
     "name": "stdout",
     "output_type": "stream",
     "text": [
      "Epoch 1/100\n",
      "445/445 [==============================] - 132s 285ms/step - loss: 0.5011 - accuracy: 0.7787 - val_loss: 0.3287 - val_accuracy: 0.8631\n",
      "Epoch 2/100\n",
      "445/445 [==============================] - 94s 211ms/step - loss: 0.3760 - accuracy: 0.8472 - val_loss: 0.3408 - val_accuracy: 0.8376\n",
      "Epoch 3/100\n",
      "445/445 [==============================] - 95s 213ms/step - loss: 0.3097 - accuracy: 0.8711 - val_loss: 0.3118 - val_accuracy: 0.8643\n",
      "Epoch 4/100\n",
      "445/445 [==============================] - 104s 234ms/step - loss: 0.2884 - accuracy: 0.8826 - val_loss: 0.2560 - val_accuracy: 0.8854\n",
      "Epoch 5/100\n",
      "445/445 [==============================] - 120s 269ms/step - loss: 0.2599 - accuracy: 0.8937 - val_loss: 0.1837 - val_accuracy: 0.9260\n",
      "Epoch 6/100\n",
      "445/445 [==============================] - 122s 274ms/step - loss: 0.2407 - accuracy: 0.9015 - val_loss: 0.2719 - val_accuracy: 0.8790\n",
      "Epoch 7/100\n",
      "445/445 [==============================] - 124s 277ms/step - loss: 0.2309 - accuracy: 0.9063 - val_loss: 0.1764 - val_accuracy: 0.9240\n",
      "Epoch 8/100\n",
      "445/445 [==============================] - 113s 253ms/step - loss: 0.2088 - accuracy: 0.9183 - val_loss: 0.2138 - val_accuracy: 0.9100\n",
      "Epoch 9/100\n",
      "445/445 [==============================] - 99s 221ms/step - loss: 0.2090 - accuracy: 0.9171 - val_loss: 0.2230 - val_accuracy: 0.9112\n",
      "Epoch 10/100\n",
      "445/445 [==============================] - 118s 263ms/step - loss: 0.2066 - accuracy: 0.9174 - val_loss: 0.1759 - val_accuracy: 0.9268\n",
      "Epoch 11/100\n",
      "445/445 [==============================] - 113s 254ms/step - loss: 0.1832 - accuracy: 0.9309 - val_loss: 0.1564 - val_accuracy: 0.9407\n",
      "Epoch 12/100\n",
      "445/445 [==============================] - 115s 257ms/step - loss: 0.1734 - accuracy: 0.9330 - val_loss: 0.1272 - val_accuracy: 0.9482\n",
      "Epoch 13/100\n",
      "445/445 [==============================] - 115s 258ms/step - loss: 0.1718 - accuracy: 0.9323 - val_loss: 0.1423 - val_accuracy: 0.9415\n",
      "Epoch 14/100\n",
      "445/445 [==============================] - 111s 248ms/step - loss: 0.1673 - accuracy: 0.9321 - val_loss: 0.1462 - val_accuracy: 0.9403\n",
      "Epoch 15/100\n",
      "445/445 [==============================] - 109s 244ms/step - loss: 0.1642 - accuracy: 0.9369 - val_loss: 0.1710 - val_accuracy: 0.9331\n",
      "Epoch 16/100\n",
      "445/445 [==============================] - 109s 243ms/step - loss: 0.1573 - accuracy: 0.9389 - val_loss: 0.2121 - val_accuracy: 0.9096\n",
      "Epoch 17/100\n",
      "445/445 [==============================] - 104s 233ms/step - loss: 0.1557 - accuracy: 0.9407 - val_loss: 0.1217 - val_accuracy: 0.9490\n",
      "Epoch 18/100\n",
      "445/445 [==============================] - 105s 234ms/step - loss: 0.1390 - accuracy: 0.9427 - val_loss: 0.1254 - val_accuracy: 0.9471\n",
      "Epoch 19/100\n",
      "445/445 [==============================] - 97s 217ms/step - loss: 0.1380 - accuracy: 0.9468 - val_loss: 0.0947 - val_accuracy: 0.9590\n",
      "Epoch 20/100\n",
      "445/445 [==============================] - 88s 197ms/step - loss: 0.1291 - accuracy: 0.9509 - val_loss: 0.1111 - val_accuracy: 0.9542\n",
      "Epoch 21/100\n",
      "445/445 [==============================] - 90s 202ms/step - loss: 0.1391 - accuracy: 0.9478 - val_loss: 0.1209 - val_accuracy: 0.9582\n",
      "Epoch 22/100\n",
      "445/445 [==============================] - 84s 187ms/step - loss: 0.1273 - accuracy: 0.9521 - val_loss: 0.0840 - val_accuracy: 0.9654\n",
      "Epoch 23/100\n",
      "445/445 [==============================] - 84s 188ms/step - loss: 0.1124 - accuracy: 0.9571 - val_loss: 0.0728 - val_accuracy: 0.9713\n",
      "Epoch 24/100\n",
      "445/445 [==============================] - 83s 185ms/step - loss: 0.1243 - accuracy: 0.9527 - val_loss: 0.1057 - val_accuracy: 0.9566\n",
      "Epoch 25/100\n",
      "445/445 [==============================] - 83s 186ms/step - loss: 0.1286 - accuracy: 0.9520 - val_loss: 0.0662 - val_accuracy: 0.9753\n",
      "Epoch 26/100\n",
      "445/445 [==============================] - 87s 194ms/step - loss: 0.1111 - accuracy: 0.9561 - val_loss: 0.0811 - val_accuracy: 0.9697\n",
      "Epoch 27/100\n",
      "445/445 [==============================] - 95s 212ms/step - loss: 0.1018 - accuracy: 0.9628 - val_loss: 0.0686 - val_accuracy: 0.9717\n",
      "Epoch 28/100\n",
      "445/445 [==============================] - 92s 206ms/step - loss: 0.1044 - accuracy: 0.9607 - val_loss: 0.0750 - val_accuracy: 0.9741\n",
      "Epoch 29/100\n",
      "445/445 [==============================] - 84s 188ms/step - loss: 0.1149 - accuracy: 0.9585 - val_loss: 0.0776 - val_accuracy: 0.9674\n",
      "Epoch 30/100\n",
      "445/445 [==============================] - 84s 187ms/step - loss: 0.1052 - accuracy: 0.9620 - val_loss: 0.0748 - val_accuracy: 0.9737\n",
      "Epoch 31/100\n",
      "445/445 [==============================] - 85s 191ms/step - loss: 0.0950 - accuracy: 0.9644 - val_loss: 0.0850 - val_accuracy: 0.9689\n",
      "Epoch 32/100\n",
      "445/445 [==============================] - 148s 333ms/step - loss: 0.1070 - accuracy: 0.9586 - val_loss: 0.0594 - val_accuracy: 0.9813\n",
      "Epoch 33/100\n",
      "445/445 [==============================] - 110s 247ms/step - loss: 0.0921 - accuracy: 0.9656 - val_loss: 0.0682 - val_accuracy: 0.9729\n",
      "Epoch 34/100\n",
      "445/445 [==============================] - 93s 208ms/step - loss: 0.0895 - accuracy: 0.9671 - val_loss: 0.0667 - val_accuracy: 0.9713\n",
      "Epoch 35/100\n",
      "445/445 [==============================] - 93s 209ms/step - loss: 0.0987 - accuracy: 0.9633 - val_loss: 0.0611 - val_accuracy: 0.9809\n",
      "Epoch 36/100\n",
      "445/445 [==============================] - 92s 207ms/step - loss: 0.0878 - accuracy: 0.9681 - val_loss: 0.0612 - val_accuracy: 0.9801\n",
      "Epoch 37/100\n",
      "445/445 [==============================] - 92s 207ms/step - loss: 0.0875 - accuracy: 0.9687 - val_loss: 0.0698 - val_accuracy: 0.9705\n",
      "Epoch 38/100\n",
      "445/445 [==============================] - 94s 209ms/step - loss: 0.0851 - accuracy: 0.9688 - val_loss: 0.0566 - val_accuracy: 0.9813\n",
      "Epoch 39/100\n",
      "445/445 [==============================] - 93s 209ms/step - loss: 0.0870 - accuracy: 0.9702 - val_loss: 0.0913 - val_accuracy: 0.9650\n",
      "Epoch 40/100\n",
      "445/445 [==============================] - 93s 209ms/step - loss: 0.0925 - accuracy: 0.9662 - val_loss: 0.0480 - val_accuracy: 0.9829\n",
      "Epoch 41/100\n",
      "445/445 [==============================] - 93s 209ms/step - loss: 0.0689 - accuracy: 0.9737 - val_loss: 0.0650 - val_accuracy: 0.9765\n",
      "Epoch 42/100\n",
      "445/445 [==============================] - 93s 208ms/step - loss: 0.0758 - accuracy: 0.9711 - val_loss: 0.0488 - val_accuracy: 0.9833\n",
      "Epoch 43/100\n",
      "445/445 [==============================] - 84s 189ms/step - loss: 0.0851 - accuracy: 0.9675 - val_loss: 0.0586 - val_accuracy: 0.9801\n",
      "Epoch 44/100\n",
      "445/445 [==============================] - 83s 187ms/step - loss: 0.0898 - accuracy: 0.9676 - val_loss: 0.0684 - val_accuracy: 0.9825\n",
      "Epoch 45/100\n",
      "445/445 [==============================] - 84s 189ms/step - loss: 0.1143 - accuracy: 0.9606 - val_loss: 0.0535 - val_accuracy: 0.9849\n",
      "Epoch 46/100\n",
      "445/445 [==============================] - 83s 187ms/step - loss: 0.0803 - accuracy: 0.9692 - val_loss: 0.0416 - val_accuracy: 0.9861\n",
      "Epoch 47/100\n",
      "445/445 [==============================] - 84s 189ms/step - loss: 0.0846 - accuracy: 0.9691 - val_loss: 0.0574 - val_accuracy: 0.9769\n",
      "Epoch 48/100\n",
      "445/445 [==============================] - 84s 188ms/step - loss: 0.0783 - accuracy: 0.9701 - val_loss: 0.0700 - val_accuracy: 0.9737\n",
      "Epoch 49/100\n",
      "445/445 [==============================] - 84s 188ms/step - loss: 0.0707 - accuracy: 0.9739 - val_loss: 0.0454 - val_accuracy: 0.9873\n",
      "Epoch 50/100\n",
      "445/445 [==============================] - 84s 187ms/step - loss: 0.1003 - accuracy: 0.9637 - val_loss: 0.0557 - val_accuracy: 0.9757\n",
      "Epoch 51/100\n",
      "445/445 [==============================] - 85s 190ms/step - loss: 0.0760 - accuracy: 0.9732 - val_loss: 0.0473 - val_accuracy: 0.9821\n",
      "Epoch 52/100\n",
      "445/445 [==============================] - 85s 189ms/step - loss: 0.0853 - accuracy: 0.9699 - val_loss: 0.0841 - val_accuracy: 0.9717\n",
      "Epoch 53/100\n",
      "445/445 [==============================] - 84s 189ms/step - loss: 0.0743 - accuracy: 0.9732 - val_loss: 0.0525 - val_accuracy: 0.9825\n",
      "Epoch 54/100\n",
      "445/445 [==============================] - 84s 188ms/step - loss: 0.0834 - accuracy: 0.9712 - val_loss: 0.0507 - val_accuracy: 0.9857\n",
      "Epoch 55/100\n",
      "445/445 [==============================] - 84s 188ms/step - loss: 0.0654 - accuracy: 0.9772 - val_loss: 0.0419 - val_accuracy: 0.9825\n",
      "Epoch 56/100\n",
      "445/445 [==============================] - 84s 188ms/step - loss: 0.0667 - accuracy: 0.9761 - val_loss: 0.0329 - val_accuracy: 0.9889\n",
      "Epoch 57/100\n",
      "445/445 [==============================] - 84s 187ms/step - loss: 0.0711 - accuracy: 0.9745 - val_loss: 0.0565 - val_accuracy: 0.9793\n",
      "Epoch 58/100\n",
      "445/445 [==============================] - 84s 188ms/step - loss: 0.0791 - accuracy: 0.9722 - val_loss: 0.0528 - val_accuracy: 0.9837\n",
      "Epoch 59/100\n",
      "445/445 [==============================] - 84s 188ms/step - loss: 0.0687 - accuracy: 0.9760 - val_loss: 0.0353 - val_accuracy: 0.9889\n",
      "Epoch 60/100\n",
      "445/445 [==============================] - 84s 189ms/step - loss: 0.0659 - accuracy: 0.9746 - val_loss: 0.0410 - val_accuracy: 0.9877\n",
      "Epoch 61/100\n",
      "445/445 [==============================] - 84s 188ms/step - loss: 0.0886 - accuracy: 0.9694 - val_loss: 0.0381 - val_accuracy: 0.9877\n",
      "Epoch 62/100\n",
      "445/445 [==============================] - 84s 189ms/step - loss: 0.0589 - accuracy: 0.9782 - val_loss: 0.0673 - val_accuracy: 0.9837\n",
      "Epoch 63/100\n",
      "445/445 [==============================] - 85s 190ms/step - loss: 0.0583 - accuracy: 0.9787 - val_loss: 0.0459 - val_accuracy: 0.9821\n",
      "Epoch 64/100\n",
      "445/445 [==============================] - 83s 187ms/step - loss: 0.1046 - accuracy: 0.9624 - val_loss: 0.0367 - val_accuracy: 0.9861\n",
      "Epoch 65/100\n",
      "445/445 [==============================] - 84s 188ms/step - loss: 0.0640 - accuracy: 0.9768 - val_loss: 0.0365 - val_accuracy: 0.9865\n",
      "Epoch 66/100\n",
      "445/445 [==============================] - 85s 190ms/step - loss: 0.0623 - accuracy: 0.9778 - val_loss: 0.0347 - val_accuracy: 0.9896\n",
      "Epoch 67/100\n",
      "445/445 [==============================] - 83s 186ms/step - loss: 0.0738 - accuracy: 0.9739 - val_loss: 0.0434 - val_accuracy: 0.9845\n",
      "Epoch 68/100\n",
      "445/445 [==============================] - 84s 187ms/step - loss: 0.0683 - accuracy: 0.9763 - val_loss: 0.0471 - val_accuracy: 0.9845\n",
      "Epoch 69/100\n",
      "445/445 [==============================] - 84s 189ms/step - loss: 0.0614 - accuracy: 0.9781 - val_loss: 0.0478 - val_accuracy: 0.9793\n",
      "Epoch 70/100\n",
      "445/445 [==============================] - 85s 190ms/step - loss: 0.0710 - accuracy: 0.9747 - val_loss: 0.0529 - val_accuracy: 0.9841\n",
      "Epoch 71/100\n",
      "445/445 [==============================] - 83s 187ms/step - loss: 0.0593 - accuracy: 0.9796 - val_loss: 0.0458 - val_accuracy: 0.9817\n",
      "Epoch 72/100\n",
      "445/445 [==============================] - 83s 187ms/step - loss: 0.0711 - accuracy: 0.9753 - val_loss: 0.0509 - val_accuracy: 0.9833\n",
      "Epoch 73/100\n",
      "445/445 [==============================] - 84s 188ms/step - loss: 0.0547 - accuracy: 0.9806 - val_loss: 0.0431 - val_accuracy: 0.9849\n",
      "Epoch 74/100\n",
      "445/445 [==============================] - 83s 187ms/step - loss: 0.0719 - accuracy: 0.9763 - val_loss: 0.0634 - val_accuracy: 0.9805\n",
      "Epoch 75/100\n",
      "445/445 [==============================] - 84s 188ms/step - loss: 0.0662 - accuracy: 0.9761 - val_loss: 0.0469 - val_accuracy: 0.9821\n",
      "Epoch 76/100\n",
      "445/445 [==============================] - 83s 187ms/step - loss: 0.0673 - accuracy: 0.9768 - val_loss: 0.0521 - val_accuracy: 0.9801\n",
      "Epoch 77/100\n",
      "445/445 [==============================] - 84s 188ms/step - loss: 0.0537 - accuracy: 0.9798 - val_loss: 0.0408 - val_accuracy: 0.9869\n",
      "Epoch 78/100\n",
      "445/445 [==============================] - 84s 187ms/step - loss: 0.0640 - accuracy: 0.9794 - val_loss: 0.0470 - val_accuracy: 0.9857\n",
      "Epoch 79/100\n",
      "445/445 [==============================] - 84s 187ms/step - loss: 0.0617 - accuracy: 0.9784 - val_loss: 0.0243 - val_accuracy: 0.9908\n",
      "Epoch 80/100\n",
      "445/445 [==============================] - 84s 189ms/step - loss: 0.0699 - accuracy: 0.9766 - val_loss: 0.0394 - val_accuracy: 0.9857\n",
      "Epoch 81/100\n",
      "445/445 [==============================] - 84s 189ms/step - loss: 0.0900 - accuracy: 0.9688 - val_loss: 0.0510 - val_accuracy: 0.9809\n",
      "Epoch 82/100\n",
      "445/445 [==============================] - 84s 189ms/step - loss: 0.0590 - accuracy: 0.9782 - val_loss: 0.0382 - val_accuracy: 0.9865\n",
      "Epoch 83/100\n",
      "445/445 [==============================] - 84s 189ms/step - loss: 0.0561 - accuracy: 0.9803 - val_loss: 0.0478 - val_accuracy: 0.9817\n",
      "Epoch 84/100\n",
      "445/445 [==============================] - 84s 189ms/step - loss: 0.0552 - accuracy: 0.9798 - val_loss: 0.0481 - val_accuracy: 0.9857\n",
      "Epoch 85/100\n",
      "445/445 [==============================] - 84s 188ms/step - loss: 0.0517 - accuracy: 0.9813 - val_loss: 0.0417 - val_accuracy: 0.9869\n",
      "Epoch 86/100\n",
      "445/445 [==============================] - 84s 188ms/step - loss: 0.0532 - accuracy: 0.9814 - val_loss: 0.0243 - val_accuracy: 0.9904\n",
      "Epoch 87/100\n",
      "445/445 [==============================] - 84s 189ms/step - loss: 0.1400 - accuracy: 0.9543 - val_loss: 0.0957 - val_accuracy: 0.9602\n",
      "Epoch 88/100\n",
      "445/445 [==============================] - 84s 189ms/step - loss: 0.0856 - accuracy: 0.9690 - val_loss: 0.1133 - val_accuracy: 0.9737\n",
      "Epoch 89/100\n",
      "445/445 [==============================] - 84s 187ms/step - loss: 0.0735 - accuracy: 0.9747 - val_loss: 0.0360 - val_accuracy: 0.9889\n",
      "Epoch 90/100\n",
      "445/445 [==============================] - 83s 187ms/step - loss: 0.0595 - accuracy: 0.9794 - val_loss: 0.0338 - val_accuracy: 0.9885\n",
      "Epoch 91/100\n",
      "445/445 [==============================] - 83s 187ms/step - loss: 0.0551 - accuracy: 0.9810 - val_loss: 0.0398 - val_accuracy: 0.9873\n",
      "Epoch 92/100\n",
      "445/445 [==============================] - 84s 187ms/step - loss: 0.0732 - accuracy: 0.9749 - val_loss: 0.0487 - val_accuracy: 0.9857\n",
      "Epoch 93/100\n",
      "445/445 [==============================] - 83s 186ms/step - loss: 0.0552 - accuracy: 0.9793 - val_loss: 0.0396 - val_accuracy: 0.9885\n",
      "Epoch 94/100\n",
      "445/445 [==============================] - 83s 187ms/step - loss: 0.0503 - accuracy: 0.9813 - val_loss: 0.0467 - val_accuracy: 0.9821\n",
      "Epoch 95/100\n",
      "445/445 [==============================] - 83s 187ms/step - loss: 0.0561 - accuracy: 0.9803 - val_loss: 0.0255 - val_accuracy: 0.9924\n",
      "Epoch 96/100\n",
      "445/445 [==============================] - 83s 187ms/step - loss: 0.0567 - accuracy: 0.9796 - val_loss: 0.0461 - val_accuracy: 0.9837\n",
      "Epoch 97/100\n",
      "445/445 [==============================] - 84s 189ms/step - loss: 0.0556 - accuracy: 0.9812 - val_loss: 0.0365 - val_accuracy: 0.9865\n",
      "Epoch 98/100\n",
      "445/445 [==============================] - 84s 188ms/step - loss: 0.0482 - accuracy: 0.9831 - val_loss: 0.0395 - val_accuracy: 0.9837\n",
      "Epoch 99/100\n",
      "445/445 [==============================] - 84s 188ms/step - loss: 0.0671 - accuracy: 0.9763 - val_loss: 0.0610 - val_accuracy: 0.9765\n",
      "Epoch 100/100\n",
      "445/445 [==============================] - 83s 186ms/step - loss: 0.0694 - accuracy: 0.9784 - val_loss: 0.0275 - val_accuracy: 0.9900\n",
      "INFO:tensorflow:Assets written to: C:\\Users\\diosdadj\\AppData\\Local\\Temp\\tmpamrtrdez\\model\\data\\model\\assets\n"
     ]
    },
    {
     "name": "stderr",
     "output_type": "stream",
     "text": [
      "2023/03/15 20:40:01 WARNING mlflow.utils.autologging_utils: MLflow autologging encountered a warning: \"c:\\Users\\diosdadj\\Anaconda3\\envs\\ml\\lib\\site-packages\\_distutils_hack\\__init__.py:33: UserWarning: Setuptools is replacing distutils.\"\n"
     ]
    }
   ],
   "source": [
    "epochs = 100\n",
    "history = model.fit(\n",
    "    train_ds, epochs=epochs, validation_data=val_ds, callbacks=[model_checkpoint_callback]\n",
    ")"
   ]
  },
  {
   "cell_type": "code",
   "execution_count": 29,
   "metadata": {},
   "outputs": [],
   "source": [
    "#Guardo el modelo en la última epoch. Esto \n",
    "model.save(folder_date + '/modelo_entrenado.h5')\n"
   ]
  },
  {
   "cell_type": "code",
   "execution_count": 30,
   "metadata": {},
   "outputs": [
    {
     "name": "stdout",
     "output_type": "stream",
     "text": [
      "dict_keys(['loss', 'accuracy', 'val_loss', 'val_accuracy'])\n"
     ]
    }
   ],
   "source": [
    "history\n",
    "print(history.history.keys())"
   ]
  },
  {
   "cell_type": "code",
   "execution_count": 31,
   "metadata": {},
   "outputs": [
    {
     "data": {
      "text/plain": [
       "'old_models/2023_03_15-06_06_37_PM/accuracy.png'"
      ]
     },
     "execution_count": 31,
     "metadata": {},
     "output_type": "execute_result"
    }
   ],
   "source": [
    "folder_date + \"/accuracy.png\""
   ]
  },
  {
   "cell_type": "code",
   "execution_count": 32,
   "metadata": {},
   "outputs": [
    {
     "name": "stdout",
     "output_type": "stream",
     "text": [
      "dict_keys(['loss', 'accuracy', 'val_loss', 'val_accuracy'])\n"
     ]
    },
    {
     "data": {
      "image/png": "[encoded data removed]",
      "text/plain": [
       "<Figure size 432x288 with 1 Axes>"
      ]
     },
     "metadata": {
      "needs_background": "light"
     },
     "output_type": "display_data"
    },
    {
     "data": {
      "image/png": "[encoded data removed]",
      "text/plain": [
       "<Figure size 432x288 with 1 Axes>"
      ]
     },
     "metadata": {
      "needs_background": "light"
     },
     "output_type": "display_data"
    }
   ],
   "source": [
    "print(history.history.keys())\n",
    "\n",
    "#  \"Accuracy\"\n",
    "plt.plot(history.history['accuracy'])\n",
    "plt.plot(history.history['val_accuracy'])\n",
    "plt.title('model accuracy')\n",
    "plt.ylabel('accuracy')\n",
    "plt.xlabel('epoch')\n",
    "plt.legend(['train', 'validation'], loc='upper left')\n",
    "plt.savefig(folder_date + \"/accuracy.png\")\n",
    "plt.show()\n",
    "\n",
    "# \"Loss\"\n",
    "plt.plot(history.history['loss'])\n",
    "plt.plot(history.history['val_loss'])\n",
    "plt.title('model loss')\n",
    "plt.ylabel('loss')\n",
    "plt.xlabel('epoch')\n",
    "plt.legend(['train', 'validation'], loc='upper left')\n",
    "plt.savefig(folder_date + \"/loss.png\")\n",
    "plt.show()\n",
    "\n",
    "\n",
    "\n"
   ]
  },
  {
   "attachments": {},
   "cell_type": "markdown",
   "metadata": {},
   "source": [
    "Preguntas, cómo puedo gestionar datos que vienen de dos distribuciones distintas?\n",
    "\n"
   ]
  },
  {
   "attachments": {},
   "cell_type": "markdown",
   "metadata": {},
   "source": [
    "# This is a section to evaluate the model on te test data"
   ]
  },
  {
   "cell_type": "code",
   "execution_count": 33,
   "metadata": {},
   "outputs": [],
   "source": [
    "from sklearn.metrics import confusion_matrix, ConfusionMatrixDisplay, precision_recall_fscore_support\n"
   ]
  },
  {
   "cell_type": "code",
   "execution_count": 34,
   "metadata": {},
   "outputs": [
    {
     "name": "stdout",
     "output_type": "stream",
     "text": [
      "[0, 0, 0, 0, 2, 2, 2, 2, 2, 2, 2, 2, 2, 2, 2, 2, 0, 0, 2, 2, 2, 2, 2, 2, 1, 1, 1, 1, 1, 1, 1, 1, 1, 1, 1, 1, 0, 0, 0, 0, 0, 0, 0, 0, 0, 0, 0, 0, 1, 1, 1, 1, 1, 1, 1, 1, 1, 1, 1, 1, 2, 2, 2, 2, 2, 2, 2, 2, 2, 2, 2, 2]\n",
      "[0, 0, 0, 0, 0, 0, 0, 0, 0, 0, 0, 0, 1, 1, 1, 1, 1, 1, 1, 1, 1, 1, 1, 2, 1, 1, 1, 1, 1, 1, 1, 1, 1, 1, 1, 1, 0, 0, 0, 0, 0, 0, 0, 0, 0, 0, 0, 0, 1, 1, 1, 1, 1, 1, 1, 1, 1, 1, 1, 1, 2, 2, 2, 2, 2, 2, 2, 2, 2, 2, 2, 2]\n"
     ]
    },
    {
     "data": {
      "image/png": "[encoded data removed]",
      "text/plain": [
       "<Figure size 432x288 with 2 Axes>"
      ]
     },
     "metadata": {
      "needs_background": "light"
     },
     "output_type": "display_data"
    }
   ],
   "source": [
    "# Load the test images from the folder 'test_images'\n",
    "predicted_labels= []\n",
    "true_labels = []\n",
    "\n",
    "directory = \"test_set\"\n",
    "\n",
    "for filename in os.listdir(directory):\n",
    "\n",
    "    # Load the image and add it to the list of test images\n",
    "    f = os.path.join(directory, filename)\n",
    "    imagen = tf.keras.preprocessing.image.load_img(f, target_size=(255,255))\n",
    "    x = tf.keras.preprocessing.image.img_to_array(imagen)    \n",
    "    x = np.expand_dims(x, axis=0)\n",
    "\n",
    "\n",
    "\n",
    "    prediction = model.predict(x)\n",
    "    \n",
    "    predicted_class = np.argmax(prediction)\n",
    "\n",
    "    #True labels are calculated based on name. It is a very weak way of doing it. Look for a better one or rename the files\n",
    "\n",
    "    if 'aca' in filename:\n",
    "        true_labels.append(0)\n",
    "    elif 'scc' in filename or ' e ' in filename:\n",
    "        true_labels.append(2)\n",
    "    elif 'lungn' or ' N ' in filename:\n",
    "        true_labels.append(1)\n",
    "   \n",
    "    \n",
    "\n",
    "    predicted_labels.append(predicted_class)\n",
    "\n",
    "print(predicted_labels)\n",
    "print(true_labels)\n",
    "\n",
    "\n",
    "cm = confusion_matrix(true_labels, predicted_labels)\n",
    "disp = ConfusionMatrixDisplay(confusion_matrix=cm)\n",
    "precision_recall_fscore_support(true_labels, predicted_labels)\n",
    "\n",
    "\n",
    "disp.plot()\n",
    "plt.show()\n",
    "\n"
   ]
  },
  {
   "attachments": {},
   "cell_type": "markdown",
   "metadata": {},
   "source": [
    "#Predice mal en las muestras de Henar. Veremos con el nuevo dataset, pero quizá haya que hacer un training con peso Opciones:\n",
    "\n",
    "Undersample the larger distribution: randomly remove examples from the larger distribution until it matches the size of the smaller one.\n",
    "\n",
    "Oversample the smaller distribution: randomly duplicate examples from the smaller distribution until it matches the size of the larger one.\n",
    "\n",
    "Data augmentation: generate new examples from the smaller distribution using techniques like rotation, flipping, or zooming.\n",
    "\n",
    "Use class weights: adjust the loss function of your CNN to assign higher weights to the smaller distribution so that it receives more emphasis during training.\n",
    "\n",
    "Fine-tuning: you could use a pre-trained model to initialize the weights and only fine-tune the last few layers to fit the imbalanced data."
   ]
  },
  {
   "attachments": {},
   "cell_type": "markdown",
   "metadata": {},
   "source": []
  },
  {
   "attachments": {},
   "cell_type": "markdown",
   "metadata": {},
   "source": []
  },
  {
   "attachments": {},
   "cell_type": "markdown",
   "metadata": {},
   "source": [
    "1. Domain shift\n",
    "2. "
   ]
  }
 ],
 "metadata": {
  "kernelspec": {
   "display_name": "ml",
   "language": "python",
   "name": "python3"
  },
  "language_info": {
   "codemirror_mode": {
    "name": "ipython",
    "version": 3
   },
   "file_extension": ".py",
   "mimetype": "text/x-python",
   "name": "python",
   "nbconvert_exporter": "python",
   "pygments_lexer": "ipython3",
   "version": "3.9.12"
  },
  "orig_nbformat": 4,
  "vscode": {
   "interpreter": {
    "hash": "fea903cc172cce62c6301ba3c7eecfb26209215bbdb6c0bb5db0de1694474dd0"
   }
  }
 },
 "nbformat": 4,
 "nbformat_minor": 2
}
