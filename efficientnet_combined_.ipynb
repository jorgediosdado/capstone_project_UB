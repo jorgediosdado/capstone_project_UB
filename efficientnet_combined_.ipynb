{
 "cells": [
  {
   "cell_type": "code",
   "execution_count": 1,
   "metadata": {},
   "outputs": [],
   "source": [
    "import os\n",
    "import tensorflow as tf\n",
    "from keras import models\n",
    "from keras import layers\n",
    "from keras import Sequential\n",
    "from datetime import datetime\n",
    "from PIL import Image\n",
    "import numpy as np\n",
    "import keras.backend as K\n",
    "import matplotlib.pyplot as plt\n",
    "import mlflow\n",
    "from tensorflow.keras.layers.experimental import preprocessing\n",
    "from tensorflow.keras.applications import EfficientNetB5\n",
    "from tensorflow.keras.utils import plot_model\n",
    "from matplotlib import pyplot as plt\n",
    "from keras.models import Model\n",
    "from sklearn.metrics import confusion_matrix, ConfusionMatrixDisplay, precision_score, recall_score, accuracy_score\n"
   ]
  },
  {
   "cell_type": "code",
   "execution_count": 4,
   "metadata": {},
   "outputs": [],
   "source": [
    "dataset_name = \"combined_dataset\"\n",
    "batch_size = 64"
   ]
  },
  {
   "cell_type": "code",
   "execution_count": 5,
   "metadata": {},
   "outputs": [
    {
     "name": "stdout",
     "output_type": "stream",
     "text": [
      "Found 16514 files belonging to 3 classes.\n",
      "Using 13212 files for training.\n",
      "Found 16514 files belonging to 3 classes.\n",
      "Using 3302 files for validation.\n"
     ]
    }
   ],
   "source": [
    "# Load the dataset\n",
    "\n",
    "image_size = (255, 255)\n",
    "\n",
    "train_ds = tf.keras.preprocessing.image_dataset_from_directory(\n",
    "    dataset_name,\n",
    "    validation_split=0.2,\n",
    "    subset=\"training\",\n",
    "    label_mode = 'int',\n",
    "    labels = 'inferred',\n",
    "    seed=1336,\n",
    "    image_size=image_size,\n",
    "    interpolation = 'bilinear',\n",
    "    batch_size=batch_size,\n",
    "    shuffle = True,\n",
    ")\n",
    "val_ds = tf.keras.preprocessing.image_dataset_from_directory(\n",
    "    dataset_name,\n",
    "    validation_split=0.2,\n",
    "    subset=\"validation\",\n",
    "    label_mode = 'int',\n",
    "    labels = 'inferred',\n",
    "    seed=1336,\n",
    "    image_size=image_size,\n",
    "    interpolation = 'bilinear',\n",
    "    batch_size=batch_size,\n",
    "    shuffle = True,\n",
    ")\n"
   ]
  },
  {
   "cell_type": "code",
   "execution_count": 6,
   "metadata": {},
   "outputs": [],
   "source": [
    "# Obtain the number of samples\n",
    "num_train_samples = 0\n",
    "for images, labels in train_ds:\n",
    "    num_train_samples += images.shape[0]\n",
    "\n",
    "num_val_samples = 0\n",
    "for images, labels in val_ds:\n",
    "    num_val_samples += images.shape[0]\n",
    "\n",
    "\n"
   ]
  },
  {
   "cell_type": "code",
   "execution_count": 7,
   "metadata": {},
   "outputs": [
    {
     "name": "stdout",
     "output_type": "stream",
     "text": [
      "Number of training samples: 13212\n",
      "Number of validation samples: 3302\n"
     ]
    }
   ],
   "source": [
    "print(\"Number of training samples:\", num_train_samples)\n",
    "print(\"Number of validation samples:\", num_val_samples)\n"
   ]
  },
  {
   "cell_type": "code",
   "execution_count": 8,
   "metadata": {},
   "outputs": [],
   "source": [
    "imput = (255,255,3)"
   ]
  },
  {
   "cell_type": "code",
   "execution_count": 9,
   "metadata": {},
   "outputs": [
    {
     "name": "stdout",
     "output_type": "stream",
     "text": [
      "Model: \"model\"\n",
      "_________________________________________________________________\n",
      "Layer (type)                 Output Shape              Param #   \n",
      "=================================================================\n",
      "input_2 (InputLayer)         [(None, 255, 255, 3)]     0         \n",
      "_________________________________________________________________\n",
      "sequential (Sequential)      (None, 255, 255, 3)       0         \n",
      "_________________________________________________________________\n",
      "efficientnetb5 (Functional)  (None, 2048)              28513527  \n",
      "_________________________________________________________________\n",
      "dense (Dense)                (None, 512)               1049088   \n",
      "_________________________________________________________________\n",
      "dense_1 (Dense)              (None, 3)                 1539      \n",
      "=================================================================\n",
      "Total params: 29,564,154\n",
      "Trainable params: 4,073,475\n",
      "Non-trainable params: 25,490,679\n",
      "_________________________________________________________________\n"
     ]
    }
   ],
   "source": [
    "base_model = EfficientNetB5(include_top = False ,weights='imagenet', pooling='avg')\n",
    "\n",
    "#todo introduce a layer of data augmentation \n",
    "\n",
    "# Introduce a layer of data augmentation\n",
    "data_augmentation = Sequential([\n",
    "   preprocessing.RandomRotation(0.2),\n",
    "    preprocessing.RandomFlip(\"horizontal\"),\n",
    "    preprocessing.RandomZoom(0.2),\n",
    "    preprocessing.RandomContrast(0.2),\n",
    "    preprocessing.RandomTranslation(0.2, 0.2),    \n",
    "])\n",
    "\n",
    "\n",
    "\n",
    "# Freeze all layers in the base model\n",
    "for layer in base_model.layers:\n",
    "    layer.trainable = False\n",
    "\n",
    "# Unfreeze the last 10 layers in the base model for fine-tuning\n",
    "\n",
    "for layer in base_model.layers[-10:]:\n",
    "    layer.trainable = True\n",
    "\n",
    "#Capa de entradas. No se si eficientnet ya espera 225x225 o es 224 x 224. En realidad la efficient net ya tiene un parametro de input shape...\n",
    "# Capa de entradas\n",
    "\n",
    "entradas = layers.Input((255, 255, 3))\n",
    "\n",
    "# Apply data augmentation to the input images\n",
    "x = data_augmentation(entradas)\n",
    "\n",
    "\n",
    "# Pass the augmented images through the base model\n",
    "x = base_model(x)\n",
    "\n",
    "\n",
    "# Add a dense layer\n",
    "x = layers.Dense(512, activation='relu')(x)\n",
    "# Add another dense layer\n",
    "salidas = layers.Dense(3, activation='softmax')(x)\n",
    "\n",
    "modelo = Model(inputs = entradas, outputs = salidas)\n",
    "\n",
    "modelo.compile(optimizer = 'adam', loss = 'sparse_categorical_crossentropy', metrics = ['accuracy'])\n",
    "modelo.summary()\n",
    "\n",
    "\n"
   ]
  },
  {
   "cell_type": "code",
   "execution_count": 10,
   "metadata": {},
   "outputs": [
    {
     "name": "stdout",
     "output_type": "stream",
     "text": [
      "Number of parameters: 29564154\n"
     ]
    }
   ],
   "source": [
    "num_params = modelo.count_params()\n",
    "print(\"Number of parameters:\", num_params)\n",
    "\n"
   ]
  },
  {
   "cell_type": "code",
   "execution_count": 11,
   "metadata": {},
   "outputs": [],
   "source": [
    "folder_date = 'old_models/' +  datetime.now().strftime(\"%Y_%m_%d-%I_%M_%S_%p\")\n",
    "os.mkdir(folder_date)\n",
    "filepath_model = folder_date + '/my_best_model.epoch{epoch:02d}-loss{val_loss:.2f}.hdf5'\n"
   ]
  },
  {
   "attachments": {},
   "cell_type": "markdown",
   "metadata": {},
   "source": [
    "# Callbacks"
   ]
  },
  {
   "cell_type": "code",
   "execution_count": 12,
   "metadata": {},
   "outputs": [],
   "source": [
    "model_checkpoint_callback = tf.keras.callbacks.ModelCheckpoint(\n",
    "filepath=filepath_model,\n",
    "save_weights_only=False,\n",
    "monitor='val_accuracy',\n",
    "mode='max',\n",
    "save_freq=\"epoch\",\n",
    "save_best_only=True)"
   ]
  },
  {
   "cell_type": "code",
   "execution_count": 13,
   "metadata": {},
   "outputs": [],
   "source": [
    "early_stopping = tf.keras.callbacks.EarlyStopping(monitor='val_loss', patience=4, mode='auto', verbose = 1, )"
   ]
  },
  {
   "attachments": {},
   "cell_type": "markdown",
   "metadata": {},
   "source": [
    "## Para hacer un training con weights"
   ]
  },
  {
   "cell_type": "code",
   "execution_count": 14,
   "metadata": {},
   "outputs": [],
   "source": [
    "\n",
    "# # Calculate class weights\n",
    "# # class_weights = tf.class_weight.compute_class_weight('balanced', tf.unique(train_ds.labels)[0], train_ds.labels)\n",
    "\n",
    "# # Convert class weights to dictionary\n",
    "# # class_weights_dict = {i: weight for i, weight in enumerate(class_weights)}\n",
    "\n",
    "# # history = modelo.fit(\n",
    "# #     train_ds, epochs=epochs, validation_data=val_ds, callbacks=[model_checkpoint_callback], class_weight=class_weights_dict\n",
    "# # )"
   ]
  },
  {
   "cell_type": "code",
   "execution_count": 15,
   "metadata": {},
   "outputs": [
    {
     "name": "stdout",
     "output_type": "stream",
     "text": [
      "Epoch 1/80\n",
      "207/207 [==============================] - 356s 2s/step - loss: 0.2971 - accuracy: 0.8778 - val_loss: 0.1933 - val_accuracy: 0.9231\n"
     ]
    },
    {
     "name": "stderr",
     "output_type": "stream",
     "text": [
      "c:\\Users\\diosdadj\\Anaconda3\\envs\\ml\\lib\\site-packages\\keras\\utils\\generic_utils.py:494: CustomMaskWarning: Custom mask layers require a config and must override get_config. When loading, the custom mask layer must be passed to the custom_objects argument.\n",
      "  warnings.warn('Custom mask layers require a config and must override '\n"
     ]
    },
    {
     "name": "stdout",
     "output_type": "stream",
     "text": [
      "Epoch 2/80\n",
      "207/207 [==============================] - 302s 1s/step - loss: 0.2092 - accuracy: 0.9147 - val_loss: 0.1564 - val_accuracy: 0.9409\n",
      "Epoch 3/80\n",
      "207/207 [==============================] - 283s 1s/step - loss: 0.1809 - accuracy: 0.9264 - val_loss: 0.1392 - val_accuracy: 0.9446\n",
      "Epoch 4/80\n",
      "207/207 [==============================] - 289s 1s/step - loss: 0.1687 - accuracy: 0.9335 - val_loss: 0.1368 - val_accuracy: 0.9491\n",
      "Epoch 5/80\n",
      "207/207 [==============================] - 282s 1s/step - loss: 0.1548 - accuracy: 0.9367 - val_loss: 0.1746 - val_accuracy: 0.9185\n",
      "Epoch 6/80\n",
      "207/207 [==============================] - 282s 1s/step - loss: 0.1397 - accuracy: 0.9466 - val_loss: 0.1270 - val_accuracy: 0.9525\n",
      "Epoch 7/80\n",
      "207/207 [==============================] - 280s 1s/step - loss: 0.1326 - accuracy: 0.9482 - val_loss: 0.1040 - val_accuracy: 0.9664\n",
      "Epoch 8/80\n",
      "207/207 [==============================] - 278s 1s/step - loss: 0.1218 - accuracy: 0.9538 - val_loss: 0.1057 - val_accuracy: 0.9582\n",
      "Epoch 9/80\n",
      "207/207 [==============================] - 278s 1s/step - loss: 0.1224 - accuracy: 0.9529 - val_loss: 0.1337 - val_accuracy: 0.9522\n",
      "Epoch 10/80\n",
      "207/207 [==============================] - 278s 1s/step - loss: 0.1173 - accuracy: 0.9532 - val_loss: 0.0964 - val_accuracy: 0.9634\n",
      "Epoch 11/80\n",
      "207/207 [==============================] - 277s 1s/step - loss: 0.1042 - accuracy: 0.9606 - val_loss: 0.0829 - val_accuracy: 0.9703\n",
      "Epoch 12/80\n",
      "207/207 [==============================] - 277s 1s/step - loss: 0.1031 - accuracy: 0.9606 - val_loss: 0.0806 - val_accuracy: 0.9688\n",
      "Epoch 13/80\n",
      "207/207 [==============================] - 277s 1s/step - loss: 0.0981 - accuracy: 0.9630 - val_loss: 0.1104 - val_accuracy: 0.9579\n",
      "Epoch 14/80\n",
      "207/207 [==============================] - 278s 1s/step - loss: 0.0996 - accuracy: 0.9628 - val_loss: 0.0850 - val_accuracy: 0.9673\n",
      "Epoch 15/80\n",
      "207/207 [==============================] - 277s 1s/step - loss: 0.0935 - accuracy: 0.9659 - val_loss: 0.0757 - val_accuracy: 0.9718\n",
      "Epoch 16/80\n",
      "207/207 [==============================] - 278s 1s/step - loss: 0.0870 - accuracy: 0.9668 - val_loss: 0.0858 - val_accuracy: 0.9688\n",
      "Epoch 17/80\n",
      "207/207 [==============================] - 277s 1s/step - loss: 0.0914 - accuracy: 0.9646 - val_loss: 0.0879 - val_accuracy: 0.9664\n",
      "Epoch 18/80\n",
      "207/207 [==============================] - 289s 1s/step - loss: 0.0895 - accuracy: 0.9668 - val_loss: 0.0900 - val_accuracy: 0.9631\n",
      "Epoch 19/80\n",
      "207/207 [==============================] - 280s 1s/step - loss: 0.0847 - accuracy: 0.9684 - val_loss: 0.0935 - val_accuracy: 0.9658\n",
      "Epoch 20/80\n",
      "207/207 [==============================] - 278s 1s/step - loss: 0.0824 - accuracy: 0.9695 - val_loss: 0.0865 - val_accuracy: 0.9667\n",
      "Epoch 21/80\n",
      "207/207 [==============================] - 278s 1s/step - loss: 0.0827 - accuracy: 0.9698 - val_loss: 0.0812 - val_accuracy: 0.9703\n",
      "Epoch 22/80\n",
      "207/207 [==============================] - 277s 1s/step - loss: 0.0734 - accuracy: 0.9721 - val_loss: 0.0691 - val_accuracy: 0.9740\n",
      "Epoch 23/80\n",
      "207/207 [==============================] - 277s 1s/step - loss: 0.0769 - accuracy: 0.9704 - val_loss: 0.0768 - val_accuracy: 0.9688\n",
      "Epoch 24/80\n",
      "207/207 [==============================] - 281s 1s/step - loss: 0.0787 - accuracy: 0.9714 - val_loss: 0.0850 - val_accuracy: 0.9697\n",
      "Epoch 25/80\n",
      "207/207 [==============================] - 281s 1s/step - loss: 0.0778 - accuracy: 0.9718 - val_loss: 0.0647 - val_accuracy: 0.9755\n",
      "Epoch 26/80\n",
      "207/207 [==============================] - 281s 1s/step - loss: 0.0684 - accuracy: 0.9761 - val_loss: 0.0693 - val_accuracy: 0.9749\n",
      "Epoch 27/80\n",
      "207/207 [==============================] - 282s 1s/step - loss: 0.0680 - accuracy: 0.9756 - val_loss: 0.1089 - val_accuracy: 0.9673\n",
      "Epoch 28/80\n",
      "207/207 [==============================] - 282s 1s/step - loss: 0.0684 - accuracy: 0.9748 - val_loss: 0.0837 - val_accuracy: 0.9706\n",
      "Epoch 29/80\n",
      "207/207 [==============================] - 281s 1s/step - loss: 0.0689 - accuracy: 0.9743 - val_loss: 0.0798 - val_accuracy: 0.9743\n",
      "Epoch 30/80\n",
      "207/207 [==============================] - 281s 1s/step - loss: 0.0697 - accuracy: 0.9749 - val_loss: 0.0778 - val_accuracy: 0.9727\n",
      "Epoch 31/80\n",
      "207/207 [==============================] - 281s 1s/step - loss: 0.0654 - accuracy: 0.9747 - val_loss: 0.0749 - val_accuracy: 0.9721\n",
      "Epoch 32/80\n",
      "207/207 [==============================] - 281s 1s/step - loss: 0.0655 - accuracy: 0.9743 - val_loss: 0.0571 - val_accuracy: 0.9812\n",
      "Epoch 33/80\n",
      "207/207 [==============================] - 278s 1s/step - loss: 0.0665 - accuracy: 0.9743 - val_loss: 0.0753 - val_accuracy: 0.9718\n",
      "Epoch 34/80\n",
      "207/207 [==============================] - 278s 1s/step - loss: 0.0661 - accuracy: 0.9762 - val_loss: 0.0743 - val_accuracy: 0.9721\n",
      "Epoch 35/80\n",
      "207/207 [==============================] - 279s 1s/step - loss: 0.0607 - accuracy: 0.9779 - val_loss: 0.0620 - val_accuracy: 0.9785\n",
      "Epoch 36/80\n",
      "207/207 [==============================] - 287s 1s/step - loss: 0.0586 - accuracy: 0.9784 - val_loss: 0.0586 - val_accuracy: 0.9803\n",
      "Epoch 37/80\n",
      "207/207 [==============================] - 289s 1s/step - loss: 0.0613 - accuracy: 0.9758 - val_loss: 0.0655 - val_accuracy: 0.9773\n",
      "Epoch 38/80\n",
      "207/207 [==============================] - 320s 2s/step - loss: 0.0543 - accuracy: 0.9794 - val_loss: 0.0537 - val_accuracy: 0.9773\n",
      "Epoch 39/80\n",
      "207/207 [==============================] - 329s 2s/step - loss: 0.0538 - accuracy: 0.9798 - val_loss: 0.0533 - val_accuracy: 0.9818\n",
      "Epoch 40/80\n",
      "207/207 [==============================] - 293s 1s/step - loss: 0.0533 - accuracy: 0.9807 - val_loss: 0.0755 - val_accuracy: 0.9706\n",
      "Epoch 41/80\n",
      "207/207 [==============================] - 290s 1s/step - loss: 0.0557 - accuracy: 0.9795 - val_loss: 0.0491 - val_accuracy: 0.9803\n",
      "Epoch 42/80\n",
      "207/207 [==============================] - 282s 1s/step - loss: 0.0562 - accuracy: 0.9805 - val_loss: 0.0872 - val_accuracy: 0.9673\n",
      "Epoch 43/80\n",
      "207/207 [==============================] - 280s 1s/step - loss: 0.0515 - accuracy: 0.9803 - val_loss: 0.0791 - val_accuracy: 0.9733\n",
      "Epoch 44/80\n",
      "207/207 [==============================] - 283s 1s/step - loss: 0.0515 - accuracy: 0.9809 - val_loss: 0.0649 - val_accuracy: 0.9791\n",
      "Epoch 45/80\n",
      "207/207 [==============================] - 283s 1s/step - loss: 0.0549 - accuracy: 0.9799 - val_loss: 0.0835 - val_accuracy: 0.9727\n",
      "Epoch 46/80\n",
      "207/207 [==============================] - 281s 1s/step - loss: 0.0564 - accuracy: 0.9805 - val_loss: 0.0586 - val_accuracy: 0.9815\n",
      "Epoch 47/80\n",
      "207/207 [==============================] - 293s 1s/step - loss: 0.0572 - accuracy: 0.9812 - val_loss: 0.0505 - val_accuracy: 0.9824\n",
      "Epoch 48/80\n",
      "207/207 [==============================] - 296s 1s/step - loss: 0.0490 - accuracy: 0.9815 - val_loss: 0.0752 - val_accuracy: 0.9761\n",
      "Epoch 49/80\n",
      "207/207 [==============================] - 291s 1s/step - loss: 0.0469 - accuracy: 0.9828 - val_loss: 0.0558 - val_accuracy: 0.9809\n",
      "Epoch 50/80\n",
      "207/207 [==============================] - 284s 1s/step - loss: 0.0455 - accuracy: 0.9821 - val_loss: 0.0832 - val_accuracy: 0.9718\n",
      "Epoch 51/80\n",
      "207/207 [==============================] - 284s 1s/step - loss: 0.0448 - accuracy: 0.9824 - val_loss: 0.0791 - val_accuracy: 0.9733\n",
      "Epoch 52/80\n",
      "207/207 [==============================] - 283s 1s/step - loss: 0.0470 - accuracy: 0.9837 - val_loss: 0.0682 - val_accuracy: 0.9767\n",
      "Epoch 53/80\n",
      "207/207 [==============================] - 287s 1s/step - loss: 0.0447 - accuracy: 0.9833 - val_loss: 0.0522 - val_accuracy: 0.9824\n",
      "Epoch 54/80\n",
      "207/207 [==============================] - 292s 1s/step - loss: 0.0492 - accuracy: 0.9824 - val_loss: 0.0594 - val_accuracy: 0.9830\n",
      "Epoch 55/80\n",
      "207/207 [==============================] - 298s 1s/step - loss: 0.0445 - accuracy: 0.9837 - val_loss: 0.0797 - val_accuracy: 0.9782\n",
      "Epoch 56/80\n",
      "207/207 [==============================] - 286s 1s/step - loss: 0.0466 - accuracy: 0.9831 - val_loss: 0.0772 - val_accuracy: 0.9779\n",
      "Epoch 57/80\n",
      "207/207 [==============================] - 285s 1s/step - loss: 0.0491 - accuracy: 0.9820 - val_loss: 0.0444 - val_accuracy: 0.9855\n",
      "Epoch 58/80\n",
      "207/207 [==============================] - 292s 1s/step - loss: 0.0474 - accuracy: 0.9814 - val_loss: 0.0565 - val_accuracy: 0.9827\n",
      "Epoch 59/80\n",
      "207/207 [==============================] - 295s 1s/step - loss: 0.0441 - accuracy: 0.9852 - val_loss: 0.0512 - val_accuracy: 0.9839\n",
      "Epoch 60/80\n",
      "207/207 [==============================] - 298s 1s/step - loss: 0.0432 - accuracy: 0.9835 - val_loss: 0.0673 - val_accuracy: 0.9821\n",
      "Epoch 61/80\n",
      "207/207 [==============================] - 290s 1s/step - loss: 0.0452 - accuracy: 0.9844 - val_loss: 0.0571 - val_accuracy: 0.9843\n",
      "Epoch 62/80\n",
      "207/207 [==============================] - 287s 1s/step - loss: 0.0454 - accuracy: 0.9838 - val_loss: 0.0594 - val_accuracy: 0.9806\n",
      "Epoch 63/80\n",
      "207/207 [==============================] - 285s 1s/step - loss: 0.0414 - accuracy: 0.9843 - val_loss: 0.0697 - val_accuracy: 0.9812\n",
      "Epoch 64/80\n",
      "207/207 [==============================] - 281s 1s/step - loss: 0.0439 - accuracy: 0.9827 - val_loss: 0.0569 - val_accuracy: 0.9809\n",
      "Epoch 65/80\n",
      "207/207 [==============================] - 279s 1s/step - loss: 0.0464 - accuracy: 0.9833 - val_loss: 0.0515 - val_accuracy: 0.9821\n",
      "Epoch 66/80\n",
      "207/207 [==============================] - 278s 1s/step - loss: 0.0433 - accuracy: 0.9847 - val_loss: 0.0431 - val_accuracy: 0.9858\n",
      "Epoch 67/80\n",
      "207/207 [==============================] - 278s 1s/step - loss: 0.0364 - accuracy: 0.9862 - val_loss: 0.0469 - val_accuracy: 0.9852\n",
      "Epoch 68/80\n",
      "207/207 [==============================] - 281s 1s/step - loss: 0.0436 - accuracy: 0.9840 - val_loss: 0.0565 - val_accuracy: 0.9788\n",
      "Epoch 69/80\n",
      "207/207 [==============================] - 274s 1s/step - loss: 0.0424 - accuracy: 0.9849 - val_loss: 0.0567 - val_accuracy: 0.9800\n",
      "Epoch 70/80\n",
      "207/207 [==============================] - 274s 1s/step - loss: 0.0431 - accuracy: 0.9850 - val_loss: 0.0511 - val_accuracy: 0.9846\n",
      "Epoch 71/80\n",
      "207/207 [==============================] - 280s 1s/step - loss: 0.0363 - accuracy: 0.9864 - val_loss: 0.0540 - val_accuracy: 0.9815\n",
      "Epoch 72/80\n",
      "207/207 [==============================] - 278s 1s/step - loss: 0.0451 - accuracy: 0.9840 - val_loss: 0.0472 - val_accuracy: 0.9846\n",
      "Epoch 73/80\n",
      "207/207 [==============================] - 277s 1s/step - loss: 0.0383 - accuracy: 0.9871 - val_loss: 0.0615 - val_accuracy: 0.9794\n",
      "Epoch 74/80\n",
      "207/207 [==============================] - 277s 1s/step - loss: 0.0423 - accuracy: 0.9849 - val_loss: 0.0757 - val_accuracy: 0.9764\n",
      "Epoch 75/80\n",
      "207/207 [==============================] - 277s 1s/step - loss: 0.0371 - accuracy: 0.9868 - val_loss: 0.0514 - val_accuracy: 0.9836\n",
      "Epoch 76/80\n",
      "207/207 [==============================] - 277s 1s/step - loss: 0.0361 - accuracy: 0.9873 - val_loss: 0.0471 - val_accuracy: 0.9846\n",
      "Epoch 77/80\n",
      "207/207 [==============================] - 277s 1s/step - loss: 0.0359 - accuracy: 0.9871 - val_loss: 0.0679 - val_accuracy: 0.9749\n",
      "Epoch 78/80\n",
      "207/207 [==============================] - 276s 1s/step - loss: 0.0400 - accuracy: 0.9857 - val_loss: 0.0542 - val_accuracy: 0.9821\n",
      "Epoch 79/80\n",
      "207/207 [==============================] - 277s 1s/step - loss: 0.0392 - accuracy: 0.9860 - val_loss: 0.0419 - val_accuracy: 0.9839\n",
      "Epoch 80/80\n",
      "207/207 [==============================] - 277s 1s/step - loss: 0.0367 - accuracy: 0.9877 - val_loss: 0.0543 - val_accuracy: 0.9806\n",
      "52/52 [==============================] - 52s 992ms/step - loss: 0.0543 - accuracy: 0.9806\n"
     ]
    }
   ],
   "source": [
    "# Start an MLflow run\n",
    "mlflow.start_run()\n",
    "\n",
    "mlflow.set_experiment('efficientnet_project_capstone')\n",
    "\n",
    "# Log the name of the dataset\n",
    "mlflow.log_param(\"dataset_name\", dataset_name)\n",
    "\n",
    "# Log the number of samples in the dataset\n",
    "#   mlflow.log_param(\"num_samples_train\", num_train_samples)\n",
    "#   mlflow.log_param(\"num_samples_train\", num_val_samples)\n",
    "\n",
    "epochs = 80\n",
    "history = modelo.fit(\n",
    "    train_ds, epochs=epochs, validation_data=val_ds, callbacks=[model_checkpoint_callback]\n",
    ")\n",
    " \n",
    "# Evaluate the model\n",
    "loss, accuracy = modelo.evaluate(val_ds)\n",
    "\n",
    "#Logging parameters\n",
    "mlflow.log_param(\"epochs\", epochs)\n",
    "mlflow.log_param(\"batch_size\", batch_size)\n",
    "mlflow.log_param(\"parameters\", num_params)\n",
    "\n",
    "\n",
    "#Logging metrics\n",
    "mlflow.log_metric(\"val_loss\", loss)\n",
    "mlflow.log_metric(\"val_accuracy\", accuracy)\n",
    "\n",
    "\n"
   ]
  },
  {
   "cell_type": "code",
   "execution_count": 16,
   "metadata": {},
   "outputs": [],
   "source": [
    "#Guardo el modelo en la última epoch. Esto \n",
    "modelo.save(folder_date + '/modelo_entrenado.h5')\n"
   ]
  },
  {
   "cell_type": "code",
   "execution_count": 17,
   "metadata": {},
   "outputs": [
    {
     "name": "stdout",
     "output_type": "stream",
     "text": [
      "dict_keys(['loss', 'accuracy', 'val_loss', 'val_accuracy'])\n"
     ]
    }
   ],
   "source": [
    "history\n",
    "print(history.history.keys())"
   ]
  },
  {
   "cell_type": "code",
   "execution_count": 18,
   "metadata": {},
   "outputs": [
    {
     "data": {
      "text/plain": [
       "'old_models/2023_06_01-12_01_30_PM/accuracy.png'"
      ]
     },
     "execution_count": 18,
     "metadata": {},
     "output_type": "execute_result"
    }
   ],
   "source": [
    "folder_date + \"/accuracy.png\""
   ]
  },
  {
   "cell_type": "code",
   "execution_count": 19,
   "metadata": {},
   "outputs": [
    {
     "name": "stdout",
     "output_type": "stream",
     "text": [
      "dict_keys(['loss', 'accuracy', 'val_loss', 'val_accuracy'])\n"
     ]
    },
    {
     "data": {
      "image/png": "[encoded data removed]",
      "text/plain": [
       "<Figure size 432x288 with 1 Axes>"
      ]
     },
     "metadata": {
      "needs_background": "light"
     },
     "output_type": "display_data"
    },
    {
     "data": {
      "image/png": "[encoded data removed]",
      "text/plain": [
       "<Figure size 432x288 with 1 Axes>"
      ]
     },
     "metadata": {
      "needs_background": "light"
     },
     "output_type": "display_data"
    }
   ],
   "source": [
    "print(history.history.keys())\n",
    "\n",
    "#  \"Accuracy\"\n",
    "plt.plot(history.history['accuracy'])\n",
    "plt.plot(history.history['val_accuracy'])\n",
    "plt.title('model accuracy')\n",
    "plt.ylabel('accuracy')\n",
    "plt.xlabel('epoch')\n",
    "plt.legend(['train', 'validation'], loc='upper left')\n",
    "\n",
    "plt.text(len(history.history['accuracy'])-1, history.history['accuracy'][-1], \n",
    "         f\"Acc: {history.history['accuracy'][-1]:.4f}\", ha='center', va='bottom')\n",
    "plt.text(len(history.history['val_accuracy'])-1, history.history['val_accuracy'][-1], \n",
    "         f\"Val Acc: {history.history['val_accuracy'][-1]:.4f}\", ha='center', va='top')\n",
    "\n",
    "\n",
    "plt.savefig(folder_date + \"/accuracy.png\")\n",
    "plt.show()\n",
    "\n",
    "# \"Loss\"\n",
    "plt.plot(history.history['loss'])\n",
    "plt.plot(history.history['val_loss'])\n",
    "plt.title('model loss')\n",
    "plt.ylabel('loss')\n",
    "plt.xlabel('epoch')\n",
    "plt.legend(['train', 'validation'], loc='upper left')\n",
    "\n",
    "plt.text(len(history.history['loss'])-1, history.history['loss'][-1], \n",
    "         f\"Loss: {history.history['loss'][-1]:.4f}\", ha='center', va='bottom')\n",
    "plt.text(len(history.history['val_loss'])-1, history.history['val_loss'][-1], \n",
    "         f\"Val Loss: {history.history['val_loss'][-1]:.4f}\", ha='center', va='top')\n",
    "\n",
    "\n",
    "plt.savefig(folder_date + \"/loss.png\")\n",
    "plt.show()\n",
    "\n",
    "\n",
    "\n"
   ]
  },
  {
   "attachments": {},
   "cell_type": "markdown",
   "metadata": {},
   "source": [
    "Preguntas, cómo puedo gestionar datos que vienen de dos distribuciones distintas?\n",
    "\n"
   ]
  },
  {
   "attachments": {},
   "cell_type": "markdown",
   "metadata": {},
   "source": [
    "# This is a section to evaluate the model on te test data"
   ]
  },
  {
   "cell_type": "code",
   "execution_count": 20,
   "metadata": {},
   "outputs": [
    {
     "name": "stdout",
     "output_type": "stream",
     "text": [
      "[0, 0, 0, 0, 0, 0, 0, 0, 0, 0, 0, 0, 0, 0, 0, 0, 0, 0, 0, 0, 0, 0, 0, 0, 0, 0, 0, 0, 0, 0, 1, 1, 1, 1, 1, 1, 1, 1, 1, 1, 1, 1, 1, 1, 1, 1, 1, 1, 1, 1, 1, 1, 1, 1, 1, 1, 1, 1, 1, 1, 2, 2, 2, 2, 2, 2, 2, 2, 2, 2, 2, 2, 2, 2, 2, 2, 2, 2, 2, 2, 2, 2, 2, 2, 2, 2, 0, 2, 2, 2]\n",
      "[0, 0, 0, 0, 0, 0, 0, 0, 0, 0, 0, 0, 0, 0, 0, 0, 0, 0, 0, 0, 0, 0, 0, 0, 0, 0, 0, 0, 0, 0, 1, 1, 1, 1, 1, 1, 1, 1, 1, 1, 1, 1, 1, 1, 1, 1, 1, 1, 1, 1, 1, 1, 1, 1, 1, 1, 1, 1, 1, 1, 2, 2, 2, 2, 2, 2, 2, 2, 2, 2, 2, 2, 2, 2, 2, 2, 2, 2, 2, 2, 2, 2, 2, 2, 2, 2, 2, 2, 2, 2]\n"
     ]
    },
    {
     "data": {
      "image/png": "[encoded data removed]",
      "text/plain": [
       "<Figure size 432x288 with 2 Axes>"
      ]
     },
     "metadata": {
      "needs_background": "light"
     },
     "output_type": "display_data"
    },
    {
     "name": "stdout",
     "output_type": "stream",
     "text": [
      "Precision: 0.989247311827957\n",
      "Recall: 0.9888888888888889\n",
      "Accuracy: 0.9888888888888889\n"
     ]
    }
   ],
   "source": [
    "# Load the test images from the folder 'test_images'\n",
    "predicted_labels= []\n",
    "true_labels = []\n",
    "\n",
    "label_mapping = {\n",
    "    'aca': 0,\n",
    "    'nor': 1,\n",
    "    'scc': 2\n",
    "}\n",
    "\n",
    "\n",
    "directory = \"test_set_public\"\n",
    "for filename in os.listdir(directory):\n",
    "\n",
    "    # Load the image and add it to the list of test images\n",
    "    f = os.path.join(directory, filename)\n",
    "    imagen = tf.keras.preprocessing.image.load_img(f, target_size=(255,255))\n",
    "    x = tf.keras.preprocessing.image.img_to_array(imagen)    \n",
    "    x = np.expand_dims(x, axis=0)\n",
    "\n",
    "    prediction = modelo.predict(x)\n",
    "    predicted_class = np.argmax(prediction)\n",
    "\n",
    "    #True labels are calculated based on name. It is a very weak way of doing it. Look for a better one or rename the files\n",
    "\n",
    "    if 'aca' in filename or 'lungaca' in filename:\n",
    "        true_labels.append(0)\n",
    "    elif 'scc' in filename or 'lungscc' in filename:\n",
    "        true_labels.append(2)\n",
    "    elif 'nor' in filename or 'lungn' in filename:\n",
    "        true_labels.append(1)\n",
    "   \n",
    "    \n",
    "\n",
    "    predicted_labels.append(predicted_class)\n",
    "\n",
    "print(predicted_labels)\n",
    "print(true_labels)\n",
    "\n",
    "\n",
    "cm = confusion_matrix(true_labels, predicted_labels)\n",
    "labels = [label for label, _ in sorted(label_mapping.items(), key=lambda x: x[1])]\n",
    "disp = ConfusionMatrixDisplay(confusion_matrix=cm, display_labels=labels)\n",
    "disp.plot()\n",
    "\n",
    "plt.title(directory,  fontdict={'fontsize': 16})  # Set the new title for the plot\n",
    "plt.show()\n",
    "\n",
    "\n",
    "# Calculate precision, recall, and accuracy\n",
    "precision = precision_score(true_labels, predicted_labels, average='weighted')\n",
    "recall = recall_score(true_labels, predicted_labels, average='weighted')\n",
    "accuracy = accuracy_score(true_labels, predicted_labels)\n",
    "\n",
    "# Print the results\n",
    "print(\"Precision:\", precision)\n",
    "print(\"Recall:\", recall)\n",
    "print(\"Accuracy:\", accuracy)\n",
    "\n",
    "mlflow.log_metric(\"Precision\", precision)\n",
    "mlflow.log_metric(\"Recall\", recall)\n",
    "mlflow.log_metric(\"Accuracy\", accuracy)\n",
    "\n",
    "mlflow.end_run()\n",
    "\n"
   ]
  },
  {
   "attachments": {},
   "cell_type": "markdown",
   "metadata": {},
   "source": [
    "#Predice mal en las muestras de Henar. Veremos con el nuevo dataset, pero quizá haya que hacer un training con peso Opciones:\n",
    "\n",
    "Undersample the larger distribution: randomly remove examples from the larger distribution until it matches the size of the smaller one.\n",
    "\n",
    "Oversample the smaller distribution: randomly duplicate examples from the smaller distribution until it matches the size of the larger one.\n",
    "\n",
    "Data augmentation: generate new examples from the smaller distribution using techniques like rotation, flipping, or zooming.\n",
    "\n",
    "Use class weights: adjust the loss function of your CNN to assign higher weights to the smaller distribution so that it receives more emphasis during training.\n",
    "\n",
    "Fine-tuning: you could use a pre-trained model to initialize the weights and only fine-tune the last few layers to fit the imbalanced data."
   ]
  },
  {
   "cell_type": "code",
   "execution_count": 21,
   "metadata": {},
   "outputs": [
    {
     "name": "stdout",
     "output_type": "stream",
     "text": [
      "[0, 0, 2, 0, 0, 0, 0, 0, 0, 0, 1, 1, 0, 1, 0, 0, 0, 0, 0, 0, 0, 0, 0, 0, 0, 0, 0, 2, 2, 0, 0, 1, 0, 2, 0, 0, 0, 0, 0, 0, 0, 0, 0, 0, 0, 2, 0, 0, 0, 0, 0, 0, 0, 0, 0, 0, 2, 0, 0, 0, 1, 1, 1, 1, 1, 1, 1, 1, 1, 1, 1, 1, 1, 1, 1, 1, 1, 1, 1, 0, 2, 1, 2, 1, 1, 1, 1, 1, 1, 1, 1, 0, 1, 1, 1, 1, 1, 0, 1, 1, 1, 1, 1, 1, 1, 2, 1, 1, 1, 1, 1, 2, 1, 1, 1, 1, 2, 2, 0, 2, 2, 2, 2, 2, 2, 2, 2, 2, 2, 2, 2, 2, 2, 2, 0, 2, 1, 2, 2, 2, 2, 2, 2, 2, 0, 2, 2, 2, 2, 0, 2, 2, 2, 2, 2, 0]\n",
      "[0, 0, 0, 0, 0, 0, 0, 0, 0, 0, 0, 0, 0, 0, 0, 0, 0, 0, 0, 0, 0, 0, 0, 0, 0, 0, 0, 0, 0, 0, 0, 0, 0, 0, 0, 0, 0, 0, 0, 0, 0, 0, 0, 0, 0, 0, 0, 0, 0, 0, 0, 0, 0, 0, 0, 0, 0, 0, 0, 0, 1, 1, 1, 1, 1, 1, 1, 1, 1, 1, 1, 1, 1, 1, 1, 1, 1, 1, 1, 1, 1, 1, 1, 1, 1, 1, 1, 1, 1, 1, 1, 1, 1, 1, 1, 1, 1, 1, 1, 1, 1, 1, 1, 1, 1, 1, 1, 1, 1, 1, 1, 1, 1, 1, 1, 1, 2, 2, 2, 2, 2, 2, 2, 2, 2, 2, 2, 2, 2, 2, 2, 2, 2, 2, 2, 2, 2, 2, 2, 2, 2, 2, 2, 2, 2, 2, 2, 2, 2, 2, 2, 2, 2, 2, 2, 2]\n"
     ]
    },
    {
     "data": {
      "image/png": "[encoded data removed]",
      "text/plain": [
       "<Figure size 432x288 with 2 Axes>"
      ]
     },
     "metadata": {
      "needs_background": "light"
     },
     "output_type": "display_data"
    },
    {
     "name": "stdout",
     "output_type": "stream",
     "text": [
      "Precision: 0.8554361772752577\n",
      "Recall: 0.8525641025641025\n",
      "Accuracy: 0.8525641025641025\n"
     ]
    }
   ],
   "source": [
    "# Load the test images from the folder 'test_images'\n",
    "predicted_labels= []\n",
    "true_labels = []\n",
    "\n",
    "label_mapping = {\n",
    "    'aca': 0,\n",
    "    'nor': 1,\n",
    "    'scc': 2\n",
    "}\n",
    "\n",
    "\n",
    "directory = \"test_set_private\"\n",
    "for filename in os.listdir(directory):\n",
    "\n",
    "    # Load the image and add it to the list of test images\n",
    "    f = os.path.join(directory, filename)\n",
    "    imagen = tf.keras.preprocessing.image.load_img(f, target_size=(255,255))\n",
    "    x = tf.keras.preprocessing.image.img_to_array(imagen)    \n",
    "    x = np.expand_dims(x, axis=0)\n",
    "\n",
    "    prediction = modelo.predict(x)\n",
    "    predicted_class = np.argmax(prediction)\n",
    "\n",
    "    #True labels are calculated based on name. It is a very weak way of doing it. Look for a better one or rename the files\n",
    "\n",
    "    if 'aca' in filename or 'lungaca' in filename:\n",
    "        true_labels.append(0)\n",
    "    elif 'scc' in filename or 'lungscc' in filename:\n",
    "        true_labels.append(2)\n",
    "    elif 'nor' in filename or 'lungn' in filename:\n",
    "        true_labels.append(1)\n",
    "   \n",
    "    \n",
    "\n",
    "    predicted_labels.append(predicted_class)\n",
    "\n",
    "print(predicted_labels)\n",
    "print(true_labels)\n",
    "\n",
    "\n",
    "cm = confusion_matrix(true_labels, predicted_labels)\n",
    "labels = [label for label, _ in sorted(label_mapping.items(), key=lambda x: x[1])]\n",
    "disp = ConfusionMatrixDisplay(confusion_matrix=cm, display_labels=labels)\n",
    "disp.plot()\n",
    "\n",
    "plt.title(directory,  fontdict={'fontsize': 16})  # Set the new title for the plot\n",
    "plt.show()\n",
    "\n",
    "\n",
    "# Calculate precision, recall, and accuracy\n",
    "precision = precision_score(true_labels, predicted_labels, average='weighted')\n",
    "recall = recall_score(true_labels, predicted_labels, average='weighted')\n",
    "accuracy = accuracy_score(true_labels, predicted_labels)\n",
    "\n",
    "# Print the results\n",
    "print(\"Precision:\", precision)\n",
    "print(\"Recall:\", recall)\n",
    "print(\"Accuracy:\", accuracy)\n",
    "\n",
    "mlflow.log_metric(\"Precision\", precision)\n",
    "mlflow.log_metric(\"Recall\", recall)\n",
    "mlflow.log_metric(\"Accuracy\", accuracy)\n",
    "\n",
    "mlflow.end_run()\n",
    "\n",
    "\n"
   ]
  }
 ],
 "metadata": {
  "kernelspec": {
   "display_name": "ml",
   "language": "python",
   "name": "python3"
  },
  "language_info": {
   "codemirror_mode": {
    "name": "ipython",
    "version": 3
   },
   "file_extension": ".py",
   "mimetype": "text/x-python",
   "name": "python",
   "nbconvert_exporter": "python",
   "pygments_lexer": "ipython3",
   "version": "3.9.12"
  },
  "orig_nbformat": 4,
  "vscode": {
   "interpreter": {
    "hash": "fea903cc172cce62c6301ba3c7eecfb26209215bbdb6c0bb5db0de1694474dd0"
   }
  }
 },
 "nbformat": 4,
 "nbformat_minor": 2
}
