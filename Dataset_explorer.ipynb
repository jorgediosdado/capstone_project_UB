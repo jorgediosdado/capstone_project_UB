{
 "cells": [
  {
   "cell_type": "code",
   "execution_count": 19,
   "metadata": {},
   "outputs": [
    {
     "name": "stdout",
     "output_type": "stream",
     "text": [
      "Subfolder: aca_h\n",
      "Images with '10X': 0\n",
      "Images with '20X': 307\n",
      "Images with '40X': 304\n",
      "Images with '63X': 0\n",
      "\n",
      "Subfolder: nor_h\n",
      "Images with '10X': 0\n",
      "Images with '20X': 228\n",
      "Images with '40X': 224\n",
      "Images with '63X': 0\n",
      "\n",
      "Subfolder: scc_h\n",
      "Images with '10X': 0\n",
      "Images with '20X': 296\n",
      "Images with '40X': 296\n",
      "Images with '63X': 0\n",
      "\n",
      "Subfolder: test_set\n",
      "Images with '10X': 0\n",
      "Images with '20X': 72\n",
      "Images with '40X': 29\n",
      "Images with '63X': 0\n",
      "\n"
     ]
    }
   ],
   "source": [
    "import os\n",
    "\n",
    "# Define the path to your main folder containing subfolders\n",
    "main_folder = 'new_dataset_2'\n",
    "\n",
    "# Define the strings to search for\n",
    "strings_to_search = ['10X', '20X', '40X', '63X']\n",
    "\n",
    "# Iterate over the subfolders\n",
    "for subfolder in os.listdir(main_folder):\n",
    "    subfolder_path = os.path.join(main_folder, subfolder)\n",
    "    \n",
    "    # Initialize counts for each string\n",
    "    string_counts = {string: 0 for string in strings_to_search}\n",
    "    \n",
    "    # Iterate over the files in the subfolder\n",
    "    for file in os.listdir(subfolder_path):\n",
    "        if any(string in file for string in strings_to_search):\n",
    "            # Check if the file contains any of the search strings\n",
    "            for string in strings_to_search:\n",
    "                if string in file:\n",
    "                    string_counts[string] += 1\n",
    "    \n",
    "    # Print the results for the current subfolder\n",
    "    print(f\"Subfolder: {subfolder}\")\n",
    "    for string in strings_to_search:\n",
    "        print(f\"Images with '{string}': {string_counts[string]}\")\n",
    "    print()\n",
    "\n",
    "\n",
    "\n"
   ]
  },
  {
   "cell_type": "code",
   "execution_count": null,
   "metadata": {},
   "outputs": [],
   "source": []
  }
 ],
 "metadata": {
  "kernelspec": {
   "display_name": "base",
   "language": "python",
   "name": "python3"
  },
  "language_info": {
   "codemirror_mode": {
    "name": "ipython",
    "version": 3
   },
   "file_extension": ".py",
   "mimetype": "text/x-python",
   "name": "python",
   "nbconvert_exporter": "python",
   "pygments_lexer": "ipython3",
   "version": "3.8.8"
  },
  "orig_nbformat": 4
 },
 "nbformat": 4,
 "nbformat_minor": 2
}
