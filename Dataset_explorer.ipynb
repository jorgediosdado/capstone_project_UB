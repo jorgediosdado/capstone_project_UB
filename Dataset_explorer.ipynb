{
 "cells": [
  {
   "cell_type": "code",
   "execution_count": 3,
   "metadata": {},
   "outputs": [],
   "source": [
    "import os"
   ]
  },
  {
   "cell_type": "code",
   "execution_count": 5,
   "metadata": {},
   "outputs": [
    {
     "name": "stdout",
     "output_type": "stream",
     "text": [
      "Subfolder: aca_h\n",
      "Images with '20x': 494\n",
      "Images with '40x': 438\n",
      "\n",
      "Subfolder: nor_h\n",
      "Images with '20x': 440\n",
      "Images with '40x': 439\n",
      "\n",
      "Subfolder: private_combined_test_set\n",
      "Images with '20x': 252\n",
      "Images with '40x': 28\n",
      "\n",
      "Subfolder: scc_h\n",
      "Images with '20x': 490\n",
      "Images with '40x': 490\n",
      "\n"
     ]
    }
   ],
   "source": [
    "# Define the path to your main folder containing subfolders\n",
    "main_folder = 'private_combined'\n",
    "\n",
    "# Define the strings to search for\n",
    "strings_to_search = ['20x', '40x']\n",
    "\n",
    "# Iterate over the subfolders\n",
    "for subfolder in os.listdir(main_folder):\n",
    "    subfolder_path = os.path.join(main_folder, subfolder)\n",
    "    \n",
    "    # Initialize counts for each string\n",
    "    string_counts = {string: 0 for string in strings_to_search}\n",
    "    \n",
    "    # Iterate over the files in the subfolder\n",
    "    for file in os.listdir(subfolder_path):\n",
    "        if any(string in file for string in strings_to_search):\n",
    "            # Check if the file contains any of the search strings\n",
    "            for string in strings_to_search:\n",
    "                if string in file:\n",
    "                    string_counts[string] += 1\n",
    "    \n",
    "    # Print the results for the current subfolder\n",
    "    print(f\"Subfolder: {subfolder}\")\n",
    "    for string in strings_to_search:\n",
    "        print(f\"Images with '{string}': {string_counts[string]}\")\n",
    "    print()\n"
   ]
  },
  {
   "cell_type": "code",
   "execution_count": 17,
   "metadata": {},
   "outputs": [],
   "source": [
    "import os"
   ]
  },
  {
   "cell_type": "code",
   "execution_count": 21,
   "metadata": {},
   "outputs": [
    {
     "ename": "NotADirectoryError",
     "evalue": "[WinError 267] The directory name is invalid: 'private_combined_test_set\\\\aca_bd_20x_10_0_0.jpg'",
     "output_type": "error",
     "traceback": [
      "\u001b[1;31m---------------------------------------------------------------------------\u001b[0m",
      "\u001b[1;31mNotADirectoryError\u001b[0m                        Traceback (most recent call last)",
      "\u001b[1;32mc:\\Users\\diosdadj\\OneDrive - HP Inc\\Master\\Lung Cancer Project\\capstone_project_UB\\Dataset_explorer.ipynb Cell 3\u001b[0m in \u001b[0;36m<cell line: 10>\u001b[1;34m()\u001b[0m\n\u001b[0;32m     <a href='vscode-notebook-cell:/c%3A/Users/diosdadj/OneDrive%20-%20HP%20Inc/Master/Lung%20Cancer%20Project/capstone_project_UB/Dataset_explorer.ipynb#W2sZmlsZQ%3D%3D?line=11'>12</a>\u001b[0m string_counts \u001b[39m=\u001b[39m {string: \u001b[39m0\u001b[39m \u001b[39mfor\u001b[39;00m string \u001b[39min\u001b[39;00m strings_to_search}\n\u001b[0;32m     <a href='vscode-notebook-cell:/c%3A/Users/diosdadj/OneDrive%20-%20HP%20Inc/Master/Lung%20Cancer%20Project/capstone_project_UB/Dataset_explorer.ipynb#W2sZmlsZQ%3D%3D?line=13'>14</a>\u001b[0m \u001b[39m# Iterate over the files in the subfolder\u001b[39;00m\n\u001b[1;32m---> <a href='vscode-notebook-cell:/c%3A/Users/diosdadj/OneDrive%20-%20HP%20Inc/Master/Lung%20Cancer%20Project/capstone_project_UB/Dataset_explorer.ipynb#W2sZmlsZQ%3D%3D?line=14'>15</a>\u001b[0m \u001b[39mfor\u001b[39;00m file \u001b[39min\u001b[39;00m os\u001b[39m.\u001b[39;49mlistdir(subfolder_path):\n\u001b[0;32m     <a href='vscode-notebook-cell:/c%3A/Users/diosdadj/OneDrive%20-%20HP%20Inc/Master/Lung%20Cancer%20Project/capstone_project_UB/Dataset_explorer.ipynb#W2sZmlsZQ%3D%3D?line=15'>16</a>\u001b[0m     \u001b[39mif\u001b[39;00m \u001b[39many\u001b[39m(string \u001b[39min\u001b[39;00m file \u001b[39mfor\u001b[39;00m string \u001b[39min\u001b[39;00m strings_to_search):\n\u001b[0;32m     <a href='vscode-notebook-cell:/c%3A/Users/diosdadj/OneDrive%20-%20HP%20Inc/Master/Lung%20Cancer%20Project/capstone_project_UB/Dataset_explorer.ipynb#W2sZmlsZQ%3D%3D?line=16'>17</a>\u001b[0m         \u001b[39m# Check if the file contains any of the search strings\u001b[39;00m\n\u001b[0;32m     <a href='vscode-notebook-cell:/c%3A/Users/diosdadj/OneDrive%20-%20HP%20Inc/Master/Lung%20Cancer%20Project/capstone_project_UB/Dataset_explorer.ipynb#W2sZmlsZQ%3D%3D?line=17'>18</a>\u001b[0m         \u001b[39mfor\u001b[39;00m string \u001b[39min\u001b[39;00m strings_to_search:\n",
      "\u001b[1;31mNotADirectoryError\u001b[0m: [WinError 267] The directory name is invalid: 'private_combined_test_set\\\\aca_bd_20x_10_0_0.jpg'"
     ]
    }
   ],
   "source": [
    "# Funcion contar incluyendo testset\n",
    "\n",
    "# Define the path to your main folder containing subfolders\n",
    "main_folder = 'private_combined_test_set'\n",
    "\n",
    "# Define the strings to search for\n",
    "strings_to_search = ['20x', '40x']\n",
    "\n",
    "# Iterate over the subfolders\n",
    "for folder in os.listdir(main_folder):\n",
    "    # Initialize counts for each string\n",
    "    string_counts = {string: 0 for string in strings_to_search}\n",
    "    \n",
    "    # Iterate over the files in the subfolder\n",
    "    for file in os.listdir(subfolder_path):\n",
    "        if any(string in file for string in strings_to_search):\n",
    "            # Check if the file contains any of the search strings\n",
    "            for string in strings_to_search:\n",
    "                if string in file:\n",
    "                    string_counts[string] += 1\n",
    "    \n",
    "    # Print the results for the current subfolder\n",
    "    print(f\"Subfolder: {subfolder}\")\n",
    "    for string in strings_to_search:\n",
    "        print(f\"Images with '{string}': {string_counts[string]}\")\n",
    "    print()\n"
   ]
  },
  {
   "cell_type": "code",
   "execution_count": null,
   "metadata": {},
   "outputs": [],
   "source": []
  }
 ],
 "metadata": {
  "kernelspec": {
   "display_name": "base",
   "language": "python",
   "name": "python3"
  },
  "language_info": {
   "codemirror_mode": {
    "name": "ipython",
    "version": 3
   },
   "file_extension": ".py",
   "mimetype": "text/x-python",
   "name": "python",
   "nbconvert_exporter": "python",
   "pygments_lexer": "ipython3",
   "version": "3.9.12"
  },
  "orig_nbformat": 4
 },
 "nbformat": 4,
 "nbformat_minor": 2
}
