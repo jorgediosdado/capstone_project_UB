{
 "cells": [
  {
   "cell_type": "code",
   "execution_count": 1,
   "metadata": {},
   "outputs": [],
   "source": [
    "import os\n",
    "import tensorflow as tf\n",
    "import keras\n",
    "from keras import models\n",
    "from keras import layers\n",
    "from keras import optimizers\n",
    "from datetime import datetime\n",
    "from PIL import Image\n",
    "import numpy as np\n",
    "import keras.backend as K\n",
    "import matplotlib.pyplot as plt\n",
    "import mlflow\n",
    "from tensorflow.keras.utils import plot_model\n",
    "from sklearn.metrics import confusion_matrix, ConfusionMatrixDisplay, precision_score, recall_score, accuracy_score"
   ]
  },
  {
   "cell_type": "code",
   "execution_count": 2,
   "metadata": {},
   "outputs": [
    {
     "data": {
      "text/plain": [
       "<Experiment: artifact_location='file:///c:/Users/diosdadj/Desktop/Master/Lung%20Cancer%20Project/capstone_project_UB/mlruns/391329452290209277', creation_time=1685695692186, experiment_id='391329452290209277', last_update_time=1685695692186, lifecycle_stage='active', name='jorge_net', tags={}>"
      ]
     },
     "execution_count": 2,
     "metadata": {},
     "output_type": "execute_result"
    }
   ],
   "source": [
    "#Clear GPU memory and set up the logging of the experiment with mlflow\n",
    "K.clear_session()\n",
    "mlflow.set_experiment('jorge_net')\n"
   ]
  },
  {
   "cell_type": "code",
   "execution_count": 3,
   "metadata": {},
   "outputs": [],
   "source": [
    "dataset_name = 'combined_dataset'\n",
    "batch_size = 32"
   ]
  },
  {
   "cell_type": "code",
   "execution_count": 4,
   "metadata": {},
   "outputs": [
    {
     "name": "stdout",
     "output_type": "stream",
     "text": [
      "Found 16514 files belonging to 3 classes.\n",
      "Using 14037 files for training.\n",
      "Found 16514 files belonging to 3 classes.\n",
      "Using 2477 files for validation.\n"
     ]
    }
   ],
   "source": [
    "image_size = (255, 255)\n",
    "train_ds = tf.keras.preprocessing.image_dataset_from_directory(\n",
    "    dataset_name,\n",
    "    validation_split=0.15,\n",
    "    subset=\"training\",\n",
    "    label_mode = 'int',\n",
    "    labels = 'inferred',\n",
    "    seed=1336,\n",
    "    image_size=image_size,\n",
    "    interpolation = 'bilinear',\n",
    "    batch_size=batch_size,\n",
    "    shuffle = True,\n",
    ")\n",
    "val_ds = tf.keras.preprocessing.image_dataset_from_directory(\n",
    "    dataset_name,\n",
    "    validation_split=0.15,\n",
    "    subset=\"validation\",\n",
    "    label_mode = 'int',\n",
    "    labels = 'inferred',\n",
    "    seed=1336,\n",
    "    image_size=image_size,\n",
    "    interpolation = 'bilinear',\n",
    "    batch_size=batch_size,\n",
    "    shuffle = True,\n",
    ")\n"
   ]
  },
  {
   "cell_type": "code",
   "execution_count": 6,
   "metadata": {},
   "outputs": [],
   "source": [
    "model_path = 'old_models/jorgenet_private_dataset/modelo_entrenado.h5'\n",
    "model = tf.keras.models.load_model(model_path)"
   ]
  },
  {
   "cell_type": "code",
   "execution_count": 21,
   "metadata": {},
   "outputs": [],
   "source": [
    "# Obtain the number of samples\n",
    "num_train_samples = 0\n",
    "for images, labels in train_ds:\n",
    "    num_train_samples += images.shape[0]\n",
    "\n",
    "num_val_samples = 0\n",
    "for images, labels in val_ds:\n",
    "    num_val_samples += images.shape[0]\n",
    "\n"
   ]
  },
  {
   "cell_type": "code",
   "execution_count": 6,
   "metadata": {},
   "outputs": [
    {
     "name": "stdout",
     "output_type": "stream",
     "text": [
      "Model: \"sequential\"\n",
      "_________________________________________________________________\n",
      "Layer (type)                 Output Shape              Param #   \n",
      "=================================================================\n",
      "rescaling (Rescaling)        (None, 255, 255, 3)       0         \n",
      "_________________________________________________________________\n",
      "input_1 (InputLayer)         multiple                  0         \n",
      "_________________________________________________________________\n",
      "random_flip (RandomFlip)     (None, 255, 255, 3)       0         \n",
      "_________________________________________________________________\n",
      "random_rotation (RandomRotat (None, 255, 255, 3)       0         \n",
      "_________________________________________________________________\n",
      "random_zoom (RandomZoom)     (None, 255, 255, 3)       0         \n",
      "_________________________________________________________________\n",
      "random_contrast (RandomContr (None, 255, 255, 3)       0         \n",
      "_________________________________________________________________\n",
      "random_translation (RandomTr (None, 255, 255, 3)       0         \n",
      "_________________________________________________________________\n",
      "conv2d (Conv2D)              (None, 254, 254, 32)      416       \n",
      "_________________________________________________________________\n",
      "max_pooling2d (MaxPooling2D) (None, 127, 127, 32)      0         \n",
      "_________________________________________________________________\n",
      "conv2d_1 (Conv2D)            (None, 126, 126, 64)      8256      \n",
      "_________________________________________________________________\n",
      "max_pooling2d_1 (MaxPooling2 (None, 63, 63, 64)        0         \n",
      "_________________________________________________________________\n",
      "conv2d_2 (Conv2D)            (None, 62, 62, 128)       32896     \n",
      "_________________________________________________________________\n",
      "max_pooling2d_2 (MaxPooling2 (None, 31, 31, 128)       0         \n",
      "_________________________________________________________________\n",
      "conv2d_3 (Conv2D)            (None, 30, 30, 256)       131328    \n",
      "_________________________________________________________________\n",
      "max_pooling2d_3 (MaxPooling2 (None, 15, 15, 256)       0         \n",
      "_________________________________________________________________\n",
      "conv2d_4 (Conv2D)            (None, 14, 14, 512)       524800    \n",
      "_________________________________________________________________\n",
      "max_pooling2d_4 (MaxPooling2 (None, 7, 7, 512)         0         \n",
      "_________________________________________________________________\n",
      "flatten (Flatten)            (None, 25088)             0         \n",
      "_________________________________________________________________\n",
      "dense (Dense)                (None, 512)               12845568  \n",
      "_________________________________________________________________\n",
      "dropout (Dropout)            (None, 512)               0         \n",
      "_________________________________________________________________\n",
      "dense_1 (Dense)              (None, 256)               131328    \n",
      "_________________________________________________________________\n",
      "dropout_1 (Dropout)          (None, 256)               0         \n",
      "_________________________________________________________________\n",
      "dense_2 (Dense)              (None, 3)                 771       \n",
      "=================================================================\n",
      "Total params: 13,675,363\n",
      "Trainable params: 13,675,363\n",
      "Non-trainable params: 0\n",
      "_________________________________________________________________\n"
     ]
    }
   ],
   "source": [
    "input_shape = (255, 255, 3)\n",
    "\n",
    "model=models.Sequential()\n",
    "\n",
    "model.add(layers.Rescaling(scale = 1./255, offset=0.0, input_shape=input_shape))\n",
    "model.add(layers.Input(input_shape))\n",
    "\n",
    "\n",
    "#Para el dataset publico no hago augmentation porque ya esta hecho\n",
    "model.add(layers.RandomFlip(\"horizontal_and_vertical\"))\n",
    "model.add(layers.RandomRotation(0.2))\n",
    "model.add(layers.RandomZoom(0.2))\n",
    "model.add(layers.RandomContrast(0.2))\n",
    "model.add(layers.RandomTranslation(0.2, 0.2)) \n",
    "\n",
    "\n",
    "\n",
    "model.add(layers.Conv2D(filters=32, kernel_size=(2,2), activation='relu',))\n",
    "model.add(layers.MaxPooling2D(pool_size=(2, 2)))\n",
    "model.add(layers.Conv2D(filters=64, kernel_size=(2,2), activation='relu',))\n",
    "model.add(layers.MaxPooling2D(pool_size=(2, 2)))\n",
    "model.add(layers.Conv2D(filters=128, kernel_size=(2,2), activation='relu',))\n",
    "model.add(layers.MaxPooling2D(pool_size=(2, 2)))\n",
    "model.add(layers.Conv2D(filters=256, kernel_size=(2,2), activation='relu',))\n",
    "model.add(layers.MaxPooling2D(pool_size=(2, 2)))\n",
    "model.add(layers.Conv2D(filters=512, kernel_size=(2,2), activation='relu',))\n",
    "model.add(layers.MaxPooling2D(pool_size=(2, 2)))\n",
    "\n",
    "\n",
    "# Add flatten layer\n",
    "model.add(layers.Flatten())\n",
    "\n",
    "# Add dense/dropout layers + activation functions\n",
    "\n",
    "model.add(layers.Dense(512, activation = 'relu'))\n",
    "model.add(layers.Dropout(0.3))\n",
    "model.add(layers.Dense(256, activation = 'relu'))\n",
    "model.add(layers.Dropout(0.3))\n",
    "model.add(layers.Dense(3, activation = 'softmax'))\n",
    "\n",
    "adam = tf.keras.optimizers.Adam(learning_rate=0.001, beta_1=0.9, beta_2=0.999, epsilon=1e-08)\n",
    "\n",
    "model.compile(optimizer = adam, loss = 'sparse_categorical_crossentropy', metrics = ['accuracy'])\n",
    "model.summary()\n",
    "\n",
    "# plot_model(model, to_file='model.png', show_shapes=True,  rankdir='LR')\n",
    "\n",
    "\n"
   ]
  },
  {
   "cell_type": "code",
   "execution_count": 7,
   "metadata": {},
   "outputs": [
    {
     "name": "stdout",
     "output_type": "stream",
     "text": [
      "Number of parameters: 13675363\n"
     ]
    }
   ],
   "source": [
    "num_params = model.count_params()\n",
    "print(\"Number of parameters:\", num_params)\n"
   ]
  },
  {
   "cell_type": "code",
   "execution_count": 8,
   "metadata": {},
   "outputs": [],
   "source": [
    "folder_date = 'old_models/' +  datetime.now().strftime(\"%Y_%m_%d-%I_%M_%S_%p\")\n",
    "os.mkdir(folder_date)\n",
    "filepath_model = folder_date + '/my_best_model.epoch{epoch:02d}-loss{val_loss:.2f}.hdf5'\n"
   ]
  },
  {
   "cell_type": "code",
   "execution_count": 9,
   "metadata": {},
   "outputs": [],
   "source": [
    "model_checkpoint_callback = tf.keras.callbacks.ModelCheckpoint(\n",
    "filepath=filepath_model,\n",
    "save_weights_only=False,\n",
    "monitor='val_accuracy',\n",
    "mode='max',\n",
    "save_freq=\"epoch\",\n",
    "save_best_only=True)\n",
    "\n",
    "early_stopping = tf.keras.callbacks.EarlyStopping(monitor='val_loss', patience=4, mode='auto', verbose = 1, )"
   ]
  },
  {
   "cell_type": "code",
   "execution_count": 10,
   "metadata": {},
   "outputs": [],
   "source": [
    "mlflow.end_run()"
   ]
  },
  {
   "cell_type": "code",
   "execution_count": 11,
   "metadata": {},
   "outputs": [
    {
     "name": "stdout",
     "output_type": "stream",
     "text": [
      "Epoch 1/80\n",
      "439/439 [==============================] - 107s 202ms/step - loss: 0.5217 - accuracy: 0.7529 - val_loss: 0.3437 - val_accuracy: 0.8535\n",
      "Epoch 2/80\n",
      "439/439 [==============================] - 88s 199ms/step - loss: 0.3619 - accuracy: 0.8513 - val_loss: 0.3064 - val_accuracy: 0.8668\n",
      "Epoch 3/80\n",
      "439/439 [==============================] - 91s 206ms/step - loss: 0.3194 - accuracy: 0.8670 - val_loss: 0.2927 - val_accuracy: 0.8857\n",
      "Epoch 4/80\n",
      "439/439 [==============================] - 86s 195ms/step - loss: 0.2788 - accuracy: 0.8860 - val_loss: 0.2344 - val_accuracy: 0.8983\n",
      "Epoch 5/80\n",
      "439/439 [==============================] - 86s 194ms/step - loss: 0.2656 - accuracy: 0.8893 - val_loss: 0.2442 - val_accuracy: 0.9092\n",
      "Epoch 6/80\n",
      "439/439 [==============================] - 85s 193ms/step - loss: 0.2421 - accuracy: 0.9023 - val_loss: 0.1868 - val_accuracy: 0.9233\n",
      "Epoch 7/80\n",
      "439/439 [==============================] - 85s 193ms/step - loss: 0.2265 - accuracy: 0.9127 - val_loss: 0.1849 - val_accuracy: 0.9334\n",
      "Epoch 8/80\n",
      "439/439 [==============================] - 93s 210ms/step - loss: 0.2166 - accuracy: 0.9136 - val_loss: 0.1789 - val_accuracy: 0.9322\n",
      "Epoch 9/80\n",
      "439/439 [==============================] - 86s 194ms/step - loss: 0.2161 - accuracy: 0.9147 - val_loss: 0.1514 - val_accuracy: 0.9451\n",
      "Epoch 10/80\n",
      "439/439 [==============================] - 85s 194ms/step - loss: 0.2056 - accuracy: 0.9172 - val_loss: 0.2259 - val_accuracy: 0.9314\n",
      "Epoch 11/80\n",
      "439/439 [==============================] - 85s 193ms/step - loss: 0.2040 - accuracy: 0.9186 - val_loss: 0.1681 - val_accuracy: 0.9342\n",
      "Epoch 12/80\n",
      "439/439 [==============================] - 84s 191ms/step - loss: 0.1880 - accuracy: 0.9268 - val_loss: 0.1551 - val_accuracy: 0.9427\n",
      "Epoch 13/80\n",
      "439/439 [==============================] - 87s 198ms/step - loss: 0.1895 - accuracy: 0.9272 - val_loss: 0.1723 - val_accuracy: 0.9302\n",
      "Epoch 14/80\n",
      "439/439 [==============================] - 89s 203ms/step - loss: 0.1947 - accuracy: 0.9236 - val_loss: 0.1452 - val_accuracy: 0.9431\n",
      "Epoch 15/80\n",
      "439/439 [==============================] - 85s 193ms/step - loss: 0.1794 - accuracy: 0.9292 - val_loss: 0.1815 - val_accuracy: 0.9257\n",
      "Epoch 16/80\n",
      "439/439 [==============================] - 88s 200ms/step - loss: 0.1711 - accuracy: 0.9323 - val_loss: 0.1137 - val_accuracy: 0.9528\n",
      "Epoch 17/80\n",
      "439/439 [==============================] - 87s 197ms/step - loss: 0.1598 - accuracy: 0.9382 - val_loss: 0.1163 - val_accuracy: 0.9588\n",
      "Epoch 18/80\n",
      "439/439 [==============================] - 87s 197ms/step - loss: 0.1584 - accuracy: 0.9387 - val_loss: 0.1059 - val_accuracy: 0.9612\n",
      "Epoch 19/80\n",
      "439/439 [==============================] - 88s 200ms/step - loss: 0.1537 - accuracy: 0.9418 - val_loss: 0.1088 - val_accuracy: 0.9592\n",
      "Epoch 20/80\n",
      "439/439 [==============================] - 93s 210ms/step - loss: 0.1481 - accuracy: 0.9436 - val_loss: 0.1233 - val_accuracy: 0.9548\n",
      "Epoch 21/80\n",
      "439/439 [==============================] - 97s 221ms/step - loss: 0.1370 - accuracy: 0.9463 - val_loss: 0.0991 - val_accuracy: 0.9600\n",
      "Epoch 22/80\n",
      "439/439 [==============================] - 92s 209ms/step - loss: 0.1415 - accuracy: 0.9459 - val_loss: 0.1017 - val_accuracy: 0.9572\n",
      "Epoch 23/80\n",
      "439/439 [==============================] - 89s 202ms/step - loss: 0.1707 - accuracy: 0.9363 - val_loss: 0.1117 - val_accuracy: 0.9584\n",
      "Epoch 24/80\n",
      "439/439 [==============================] - 90s 204ms/step - loss: 0.1338 - accuracy: 0.9479 - val_loss: 0.1039 - val_accuracy: 0.9629\n",
      "Epoch 25/80\n",
      "439/439 [==============================] - 92s 209ms/step - loss: 0.1488 - accuracy: 0.9441 - val_loss: 0.0990 - val_accuracy: 0.9730\n",
      "Epoch 26/80\n",
      "439/439 [==============================] - 89s 203ms/step - loss: 0.1330 - accuracy: 0.9492 - val_loss: 0.1556 - val_accuracy: 0.9455\n",
      "Epoch 27/80\n",
      "439/439 [==============================] - 95s 215ms/step - loss: 0.1337 - accuracy: 0.9481 - val_loss: 0.0862 - val_accuracy: 0.9661\n",
      "Epoch 28/80\n",
      "439/439 [==============================] - 90s 203ms/step - loss: 0.1279 - accuracy: 0.9506 - val_loss: 0.1009 - val_accuracy: 0.9637\n",
      "Epoch 29/80\n",
      "439/439 [==============================] - 90s 203ms/step - loss: 0.1230 - accuracy: 0.9533 - val_loss: 0.0802 - val_accuracy: 0.9742\n",
      "Epoch 30/80\n",
      "439/439 [==============================] - 93s 210ms/step - loss: 0.1131 - accuracy: 0.9560 - val_loss: 0.0903 - val_accuracy: 0.9649\n",
      "Epoch 31/80\n",
      "439/439 [==============================] - 90s 204ms/step - loss: 0.1106 - accuracy: 0.9588 - val_loss: 0.0821 - val_accuracy: 0.9725\n",
      "Epoch 32/80\n",
      "439/439 [==============================] - 98s 224ms/step - loss: 0.1247 - accuracy: 0.9540 - val_loss: 0.0827 - val_accuracy: 0.9734\n",
      "Epoch 33/80\n",
      "439/439 [==============================] - 94s 214ms/step - loss: 0.1160 - accuracy: 0.9560 - val_loss: 0.0909 - val_accuracy: 0.9677\n",
      "Epoch 34/80\n",
      "439/439 [==============================] - 94s 214ms/step - loss: 0.1216 - accuracy: 0.9520 - val_loss: 0.0822 - val_accuracy: 0.9709\n",
      "Epoch 35/80\n",
      "439/439 [==============================] - 98s 223ms/step - loss: 0.1122 - accuracy: 0.9592 - val_loss: 0.0873 - val_accuracy: 0.9713\n",
      "Epoch 36/80\n",
      "439/439 [==============================] - 92s 210ms/step - loss: 0.1066 - accuracy: 0.9600 - val_loss: 0.0914 - val_accuracy: 0.9621\n",
      "Epoch 37/80\n",
      "439/439 [==============================] - 90s 204ms/step - loss: 0.1099 - accuracy: 0.9598 - val_loss: 0.1018 - val_accuracy: 0.9588\n",
      "Epoch 38/80\n",
      "439/439 [==============================] - 92s 208ms/step - loss: 0.1085 - accuracy: 0.9582 - val_loss: 0.0809 - val_accuracy: 0.9701\n",
      "Epoch 39/80\n",
      "439/439 [==============================] - 92s 209ms/step - loss: 0.1363 - accuracy: 0.9499 - val_loss: 0.0825 - val_accuracy: 0.9669\n",
      "Epoch 40/80\n",
      "439/439 [==============================] - 90s 203ms/step - loss: 0.0973 - accuracy: 0.9635 - val_loss: 0.0631 - val_accuracy: 0.9786\n",
      "Epoch 41/80\n",
      "439/439 [==============================] - 96s 218ms/step - loss: 0.0895 - accuracy: 0.9677 - val_loss: 0.0666 - val_accuracy: 0.9766\n",
      "Epoch 42/80\n",
      "439/439 [==============================] - 97s 221ms/step - loss: 0.1022 - accuracy: 0.9619 - val_loss: 0.0534 - val_accuracy: 0.9843\n",
      "Epoch 43/80\n",
      "439/439 [==============================] - 95s 216ms/step - loss: 0.0893 - accuracy: 0.9661 - val_loss: 0.0941 - val_accuracy: 0.9625\n",
      "Epoch 44/80\n",
      "439/439 [==============================] - 92s 209ms/step - loss: 0.0963 - accuracy: 0.9652 - val_loss: 0.0890 - val_accuracy: 0.9665\n",
      "Epoch 45/80\n",
      "439/439 [==============================] - 89s 203ms/step - loss: 0.1177 - accuracy: 0.9565 - val_loss: 0.0577 - val_accuracy: 0.9782\n",
      "Epoch 46/80\n",
      "439/439 [==============================] - 93s 211ms/step - loss: 0.0938 - accuracy: 0.9636 - val_loss: 0.0621 - val_accuracy: 0.9810\n",
      "Epoch 47/80\n",
      "439/439 [==============================] - 120s 273ms/step - loss: 0.0899 - accuracy: 0.9662 - val_loss: 0.0559 - val_accuracy: 0.9834\n",
      "Epoch 48/80\n",
      "439/439 [==============================] - 105s 239ms/step - loss: 0.0970 - accuracy: 0.9654 - val_loss: 0.0619 - val_accuracy: 0.9766\n",
      "Epoch 49/80\n",
      "439/439 [==============================] - 104s 236ms/step - loss: 0.0822 - accuracy: 0.9698 - val_loss: 0.0584 - val_accuracy: 0.9786\n",
      "Epoch 50/80\n",
      "439/439 [==============================] - 101s 228ms/step - loss: 0.1155 - accuracy: 0.9582 - val_loss: 0.0528 - val_accuracy: 0.9810\n",
      "Epoch 51/80\n",
      "439/439 [==============================] - 101s 228ms/step - loss: 0.0883 - accuracy: 0.9668 - val_loss: 0.0648 - val_accuracy: 0.9786\n",
      "Epoch 52/80\n",
      "439/439 [==============================] - 106s 239ms/step - loss: 0.0864 - accuracy: 0.9690 - val_loss: 0.0614 - val_accuracy: 0.9798\n",
      "Epoch 53/80\n",
      "439/439 [==============================] - 104s 236ms/step - loss: 0.0852 - accuracy: 0.9691 - val_loss: 0.0639 - val_accuracy: 0.9758\n",
      "Epoch 54/80\n",
      "439/439 [==============================] - 101s 229ms/step - loss: 0.0762 - accuracy: 0.9736 - val_loss: 0.0774 - val_accuracy: 0.9713\n",
      "Epoch 55/80\n",
      "439/439 [==============================] - 97s 220ms/step - loss: 0.0851 - accuracy: 0.9692 - val_loss: 0.0921 - val_accuracy: 0.9697\n",
      "Epoch 56/80\n",
      "439/439 [==============================] - 97s 220ms/step - loss: 0.1214 - accuracy: 0.9563 - val_loss: 0.0707 - val_accuracy: 0.9746\n",
      "Epoch 57/80\n",
      "439/439 [==============================] - 99s 226ms/step - loss: 0.0784 - accuracy: 0.9712 - val_loss: 0.0780 - val_accuracy: 0.9750\n",
      "Epoch 58/80\n",
      "439/439 [==============================] - 103s 233ms/step - loss: 0.0858 - accuracy: 0.9693 - val_loss: 0.0661 - val_accuracy: 0.9794\n",
      "Epoch 59/80\n",
      "439/439 [==============================] - 106s 240ms/step - loss: 0.0803 - accuracy: 0.9704 - val_loss: 0.0634 - val_accuracy: 0.9762\n",
      "Epoch 60/80\n",
      "439/439 [==============================] - 98s 223ms/step - loss: 0.0929 - accuracy: 0.9661 - val_loss: 0.0550 - val_accuracy: 0.9794\n",
      "Epoch 61/80\n",
      "439/439 [==============================] - 97s 221ms/step - loss: 0.0759 - accuracy: 0.9718 - val_loss: 0.0529 - val_accuracy: 0.9810\n",
      "Epoch 62/80\n",
      "439/439 [==============================] - 100s 226ms/step - loss: 0.0966 - accuracy: 0.9667 - val_loss: 0.0754 - val_accuracy: 0.9758\n",
      "Epoch 63/80\n",
      "439/439 [==============================] - 104s 235ms/step - loss: 0.0734 - accuracy: 0.9736 - val_loss: 0.0576 - val_accuracy: 0.9794\n",
      "Epoch 64/80\n",
      "439/439 [==============================] - 102s 231ms/step - loss: 0.0837 - accuracy: 0.9706 - val_loss: 0.0485 - val_accuracy: 0.9830\n",
      "Epoch 65/80\n",
      "439/439 [==============================] - 99s 224ms/step - loss: 0.0839 - accuracy: 0.9707 - val_loss: 0.0480 - val_accuracy: 0.9855\n",
      "Epoch 66/80\n",
      "439/439 [==============================] - 102s 232ms/step - loss: 0.0752 - accuracy: 0.9729 - val_loss: 0.0565 - val_accuracy: 0.9802\n",
      "Epoch 67/80\n",
      "439/439 [==============================] - 98s 222ms/step - loss: 0.0870 - accuracy: 0.9677 - val_loss: 0.0537 - val_accuracy: 0.9778\n",
      "Epoch 68/80\n",
      "439/439 [==============================] - 98s 223ms/step - loss: 0.0767 - accuracy: 0.9718 - val_loss: 0.0737 - val_accuracy: 0.9758\n",
      "Epoch 69/80\n",
      "439/439 [==============================] - 99s 224ms/step - loss: 0.0785 - accuracy: 0.9719 - val_loss: 0.0518 - val_accuracy: 0.9802\n",
      "Epoch 70/80\n",
      "439/439 [==============================] - 103s 234ms/step - loss: 0.0724 - accuracy: 0.9745 - val_loss: 0.0574 - val_accuracy: 0.9798\n",
      "Epoch 71/80\n",
      "439/439 [==============================] - 99s 224ms/step - loss: 0.0799 - accuracy: 0.9733 - val_loss: 0.0443 - val_accuracy: 0.9855\n",
      "Epoch 72/80\n",
      "439/439 [==============================] - 103s 235ms/step - loss: 0.0626 - accuracy: 0.9776 - val_loss: 0.0558 - val_accuracy: 0.9798\n",
      "Epoch 73/80\n",
      "439/439 [==============================] - 97s 221ms/step - loss: 0.1053 - accuracy: 0.9638 - val_loss: 0.0555 - val_accuracy: 0.9826\n",
      "Epoch 74/80\n",
      "439/439 [==============================] - 99s 224ms/step - loss: 0.0770 - accuracy: 0.9710 - val_loss: 0.0473 - val_accuracy: 0.9834\n",
      "Epoch 75/80\n",
      "439/439 [==============================] - 99s 224ms/step - loss: 0.0703 - accuracy: 0.9760 - val_loss: 0.0430 - val_accuracy: 0.9839\n",
      "Epoch 76/80\n",
      "439/439 [==============================] - 100s 227ms/step - loss: 0.0738 - accuracy: 0.9735 - val_loss: 0.0460 - val_accuracy: 0.9855\n",
      "Epoch 77/80\n",
      "439/439 [==============================] - 101s 230ms/step - loss: 0.0681 - accuracy: 0.9758 - val_loss: 0.0467 - val_accuracy: 0.9818\n",
      "Epoch 78/80\n",
      "439/439 [==============================] - 98s 223ms/step - loss: 0.0658 - accuracy: 0.9760 - val_loss: 0.0607 - val_accuracy: 0.9786\n",
      "Epoch 79/80\n",
      "439/439 [==============================] - 99s 224ms/step - loss: 0.0770 - accuracy: 0.9727 - val_loss: 0.1342 - val_accuracy: 0.9512\n",
      "Epoch 80/80\n",
      "439/439 [==============================] - 102s 231ms/step - loss: 0.0865 - accuracy: 0.9702 - val_loss: 0.0708 - val_accuracy: 0.9766\n",
      "78/78 [==============================] - 7s 89ms/step - loss: 0.0708 - accuracy: 0.9766\n"
     ]
    }
   ],
   "source": [
    "# Start an MLflow run\n",
    "mlflow.start_run()\n",
    "\n",
    "mlflow.set_experiment('jorgenet_project_capstone')\n",
    "\n",
    "# Log the name of the dataset\n",
    "mlflow.log_param(\"dataset_name\", dataset_name)\n",
    "\n",
    "# Log the number of samples in the dataset\n",
    "#   mlflow.log_param(\"num_samples_train\", num_train_samples)\n",
    "#   mlflow.log_param(\"num_samples_train\", num_val_samples)\n",
    "\n",
    "epochs = 80\n",
    "history = model.fit(\n",
    "    train_ds, epochs=epochs, validation_data=val_ds, callbacks=[model_checkpoint_callback]\n",
    ")\n",
    " \n",
    "# Evaluate the model\n",
    "loss, accuracy = model.evaluate(val_ds)\n",
    "\n",
    "#Logging parameters\n",
    "mlflow.log_param(\"epochs\", epochs)\n",
    "mlflow.log_param(\"batch_size\", batch_size)\n",
    "mlflow.log_param(\"parameters\", num_params)\n",
    "\n",
    "\n",
    "#Logging metrics\n",
    "mlflow.log_metric(\"val_loss\", loss)\n",
    "mlflow.log_metric(\"val_accuracy\", accuracy)\n",
    "\n"
   ]
  },
  {
   "cell_type": "code",
   "execution_count": 12,
   "metadata": {},
   "outputs": [],
   "source": [
    "#Guardo el modelo en la última epoch. Esto \n",
    "model.save(folder_date + '/modelo_entrenado.h5')\n"
   ]
  },
  {
   "cell_type": "code",
   "execution_count": 13,
   "metadata": {},
   "outputs": [
    {
     "name": "stdout",
     "output_type": "stream",
     "text": [
      "dict_keys(['loss', 'accuracy', 'val_loss', 'val_accuracy'])\n"
     ]
    }
   ],
   "source": [
    "history\n",
    "print(history.history.keys())"
   ]
  },
  {
   "cell_type": "code",
   "execution_count": 14,
   "metadata": {},
   "outputs": [
    {
     "data": {
      "text/plain": [
       "'old_models/2023_06_05-09_52_45_AM/accuracy.png'"
      ]
     },
     "execution_count": 14,
     "metadata": {},
     "output_type": "execute_result"
    }
   ],
   "source": [
    "folder_date + \"/accuracy.png\""
   ]
  },
  {
   "cell_type": "code",
   "execution_count": 15,
   "metadata": {},
   "outputs": [
    {
     "name": "stdout",
     "output_type": "stream",
     "text": [
      "dict_keys(['loss', 'accuracy', 'val_loss', 'val_accuracy'])\n"
     ]
    },
    {
     "data": {
      "image/png": "[encoded data removed]",
      "text/plain": [
       "<Figure size 432x288 with 1 Axes>"
      ]
     },
     "metadata": {
      "needs_background": "light"
     },
     "output_type": "display_data"
    },
    {
     "data": {
      "image/png": "[encoded data removed]",
      "text/plain": [
       "<Figure size 432x288 with 1 Axes>"
      ]
     },
     "metadata": {
      "needs_background": "light"
     },
     "output_type": "display_data"
    }
   ],
   "source": [
    "print(history.history.keys())\n",
    "\n",
    "#  \"Accuracy\"\n",
    "plt.plot(history.history['accuracy'])\n",
    "plt.plot(history.history['val_accuracy'])\n",
    "plt.title('model accuracy')\n",
    "plt.ylabel('accuracy')\n",
    "plt.xlabel('epoch')\n",
    "plt.legend(['train', 'validation'], loc='upper left')\n",
    "\n",
    "plt.text(len(history.history['accuracy'])-1, history.history['accuracy'][-1], \n",
    "         f\"Acc: {history.history['accuracy'][-1]:.4f}\", ha='center', va='bottom')\n",
    "plt.text(len(history.history['val_accuracy'])-1, history.history['val_accuracy'][-1], \n",
    "         f\"Val Acc: {history.history['val_accuracy'][-1]:.4f}\", ha='center', va='top')\n",
    "\n",
    "\n",
    "plt.savefig(folder_date + \"/accuracy.png\")\n",
    "plt.show()\n",
    "\n",
    "# \"Loss\"\n",
    "plt.plot(history.history['loss'])\n",
    "plt.plot(history.history['val_loss'])\n",
    "plt.title('model loss')\n",
    "plt.ylabel('loss')\n",
    "plt.xlabel('epoch')\n",
    "plt.legend(['train', 'validation'], loc='upper left')\n",
    "\n",
    "plt.text(len(history.history['loss'])-1, history.history['loss'][-1], \n",
    "         f\"Loss: {history.history['loss'][-1]:.4f}\", ha='center', va='bottom')\n",
    "plt.text(len(history.history['val_loss'])-1, history.history['val_loss'][-1], \n",
    "         f\"Val Loss: {history.history['val_loss'][-1]:.4f}\", ha='center', va='top')\n",
    "\n",
    "\n",
    "plt.savefig(folder_date + \"/loss.png\")\n",
    "plt.show()\n"
   ]
  },
  {
   "attachments": {},
   "cell_type": "markdown",
   "metadata": {},
   "source": [
    "Preguntas, cómo puedo gestionar datos que vienen de dos distribuciones distintas?\n",
    "\n"
   ]
  },
  {
   "attachments": {},
   "cell_type": "markdown",
   "metadata": {},
   "source": [
    "# This is a section to evaluate the model on te test data"
   ]
  },
  {
   "cell_type": "code",
   "execution_count": 16,
   "metadata": {},
   "outputs": [
    {
     "name": "stdout",
     "output_type": "stream",
     "text": [
      "[0, 2, 2, 1, 0, 0, 2, 0, 0, 1, 0, 0, 0, 0, 0, 0, 0, 0, 0, 0, 0, 0, 0, 0, 0, 0, 0, 2, 0, 0, 0, 0, 0, 0, 0, 0, 0, 0, 0, 0, 0, 0, 0, 2, 0, 0, 0, 0, 0, 0, 0, 0, 0, 0, 0, 0, 0, 0, 0, 0, 1, 1, 1, 1, 1, 1, 1, 1, 1, 1, 1, 1, 1, 1, 1, 1, 1, 1, 1, 1, 2, 1, 2, 1, 1, 1, 1, 1, 1, 1, 1, 1, 1, 1, 1, 1, 1, 1, 1, 1, 1, 1, 1, 1, 1, 2, 1, 1, 1, 1, 1, 0, 2, 1, 1, 1, 0, 2, 2, 2, 2, 2, 2, 2, 2, 0, 2, 2, 2, 0, 2, 2, 2, 2, 0, 2, 0, 2, 0, 2, 2, 2, 2, 2, 2, 0, 0, 2, 2, 2, 2, 2, 2, 2, 0, 0]\n",
      "[0, 0, 0, 0, 0, 0, 0, 0, 0, 0, 0, 0, 0, 0, 0, 0, 0, 0, 0, 0, 0, 0, 0, 0, 0, 0, 0, 0, 0, 0, 0, 0, 0, 0, 0, 0, 0, 0, 0, 0, 0, 0, 0, 0, 0, 0, 0, 0, 0, 0, 0, 0, 0, 0, 0, 0, 0, 0, 0, 0, 1, 1, 1, 1, 1, 1, 1, 1, 1, 1, 1, 1, 1, 1, 1, 1, 1, 1, 1, 1, 1, 1, 1, 1, 1, 1, 1, 1, 1, 1, 1, 1, 1, 1, 1, 1, 1, 1, 1, 1, 1, 1, 1, 1, 1, 1, 1, 1, 1, 1, 1, 1, 1, 1, 1, 1, 2, 2, 2, 2, 2, 2, 2, 2, 2, 2, 2, 2, 2, 2, 2, 2, 2, 2, 2, 2, 2, 2, 2, 2, 2, 2, 2, 2, 2, 2, 2, 2, 2, 2, 2, 2, 2, 2, 2, 2]\n"
     ]
    },
    {
     "data": {
      "image/png": "[encoded data removed]",
      "text/plain": [
       "<Figure size 432x288 with 2 Axes>"
      ]
     },
     "metadata": {
      "needs_background": "light"
     },
     "output_type": "display_data"
    },
    {
     "name": "stdout",
     "output_type": "stream",
     "text": [
      "Precision: 0.8611764309106471\n",
      "Recall: 0.8589743589743589\n",
      "Accuracy: 0.8589743589743589\n"
     ]
    }
   ],
   "source": [
    "# Load the test images from the folder 'test_images'\n",
    "predicted_labels= []\n",
    "true_labels = []\n",
    "\n",
    "label_mapping = {\n",
    "    'aca': 0,\n",
    "    'nor': 1,\n",
    "    'scc': 2\n",
    "}\n",
    "\n",
    "\n",
    "directory = \"test_set_private\"\n",
    "for filename in os.listdir(directory):\n",
    "\n",
    "    # Load the image and add it to the list of test images\n",
    "    f = os.path.join(directory, filename)\n",
    "    imagen = tf.keras.preprocessing.image.load_img(f, target_size=(255,255))\n",
    "    x = tf.keras.preprocessing.image.img_to_array(imagen)    \n",
    "    x = np.expand_dims(x, axis=0)\n",
    "\n",
    "    prediction = model.predict(x)\n",
    "    predicted_class = np.argmax(prediction)\n",
    "\n",
    "    #True labels are calculated based on name. It is a very weak way of doing it. Look for a better one or rename the files\n",
    "\n",
    "    if 'aca' in filename or 'lungaca' in filename:\n",
    "        true_labels.append(0)\n",
    "    elif 'scc' in filename or 'lungscc' in filename:\n",
    "        true_labels.append(2)\n",
    "    elif 'nor' in filename or 'lungn' in filename:\n",
    "        true_labels.append(1)\n",
    "   \n",
    "    \n",
    "\n",
    "    predicted_labels.append(predicted_class)\n",
    "\n",
    "print(predicted_labels)\n",
    "print(true_labels)\n",
    "\n",
    "\n",
    "cm = confusion_matrix(true_labels, predicted_labels)\n",
    "labels = [label for label, _ in sorted(label_mapping.items(), key=lambda x: x[1])]\n",
    "disp = ConfusionMatrixDisplay(confusion_matrix=cm, display_labels=labels)\n",
    "disp.plot()\n",
    "\n",
    "plt.title(directory,  fontdict={'fontsize': 16})  # Set the new title for the plot\n",
    "plt.show()\n",
    "\n",
    "\n",
    "# Calculate precision, recall, and accuracy\n",
    "precision = precision_score(true_labels, predicted_labels, average='weighted')\n",
    "recall = recall_score(true_labels, predicted_labels, average='weighted')\n",
    "accuracy = accuracy_score(true_labels, predicted_labels)\n",
    "\n",
    "# Print the results\n",
    "print(\"Precision:\", precision)\n",
    "print(\"Recall:\", recall)\n",
    "print(\"Accuracy:\", accuracy)\n",
    "\n",
    "mlflow.log_metric(\"Precision\", precision)\n",
    "mlflow.log_metric(\"Recall\", recall)\n",
    "mlflow.log_metric(\"Accuracy\", accuracy)\n",
    "\n",
    "mlflow.end_run()\n",
    "\n"
   ]
  },
  {
   "attachments": {},
   "cell_type": "markdown",
   "metadata": {},
   "source": [
    "#Predice mal en las muestras de Henar. Veremos con el nuevo dataset, pero quizá haya que hacer un training con peso Opciones:\n",
    "\n",
    "Undersample the larger distribution: randomly remove examples from the larger distribution until it matches the size of the smaller one.\n",
    "\n",
    "Oversample the smaller distribution: randomly duplicate examples from the smaller distribution until it matches the size of the larger one.\n",
    "\n",
    "Data augmentation: generate new examples from the smaller distribution using techniques like rotation, flipping, or zooming.\n",
    "\n",
    "Use class weights: adjust the loss function of your CNN to assign higher weights to the smaller distribution so that it receives more emphasis during training.\n",
    "\n",
    "Fine-tuning: you could use a pre-trained model to initialize the weights and only fine-tune the last few layers to fit the imbalanced data."
   ]
  },
  {
   "attachments": {},
   "cell_type": "markdown",
   "metadata": {},
   "source": []
  },
  {
   "attachments": {},
   "cell_type": "markdown",
   "metadata": {},
   "source": []
  },
  {
   "attachments": {},
   "cell_type": "markdown",
   "metadata": {},
   "source": [
    "1. Domain shift\n",
    "2. "
   ]
  },
  {
   "cell_type": "code",
   "execution_count": 17,
   "metadata": {},
   "outputs": [
    {
     "name": "stdout",
     "output_type": "stream",
     "text": [
      "[0, 0, 0, 0, 0, 0, 0, 0, 0, 0, 0, 0, 0, 0, 0, 0, 2, 0, 0, 0, 0, 0, 0, 0, 0, 0, 0, 0, 0, 0, 1, 1, 1, 1, 1, 1, 1, 1, 1, 1, 1, 1, 1, 1, 1, 1, 1, 1, 1, 1, 1, 1, 1, 1, 1, 1, 1, 1, 1, 1, 2, 2, 2, 2, 2, 2, 2, 2, 2, 2, 2, 2, 2, 2, 2, 2, 2, 2, 2, 2, 2, 2, 2, 2, 2, 2, 2, 2, 2, 2]\n",
      "[0, 0, 0, 0, 0, 0, 0, 0, 0, 0, 0, 0, 0, 0, 0, 0, 0, 0, 0, 0, 0, 0, 0, 0, 0, 0, 0, 0, 0, 0, 1, 1, 1, 1, 1, 1, 1, 1, 1, 1, 1, 1, 1, 1, 1, 1, 1, 1, 1, 1, 1, 1, 1, 1, 1, 1, 1, 1, 1, 1, 2, 2, 2, 2, 2, 2, 2, 2, 2, 2, 2, 2, 2, 2, 2, 2, 2, 2, 2, 2, 2, 2, 2, 2, 2, 2, 2, 2, 2, 2]\n"
     ]
    },
    {
     "data": {
      "image/png": "[encoded data removed]",
      "text/plain": [
       "<Figure size 432x288 with 2 Axes>"
      ]
     },
     "metadata": {
      "needs_background": "light"
     },
     "output_type": "display_data"
    },
    {
     "name": "stdout",
     "output_type": "stream",
     "text": [
      "Precision: 0.989247311827957\n",
      "Recall: 0.9888888888888889\n",
      "Accuracy: 0.9888888888888889\n"
     ]
    }
   ],
   "source": [
    "# Load the test images from the folder 'test_images'\n",
    "predicted_labels= []\n",
    "true_labels = []\n",
    "\n",
    "label_mapping = {\n",
    "    'aca': 0,\n",
    "    'nor': 1,\n",
    "    'scc': 2\n",
    "}\n",
    "\n",
    "\n",
    "directory = \"test_set_public\"\n",
    "for filename in os.listdir(directory):\n",
    "\n",
    "    # Load the image and add it to the list of test images\n",
    "    f = os.path.join(directory, filename)\n",
    "    imagen = tf.keras.preprocessing.image.load_img(f, target_size=(255,255))\n",
    "    x = tf.keras.preprocessing.image.img_to_array(imagen)    \n",
    "    x = np.expand_dims(x, axis=0)\n",
    "\n",
    "    prediction = model.predict(x)\n",
    "    predicted_class = np.argmax(prediction)\n",
    "\n",
    "    #True labels are calculated based on name. It is a very weak way of doing it. Look for a better one or rename the files\n",
    "\n",
    "    if 'aca' in filename or 'lungaca' in filename:\n",
    "        true_labels.append(0)\n",
    "    elif 'scc' in filename or 'lungscc' in filename:\n",
    "        true_labels.append(2)\n",
    "    elif 'nor' in filename or 'lungn' in filename:\n",
    "        true_labels.append(1)\n",
    "   \n",
    "    \n",
    "\n",
    "    predicted_labels.append(predicted_class)\n",
    "\n",
    "print(predicted_labels)\n",
    "print(true_labels)\n",
    "\n",
    "\n",
    "cm = confusion_matrix(true_labels, predicted_labels)\n",
    "labels = [label for label, _ in sorted(label_mapping.items(), key=lambda x: x[1])]\n",
    "disp = ConfusionMatrixDisplay(confusion_matrix=cm, display_labels=labels)\n",
    "disp.plot()\n",
    "\n",
    "plt.title(directory,  fontdict={'fontsize': 16})  # Set the new title for the plot\n",
    "plt.show()\n",
    "\n",
    "\n",
    "# Calculate precision, recall, and accuracy\n",
    "precision = precision_score(true_labels, predicted_labels, average='weighted')\n",
    "recall = recall_score(true_labels, predicted_labels, average='weighted')\n",
    "accuracy = accuracy_score(true_labels, predicted_labels)\n",
    "\n",
    "# Print the results\n",
    "print(\"Precision:\", precision)\n",
    "print(\"Recall:\", recall)\n",
    "print(\"Accuracy:\", accuracy)\n",
    "\n",
    "mlflow.log_metric(\"Precision\", precision)\n",
    "mlflow.log_metric(\"Recall\", recall)\n",
    "mlflow.log_metric(\"Accuracy\", accuracy)\n",
    "\n",
    "mlflow.end_run()"
   ]
  },
  {
   "cell_type": "code",
   "execution_count": null,
   "metadata": {},
   "outputs": [],
   "source": []
  },
  {
   "cell_type": "code",
   "execution_count": null,
   "metadata": {},
   "outputs": [],
   "source": []
  }
 ],
 "metadata": {
  "kernelspec": {
   "display_name": "ml",
   "language": "python",
   "name": "python3"
  },
  "language_info": {
   "codemirror_mode": {
    "name": "ipython",
    "version": 3
   },
   "file_extension": ".py",
   "mimetype": "text/x-python",
   "name": "python",
   "nbconvert_exporter": "python",
   "pygments_lexer": "ipython3",
   "version": "3.9.12"
  },
  "orig_nbformat": 4,
  "vscode": {
   "interpreter": {
    "hash": "fea903cc172cce62c6301ba3c7eecfb26209215bbdb6c0bb5db0de1694474dd0"
   }
  }
 },
 "nbformat": 4,
 "nbformat_minor": 2
}
