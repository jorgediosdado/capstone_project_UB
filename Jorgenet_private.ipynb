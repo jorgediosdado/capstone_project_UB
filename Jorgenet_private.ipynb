{
 "cells": [
  {
   "cell_type": "code",
   "execution_count": 1,
   "metadata": {},
   "outputs": [],
   "source": [
    "import os\n",
    "import tensorflow as tf\n",
    "import keras\n",
    "from keras import models\n",
    "from keras import layers\n",
    "from keras import optimizers\n",
    "from datetime import datetime\n",
    "from PIL import Image\n",
    "import numpy as np\n",
    "import keras.backend as K\n",
    "import matplotlib.pyplot as plt\n",
    "import mlflow\n",
    "from tensorflow.keras.utils import plot_model\n",
    "from sklearn.metrics import confusion_matrix, ConfusionMatrixDisplay, precision_score, recall_score, accuracy_score"
   ]
  },
  {
   "cell_type": "code",
   "execution_count": 2,
   "metadata": {},
   "outputs": [
    {
     "data": {
      "text/plain": [
       "<Experiment: artifact_location='file:///c:/Users/diosdadj/Desktop/Master/Lung%20Cancer%20Project/capstone_project_UB/mlruns/391329452290209277', creation_time=1685695692186, experiment_id='391329452290209277', last_update_time=1685695692186, lifecycle_stage='active', name='jorge_net', tags={}>"
      ]
     },
     "execution_count": 2,
     "metadata": {},
     "output_type": "execute_result"
    }
   ],
   "source": [
    "#Clear GPU memory and set up the logging of the experiment with mlflow\n",
    "K.clear_session()\n",
    "mlflow.set_experiment('jorge_net')\n"
   ]
  },
  {
   "cell_type": "code",
   "execution_count": 3,
   "metadata": {},
   "outputs": [],
   "source": [
    "dataset_name = 'private_combined'\n",
    "batch_size = 32"
   ]
  },
  {
   "cell_type": "code",
   "execution_count": 4,
   "metadata": {},
   "outputs": [
    {
     "name": "stdout",
     "output_type": "stream",
     "text": [
      "Found 2791 files belonging to 3 classes.\n",
      "Using 2373 files for training.\n",
      "Found 2791 files belonging to 3 classes.\n",
      "Using 418 files for validation.\n"
     ]
    }
   ],
   "source": [
    "image_size = (255, 255)\n",
    "train_ds = tf.keras.preprocessing.image_dataset_from_directory(\n",
    "    dataset_name,\n",
    "    validation_split=0.15,\n",
    "    subset=\"training\",\n",
    "    label_mode = 'int',\n",
    "    labels = 'inferred',\n",
    "    seed=1336,\n",
    "    image_size=image_size,\n",
    "    interpolation = 'bilinear',\n",
    "    batch_size=batch_size,\n",
    "    shuffle = True,\n",
    ")\n",
    "val_ds = tf.keras.preprocessing.image_dataset_from_directory(\n",
    "    dataset_name,\n",
    "    validation_split=0.15,\n",
    "    subset=\"validation\",\n",
    "    label_mode = 'int',\n",
    "    labels = 'inferred',\n",
    "    seed=1336,\n",
    "    image_size=image_size,\n",
    "    interpolation = 'bilinear',\n",
    "    batch_size=batch_size,\n",
    "    shuffle = True,\n",
    ")\n"
   ]
  },
  {
   "cell_type": "code",
   "execution_count": 5,
   "metadata": {},
   "outputs": [],
   "source": [
    "# Obtain the number of samples\n",
    "num_train_samples = 0\n",
    "for images, labels in train_ds:\n",
    "    num_train_samples += images.shape[0]\n",
    "\n",
    "num_val_samples = 0\n",
    "for images, labels in val_ds:\n",
    "    num_val_samples += images.shape[0]\n",
    "\n"
   ]
  },
  {
   "cell_type": "code",
   "execution_count": 6,
   "metadata": {},
   "outputs": [
    {
     "name": "stdout",
     "output_type": "stream",
     "text": [
      "Model: \"sequential\"\n",
      "_________________________________________________________________\n",
      "Layer (type)                 Output Shape              Param #   \n",
      "=================================================================\n",
      "rescaling (Rescaling)        (None, 255, 255, 3)       0         \n",
      "_________________________________________________________________\n",
      "input_1 (InputLayer)         multiple                  0         \n",
      "_________________________________________________________________\n",
      "random_flip (RandomFlip)     (None, 255, 255, 3)       0         \n",
      "_________________________________________________________________\n",
      "random_rotation (RandomRotat (None, 255, 255, 3)       0         \n",
      "_________________________________________________________________\n",
      "random_zoom (RandomZoom)     (None, 255, 255, 3)       0         \n",
      "_________________________________________________________________\n",
      "random_contrast (RandomContr (None, 255, 255, 3)       0         \n",
      "_________________________________________________________________\n",
      "random_translation (RandomTr (None, 255, 255, 3)       0         \n",
      "_________________________________________________________________\n",
      "conv2d (Conv2D)              (None, 254, 254, 32)      416       \n",
      "_________________________________________________________________\n",
      "max_pooling2d (MaxPooling2D) (None, 127, 127, 32)      0         \n",
      "_________________________________________________________________\n",
      "conv2d_1 (Conv2D)            (None, 126, 126, 64)      8256      \n",
      "_________________________________________________________________\n",
      "max_pooling2d_1 (MaxPooling2 (None, 63, 63, 64)        0         \n",
      "_________________________________________________________________\n",
      "conv2d_2 (Conv2D)            (None, 62, 62, 128)       32896     \n",
      "_________________________________________________________________\n",
      "max_pooling2d_2 (MaxPooling2 (None, 31, 31, 128)       0         \n",
      "_________________________________________________________________\n",
      "conv2d_3 (Conv2D)            (None, 30, 30, 256)       131328    \n",
      "_________________________________________________________________\n",
      "max_pooling2d_3 (MaxPooling2 (None, 15, 15, 256)       0         \n",
      "_________________________________________________________________\n",
      "conv2d_4 (Conv2D)            (None, 14, 14, 512)       524800    \n",
      "_________________________________________________________________\n",
      "max_pooling2d_4 (MaxPooling2 (None, 7, 7, 512)         0         \n",
      "_________________________________________________________________\n",
      "flatten (Flatten)            (None, 25088)             0         \n",
      "_________________________________________________________________\n",
      "dense (Dense)                (None, 512)               12845568  \n",
      "_________________________________________________________________\n",
      "dropout (Dropout)            (None, 512)               0         \n",
      "_________________________________________________________________\n",
      "dense_1 (Dense)              (None, 256)               131328    \n",
      "_________________________________________________________________\n",
      "dropout_1 (Dropout)          (None, 256)               0         \n",
      "_________________________________________________________________\n",
      "dense_2 (Dense)              (None, 3)                 771       \n",
      "=================================================================\n",
      "Total params: 13,675,363\n",
      "Trainable params: 13,675,363\n",
      "Non-trainable params: 0\n",
      "_________________________________________________________________\n"
     ]
    }
   ],
   "source": [
    "input_shape = (255, 255, 3)\n",
    "\n",
    "model=models.Sequential()\n",
    "\n",
    "model.add(layers.Rescaling(scale = 1./255, offset=0.0, input_shape=input_shape))\n",
    "model.add(layers.Input(input_shape))\n",
    "\n",
    "\n",
    "#Para el dataset publico no hago augmentation porque ya esta hecho\n",
    "model.add(layers.RandomFlip(\"horizontal_and_vertical\"))\n",
    "model.add(layers.RandomRotation(0.2))\n",
    "model.add(layers.RandomZoom(0.2))\n",
    "model.add(layers.RandomContrast(0.2))\n",
    "model.add(layers.RandomTranslation(0.2, 0.2)) \n",
    "\n",
    "\n",
    "\n",
    "model.add(layers.Conv2D(filters=32, kernel_size=(2,2), activation='relu',))\n",
    "model.add(layers.MaxPooling2D(pool_size=(2, 2)))\n",
    "model.add(layers.Conv2D(filters=64, kernel_size=(2,2), activation='relu',))\n",
    "model.add(layers.MaxPooling2D(pool_size=(2, 2)))\n",
    "model.add(layers.Conv2D(filters=128, kernel_size=(2,2), activation='relu',))\n",
    "model.add(layers.MaxPooling2D(pool_size=(2, 2)))\n",
    "model.add(layers.Conv2D(filters=256, kernel_size=(2,2), activation='relu',))\n",
    "model.add(layers.MaxPooling2D(pool_size=(2, 2)))\n",
    "model.add(layers.Conv2D(filters=512, kernel_size=(2,2), activation='relu',))\n",
    "model.add(layers.MaxPooling2D(pool_size=(2, 2)))\n",
    "\n",
    "\n",
    "# Add flatten layer\n",
    "model.add(layers.Flatten())\n",
    "\n",
    "# Add dense/dropout layers + activation functions\n",
    "\n",
    "model.add(layers.Dense(512, activation = 'relu'))\n",
    "model.add(layers.Dropout(0.3))\n",
    "model.add(layers.Dense(256, activation = 'relu'))\n",
    "model.add(layers.Dropout(0.3))\n",
    "model.add(layers.Dense(3, activation = 'softmax'))\n",
    "\n",
    "adam = tf.keras.optimizers.Adam(learning_rate=0.001, beta_1=0.9, beta_2=0.999, epsilon=1e-08)\n",
    "\n",
    "model.compile(optimizer = adam, loss = 'sparse_categorical_crossentropy', metrics = ['accuracy'])\n",
    "model.summary()\n",
    "\n",
    "# plot_model(model, to_file='model.png', show_shapes=True,  rankdir='LR')\n",
    "\n",
    "\n"
   ]
  },
  {
   "cell_type": "code",
   "execution_count": 7,
   "metadata": {},
   "outputs": [
    {
     "name": "stdout",
     "output_type": "stream",
     "text": [
      "Number of parameters: 13675363\n"
     ]
    }
   ],
   "source": [
    "num_params = model.count_params()\n",
    "print(\"Number of parameters:\", num_params)\n"
   ]
  },
  {
   "cell_type": "code",
   "execution_count": 8,
   "metadata": {},
   "outputs": [],
   "source": [
    "folder_date = 'old_models/' +  datetime.now().strftime(\"%Y_%m_%d-%I_%M_%S_%p\")\n",
    "os.mkdir(folder_date)\n",
    "filepath_model = folder_date + '/my_best_model.epoch{epoch:02d}-loss{val_loss:.2f}.hdf5'\n"
   ]
  },
  {
   "cell_type": "code",
   "execution_count": 9,
   "metadata": {},
   "outputs": [],
   "source": [
    "model_checkpoint_callback = tf.keras.callbacks.ModelCheckpoint(\n",
    "filepath=filepath_model,\n",
    "save_weights_only=False,\n",
    "monitor='val_accuracy',\n",
    "mode='max',\n",
    "save_freq=\"epoch\",\n",
    "save_best_only=True)\n",
    "\n",
    "early_stopping = tf.keras.callbacks.EarlyStopping(monitor='val_loss', patience=4, mode='auto', verbose = 1, )"
   ]
  },
  {
   "cell_type": "code",
   "execution_count": 10,
   "metadata": {},
   "outputs": [],
   "source": [
    "mlflow.end_run()"
   ]
  },
  {
   "cell_type": "code",
   "execution_count": 11,
   "metadata": {},
   "outputs": [
    {
     "name": "stdout",
     "output_type": "stream",
     "text": [
      "Epoch 1/80\n",
      "75/75 [==============================] - 44s 335ms/step - loss: 1.1038 - accuracy: 0.3333 - val_loss: 1.0957 - val_accuracy: 0.3780\n",
      "Epoch 2/80\n",
      "75/75 [==============================] - 22s 284ms/step - loss: 1.0938 - accuracy: 0.3582 - val_loss: 1.0781 - val_accuracy: 0.3923\n",
      "Epoch 3/80\n",
      "75/75 [==============================] - 22s 282ms/step - loss: 1.0647 - accuracy: 0.4252 - val_loss: 0.9848 - val_accuracy: 0.5191\n",
      "Epoch 4/80\n",
      "75/75 [==============================] - 22s 292ms/step - loss: 1.0910 - accuracy: 0.4067 - val_loss: 1.0940 - val_accuracy: 0.3780\n",
      "Epoch 5/80\n",
      "75/75 [==============================] - 24s 303ms/step - loss: 1.1030 - accuracy: 0.3418 - val_loss: 1.0919 - val_accuracy: 0.3780\n",
      "Epoch 6/80\n",
      "75/75 [==============================] - 23s 297ms/step - loss: 1.0954 - accuracy: 0.3578 - val_loss: 1.0864 - val_accuracy: 0.3301\n",
      "Epoch 7/80\n",
      "75/75 [==============================] - 29s 379ms/step - loss: 1.0869 - accuracy: 0.3633 - val_loss: 1.1012 - val_accuracy: 0.2919\n",
      "Epoch 8/80\n",
      "75/75 [==============================] - 24s 303ms/step - loss: 1.0926 - accuracy: 0.3603 - val_loss: 1.0413 - val_accuracy: 0.3923\n",
      "Epoch 9/80\n",
      "75/75 [==============================] - 22s 284ms/step - loss: 1.0249 - accuracy: 0.4576 - val_loss: 0.9992 - val_accuracy: 0.5096\n",
      "Epoch 10/80\n",
      "75/75 [==============================] - 22s 283ms/step - loss: 0.9996 - accuracy: 0.4825 - val_loss: 0.9636 - val_accuracy: 0.5383\n",
      "Epoch 11/80\n",
      "75/75 [==============================] - 19s 245ms/step - loss: 0.9033 - accuracy: 0.5263 - val_loss: 0.8668 - val_accuracy: 0.4880\n",
      "Epoch 12/80\n",
      "75/75 [==============================] - 21s 270ms/step - loss: 0.8936 - accuracy: 0.5584 - val_loss: 0.8119 - val_accuracy: 0.6627\n",
      "Epoch 13/80\n",
      "75/75 [==============================] - 20s 268ms/step - loss: 0.9052 - accuracy: 0.5546 - val_loss: 0.8599 - val_accuracy: 0.5813\n",
      "Epoch 14/80\n",
      "75/75 [==============================] - 23s 297ms/step - loss: 0.8751 - accuracy: 0.5693 - val_loss: 0.7749 - val_accuracy: 0.6555\n",
      "Epoch 15/80\n",
      "75/75 [==============================] - 22s 277ms/step - loss: 0.9051 - accuracy: 0.5571 - val_loss: 0.8706 - val_accuracy: 0.5766\n",
      "Epoch 16/80\n",
      "75/75 [==============================] - 22s 288ms/step - loss: 0.8324 - accuracy: 0.6060 - val_loss: 0.8941 - val_accuracy: 0.5622\n",
      "Epoch 17/80\n",
      "75/75 [==============================] - 21s 275ms/step - loss: 0.8184 - accuracy: 0.6136 - val_loss: 0.7554 - val_accuracy: 0.6699\n",
      "Epoch 18/80\n",
      "75/75 [==============================] - 22s 282ms/step - loss: 0.7743 - accuracy: 0.6418 - val_loss: 0.7430 - val_accuracy: 0.6651\n",
      "Epoch 19/80\n",
      "75/75 [==============================] - 26s 345ms/step - loss: 0.7901 - accuracy: 0.6477 - val_loss: 0.8678 - val_accuracy: 0.6124\n",
      "Epoch 20/80\n",
      "75/75 [==============================] - 23s 294ms/step - loss: 0.8040 - accuracy: 0.6359 - val_loss: 0.6802 - val_accuracy: 0.7153\n",
      "Epoch 21/80\n",
      "75/75 [==============================] - 22s 289ms/step - loss: 0.7662 - accuracy: 0.6469 - val_loss: 0.7725 - val_accuracy: 0.6124\n",
      "Epoch 22/80\n",
      "75/75 [==============================] - 24s 305ms/step - loss: 0.7483 - accuracy: 0.6700 - val_loss: 0.6435 - val_accuracy: 0.7321\n",
      "Epoch 23/80\n",
      "75/75 [==============================] - 25s 323ms/step - loss: 0.7353 - accuracy: 0.6679 - val_loss: 0.6031 - val_accuracy: 0.7679\n",
      "Epoch 24/80\n",
      "75/75 [==============================] - 22s 290ms/step - loss: 0.7371 - accuracy: 0.6713 - val_loss: 0.6130 - val_accuracy: 0.7560\n",
      "Epoch 25/80\n",
      "75/75 [==============================] - 22s 287ms/step - loss: 0.7636 - accuracy: 0.6574 - val_loss: 0.6476 - val_accuracy: 0.7440\n",
      "Epoch 26/80\n",
      "75/75 [==============================] - 23s 298ms/step - loss: 0.7037 - accuracy: 0.7075 - val_loss: 0.5715 - val_accuracy: 0.7584\n",
      "Epoch 27/80\n",
      "75/75 [==============================] - 23s 295ms/step - loss: 0.6673 - accuracy: 0.7054 - val_loss: 0.6865 - val_accuracy: 0.6890\n",
      "Epoch 28/80\n",
      "75/75 [==============================] - 22s 292ms/step - loss: 0.6781 - accuracy: 0.7139 - val_loss: 0.6233 - val_accuracy: 0.7344\n",
      "Epoch 29/80\n",
      "75/75 [==============================] - 22s 289ms/step - loss: 0.6202 - accuracy: 0.7354 - val_loss: 0.7195 - val_accuracy: 0.6938\n",
      "Epoch 30/80\n",
      "75/75 [==============================] - 25s 322ms/step - loss: 0.6297 - accuracy: 0.7425 - val_loss: 0.9291 - val_accuracy: 0.6124\n",
      "Epoch 31/80\n",
      "75/75 [==============================] - 24s 309ms/step - loss: 0.6560 - accuracy: 0.7223 - val_loss: 0.4812 - val_accuracy: 0.8278\n",
      "Epoch 32/80\n",
      "75/75 [==============================] - 22s 290ms/step - loss: 0.6069 - accuracy: 0.7564 - val_loss: 0.6370 - val_accuracy: 0.7249\n",
      "Epoch 33/80\n",
      "75/75 [==============================] - 22s 281ms/step - loss: 0.5724 - accuracy: 0.7649 - val_loss: 0.4921 - val_accuracy: 0.8062\n",
      "Epoch 34/80\n",
      "75/75 [==============================] - 21s 276ms/step - loss: 0.6484 - accuracy: 0.7261 - val_loss: 0.4762 - val_accuracy: 0.8254\n",
      "Epoch 35/80\n",
      "75/75 [==============================] - 21s 273ms/step - loss: 0.6399 - accuracy: 0.7269 - val_loss: 0.6036 - val_accuracy: 0.7560\n",
      "Epoch 36/80\n",
      "75/75 [==============================] - 21s 270ms/step - loss: 0.6149 - accuracy: 0.7568 - val_loss: 0.7005 - val_accuracy: 0.6770\n",
      "Epoch 37/80\n",
      "75/75 [==============================] - 21s 269ms/step - loss: 0.6327 - accuracy: 0.7273 - val_loss: 0.5582 - val_accuracy: 0.7751\n",
      "Epoch 38/80\n",
      "75/75 [==============================] - 22s 280ms/step - loss: 0.6059 - accuracy: 0.7543 - val_loss: 0.5261 - val_accuracy: 0.7656\n",
      "Epoch 39/80\n",
      "75/75 [==============================] - 22s 281ms/step - loss: 0.5537 - accuracy: 0.7754 - val_loss: 0.4659 - val_accuracy: 0.8182\n",
      "Epoch 40/80\n",
      "75/75 [==============================] - 21s 271ms/step - loss: 0.5518 - accuracy: 0.7733 - val_loss: 0.4553 - val_accuracy: 0.8158\n",
      "Epoch 41/80\n",
      "75/75 [==============================] - 20s 255ms/step - loss: 0.5679 - accuracy: 0.7657 - val_loss: 0.5256 - val_accuracy: 0.7943\n",
      "Epoch 42/80\n",
      "75/75 [==============================] - 20s 263ms/step - loss: 0.6055 - accuracy: 0.7400 - val_loss: 0.4462 - val_accuracy: 0.8325\n",
      "Epoch 43/80\n",
      "75/75 [==============================] - 20s 262ms/step - loss: 0.5605 - accuracy: 0.7627 - val_loss: 0.4809 - val_accuracy: 0.8014\n",
      "Epoch 44/80\n",
      "75/75 [==============================] - 20s 262ms/step - loss: 0.5898 - accuracy: 0.7573 - val_loss: 0.5115 - val_accuracy: 0.8110\n",
      "Epoch 45/80\n",
      "75/75 [==============================] - 19s 251ms/step - loss: 0.5486 - accuracy: 0.7724 - val_loss: 0.3977 - val_accuracy: 0.8541\n",
      "Epoch 46/80\n",
      "75/75 [==============================] - 19s 253ms/step - loss: 0.5139 - accuracy: 0.7914 - val_loss: 0.6127 - val_accuracy: 0.7081\n",
      "Epoch 47/80\n",
      "75/75 [==============================] - 20s 265ms/step - loss: 0.5657 - accuracy: 0.7674 - val_loss: 0.7871 - val_accuracy: 0.6459\n",
      "Epoch 48/80\n",
      "75/75 [==============================] - 20s 264ms/step - loss: 0.5252 - accuracy: 0.7859 - val_loss: 0.4709 - val_accuracy: 0.7799\n",
      "Epoch 49/80\n",
      "75/75 [==============================] - 20s 258ms/step - loss: 0.4787 - accuracy: 0.7922 - val_loss: 0.5452 - val_accuracy: 0.7632\n",
      "Epoch 50/80\n",
      "75/75 [==============================] - 18s 226ms/step - loss: 0.5540 - accuracy: 0.7598 - val_loss: 0.6351 - val_accuracy: 0.7225\n",
      "Epoch 51/80\n",
      "75/75 [==============================] - 15s 200ms/step - loss: 0.5483 - accuracy: 0.7788 - val_loss: 0.3847 - val_accuracy: 0.8541\n",
      "Epoch 52/80\n",
      "75/75 [==============================] - 15s 193ms/step - loss: 0.4763 - accuracy: 0.8028 - val_loss: 0.8986 - val_accuracy: 0.6340\n",
      "Epoch 53/80\n",
      "75/75 [==============================] - 15s 197ms/step - loss: 0.5019 - accuracy: 0.7927 - val_loss: 0.4108 - val_accuracy: 0.8158\n",
      "Epoch 54/80\n",
      "75/75 [==============================] - 15s 198ms/step - loss: 0.5326 - accuracy: 0.7720 - val_loss: 0.5929 - val_accuracy: 0.7105\n",
      "Epoch 55/80\n",
      "75/75 [==============================] - 15s 200ms/step - loss: 0.5201 - accuracy: 0.7855 - val_loss: 0.5062 - val_accuracy: 0.7847\n",
      "Epoch 56/80\n",
      "75/75 [==============================] - 15s 199ms/step - loss: 0.5031 - accuracy: 0.8003 - val_loss: 0.3659 - val_accuracy: 0.8421\n",
      "Epoch 57/80\n",
      "75/75 [==============================] - 15s 196ms/step - loss: 0.5072 - accuracy: 0.7990 - val_loss: 0.4113 - val_accuracy: 0.8230\n",
      "Epoch 58/80\n",
      "75/75 [==============================] - 18s 238ms/step - loss: 0.4681 - accuracy: 0.8057 - val_loss: 0.4494 - val_accuracy: 0.8421\n",
      "Epoch 59/80\n",
      "75/75 [==============================] - 18s 231ms/step - loss: 0.4718 - accuracy: 0.8121 - val_loss: 0.4622 - val_accuracy: 0.8086\n",
      "Epoch 60/80\n",
      "75/75 [==============================] - 17s 226ms/step - loss: 0.4558 - accuracy: 0.8188 - val_loss: 0.5164 - val_accuracy: 0.7703\n",
      "Epoch 61/80\n",
      "75/75 [==============================] - 18s 228ms/step - loss: 0.4904 - accuracy: 0.8028 - val_loss: 0.3621 - val_accuracy: 0.8517\n",
      "Epoch 62/80\n",
      "75/75 [==============================] - 18s 232ms/step - loss: 0.4129 - accuracy: 0.8390 - val_loss: 0.4773 - val_accuracy: 0.7751\n",
      "Epoch 63/80\n",
      "75/75 [==============================] - 18s 232ms/step - loss: 0.4360 - accuracy: 0.8234 - val_loss: 0.2867 - val_accuracy: 0.8995\n",
      "Epoch 64/80\n",
      "75/75 [==============================] - 17s 211ms/step - loss: 0.4606 - accuracy: 0.8121 - val_loss: 0.4944 - val_accuracy: 0.7751\n",
      "Epoch 65/80\n",
      "75/75 [==============================] - 16s 207ms/step - loss: 0.4438 - accuracy: 0.8293 - val_loss: 0.4703 - val_accuracy: 0.8038\n",
      "Epoch 66/80\n",
      "75/75 [==============================] - 15s 201ms/step - loss: 0.4750 - accuracy: 0.8070 - val_loss: 0.3582 - val_accuracy: 0.8493\n",
      "Epoch 67/80\n",
      "75/75 [==============================] - 15s 201ms/step - loss: 0.4553 - accuracy: 0.8154 - val_loss: 0.3838 - val_accuracy: 0.8636\n",
      "Epoch 68/80\n",
      "75/75 [==============================] - 15s 202ms/step - loss: 0.4988 - accuracy: 0.7927 - val_loss: 0.4702 - val_accuracy: 0.7943\n",
      "Epoch 69/80\n",
      "75/75 [==============================] - 15s 201ms/step - loss: 0.4534 - accuracy: 0.8196 - val_loss: 0.2950 - val_accuracy: 0.8804\n",
      "Epoch 70/80\n",
      "75/75 [==============================] - 15s 200ms/step - loss: 0.4710 - accuracy: 0.8074 - val_loss: 0.4211 - val_accuracy: 0.8062\n",
      "Epoch 71/80\n",
      "75/75 [==============================] - 15s 200ms/step - loss: 0.4141 - accuracy: 0.8357 - val_loss: 0.8952 - val_accuracy: 0.6483\n",
      "Epoch 72/80\n",
      "75/75 [==============================] - 15s 198ms/step - loss: 0.6356 - accuracy: 0.7459 - val_loss: 0.5124 - val_accuracy: 0.7823\n",
      "Epoch 73/80\n",
      "75/75 [==============================] - 15s 199ms/step - loss: 0.4651 - accuracy: 0.8158 - val_loss: 0.4483 - val_accuracy: 0.7919\n",
      "Epoch 74/80\n",
      "75/75 [==============================] - 15s 202ms/step - loss: 0.4778 - accuracy: 0.8066 - val_loss: 0.3333 - val_accuracy: 0.8541\n",
      "Epoch 75/80\n",
      "75/75 [==============================] - 16s 204ms/step - loss: 0.4690 - accuracy: 0.8078 - val_loss: 0.4540 - val_accuracy: 0.7943\n",
      "Epoch 76/80\n",
      "75/75 [==============================] - 15s 202ms/step - loss: 0.4325 - accuracy: 0.8281 - val_loss: 0.5541 - val_accuracy: 0.7560\n",
      "Epoch 77/80\n",
      "75/75 [==============================] - 15s 200ms/step - loss: 0.4327 - accuracy: 0.8226 - val_loss: 0.2879 - val_accuracy: 0.8900\n",
      "Epoch 78/80\n",
      "75/75 [==============================] - 15s 201ms/step - loss: 0.4232 - accuracy: 0.8361 - val_loss: 0.4469 - val_accuracy: 0.8110\n",
      "Epoch 79/80\n",
      "75/75 [==============================] - 15s 201ms/step - loss: 0.4132 - accuracy: 0.8378 - val_loss: 0.3603 - val_accuracy: 0.8517\n",
      "Epoch 80/80\n",
      "75/75 [==============================] - 15s 200ms/step - loss: 0.4408 - accuracy: 0.8209 - val_loss: 0.3455 - val_accuracy: 0.8445\n",
      "14/14 [==============================] - 1s 54ms/step - loss: 0.3455 - accuracy: 0.8445\n"
     ]
    }
   ],
   "source": [
    "# Start an MLflow run\n",
    "mlflow.start_run()\n",
    "\n",
    "mlflow.set_experiment('jorgenet_project_capstone')\n",
    "\n",
    "# Log the name of the dataset\n",
    "mlflow.log_param(\"dataset_name\", dataset_name)\n",
    "\n",
    "# Log the number of samples in the dataset\n",
    "#   mlflow.log_param(\"num_samples_train\", num_train_samples)\n",
    "#   mlflow.log_param(\"num_samples_train\", num_val_samples)\n",
    "\n",
    "epochs = 80\n",
    "history = model.fit(\n",
    "    train_ds, epochs=epochs, validation_data=val_ds, callbacks=[model_checkpoint_callback]\n",
    ")\n",
    " \n",
    "# Evaluate the model\n",
    "loss, accuracy = model.evaluate(val_ds)\n",
    "\n",
    "#Logging parameters\n",
    "mlflow.log_param(\"epochs\", epochs)\n",
    "mlflow.log_param(\"batch_size\", batch_size)\n",
    "mlflow.log_param(\"parameters\", num_params)\n",
    "\n",
    "\n",
    "#Logging metrics\n",
    "mlflow.log_metric(\"val_loss\", loss)\n",
    "mlflow.log_metric(\"val_accuracy\", accuracy)\n",
    "\n"
   ]
  },
  {
   "cell_type": "code",
   "execution_count": 12,
   "metadata": {},
   "outputs": [],
   "source": [
    "#Guardo el modelo en la última epoch. Esto \n",
    "model.save(folder_date + '/modelo_entrenado.h5')\n"
   ]
  },
  {
   "cell_type": "code",
   "execution_count": 13,
   "metadata": {},
   "outputs": [
    {
     "name": "stdout",
     "output_type": "stream",
     "text": [
      "dict_keys(['loss', 'accuracy', 'val_loss', 'val_accuracy'])\n"
     ]
    }
   ],
   "source": [
    "history\n",
    "print(history.history.keys())"
   ]
  },
  {
   "cell_type": "code",
   "execution_count": 14,
   "metadata": {},
   "outputs": [
    {
     "data": {
      "text/plain": [
       "'old_models/2023_06_26-10_10_15_PM/accuracy.png'"
      ]
     },
     "execution_count": 14,
     "metadata": {},
     "output_type": "execute_result"
    }
   ],
   "source": [
    "folder_date + \"/accuracy.png\""
   ]
  },
  {
   "cell_type": "code",
   "execution_count": 15,
   "metadata": {},
   "outputs": [
    {
     "name": "stdout",
     "output_type": "stream",
     "text": [
      "dict_keys(['loss', 'accuracy', 'val_loss', 'val_accuracy'])\n"
     ]
    },
    {
     "data": {
      "image/png": "[encoded data removed]",
      "text/plain": [
       "<Figure size 432x288 with 1 Axes>"
      ]
     },
     "metadata": {
      "needs_background": "light"
     },
     "output_type": "display_data"
    },
    {
     "data": {
      "image/png": "[encoded data removed]",
      "text/plain": [
       "<Figure size 432x288 with 1 Axes>"
      ]
     },
     "metadata": {
      "needs_background": "light"
     },
     "output_type": "display_data"
    }
   ],
   "source": [
    "print(history.history.keys())\n",
    "\n",
    "#  \"Accuracy\"\n",
    "plt.plot(history.history['accuracy'])\n",
    "plt.plot(history.history['val_accuracy'])\n",
    "plt.title('model accuracy')\n",
    "plt.ylabel('accuracy')\n",
    "plt.xlabel('epoch')\n",
    "plt.legend(['train', 'validation'], loc='upper left')\n",
    "\n",
    "plt.text(len(history.history['accuracy'])-1, history.history['accuracy'][-1], \n",
    "         f\"Acc: {history.history['accuracy'][-1]:.4f}\", ha='center', va='bottom')\n",
    "plt.text(len(history.history['val_accuracy'])-1, history.history['val_accuracy'][-1], \n",
    "         f\"Val Acc: {history.history['val_accuracy'][-1]:.4f}\", ha='center', va='top')\n",
    "\n",
    "\n",
    "plt.savefig(folder_date + \"/accuracy.png\")\n",
    "plt.show()\n",
    "\n",
    "# \"Loss\"\n",
    "plt.plot(history.history['loss'])\n",
    "plt.plot(history.history['val_loss'])\n",
    "plt.title('model loss')\n",
    "plt.ylabel('loss')\n",
    "plt.xlabel('epoch')\n",
    "plt.legend(['train', 'validation'], loc='upper left')\n",
    "\n",
    "plt.text(len(history.history['loss'])-1, history.history['loss'][-1], \n",
    "         f\"Loss: {history.history['loss'][-1]:.4f}\", ha='center', va='bottom')\n",
    "plt.text(len(history.history['val_loss'])-1, history.history['val_loss'][-1], \n",
    "         f\"Val Loss: {history.history['val_loss'][-1]:.4f}\", ha='center', va='top')\n",
    "\n",
    "\n",
    "plt.savefig(folder_date + \"/loss.png\")\n",
    "plt.show()\n"
   ]
  },
  {
   "attachments": {},
   "cell_type": "markdown",
   "metadata": {},
   "source": [
    "Preguntas, cómo puedo gestionar datos que vienen de dos distribuciones distintas?\n",
    "\n"
   ]
  },
  {
   "attachments": {},
   "cell_type": "markdown",
   "metadata": {},
   "source": [
    "# This is a section to evaluate the model on te test data"
   ]
  },
  {
   "cell_type": "code",
   "execution_count": 20,
   "metadata": {},
   "outputs": [
    {
     "name": "stdout",
     "output_type": "stream",
     "text": [
      "[0, 2, 2, 0, 0, 1, 0, 0, 0, 1, 0, 0, 0, 0, 2, 0, 0, 0, 0, 0, 0, 0, 0, 0, 0, 0, 0, 1, 0, 2, 2, 2, 0, 0, 0, 0, 0, 0, 0, 0, 0, 0, 0, 0, 0, 0, 0, 0, 0, 1, 1, 0, 1, 0, 0, 0, 0, 2, 2, 0, 0, 0, 0, 0, 0, 0, 0, 0, 0, 0, 0, 0, 0, 0, 0, 0, 0, 0, 0, 0, 0, 0, 0, 0, 0, 0, 0, 0, 0, 0, 0, 0, 0, 0, 2, 0, 0, 0, 0, 0, 0, 0, 0, 0, 0, 0, 0, 0, 0, 0, 0, 2, 0, 0, 0, 0, 0, 2, 2, 0, 0, 0, 0, 0, 0, 0, 2, 0, 1, 0, 0, 0, 1, 1, 1, 1, 0, 0, 0, 0, 0, 0, 0, 0, 0, 0, 0, 0, 0, 0, 0, 0, 0, 0, 0, 0, 0, 0, 0, 0, 1, 1, 1, 1, 1, 1, 1, 1, 1, 1, 1, 1, 1, 1, 1, 1, 1, 1, 1, 1, 1, 1, 1, 1, 1, 1, 1, 1, 1, 1, 1, 1, 1, 1, 1, 1, 1, 1, 1, 1, 1, 1, 1, 1, 1, 1, 1, 1, 1, 1, 1, 1, 1, 1, 1, 0, 1, 1, 1, 1, 1, 1, 1, 1, 1, 1, 1, 1, 1, 1, 1, 1, 1, 1, 1, 1, 1, 1, 1, 1, 1, 1, 1, 1, 1, 1, 1, 1, 1, 1, 1, 1, 1, 1, 1, 1, 1, 1, 1, 1, 1, 1, 1, 1, 1, 1, 1, 1, 1, 1, 1, 1, 1, 1, 1, 1, 0, 1, 1, 2, 1, 1, 1, 1, 2, 2, 2, 2, 2, 2, 2, 2, 2, 2, 2, 2, 2, 2, 2, 2, 2, 2, 0, 0, 0, 0, 2, 2, 2, 2, 2, 2, 2, 2, 2, 2, 1, 2, 2, 2, 2, 2, 2, 2, 2, 2, 2, 2, 2, 2, 2, 2, 2, 2, 2, 2, 1, 2, 1, 2, 1, 1, 0, 0, 2, 2, 2, 2, 0, 0, 2, 2, 2, 2, 2, 2, 0, 2, 2, 2, 0, 0, 2, 2, 0, 0, 0, 0, 2, 0, 2, 2, 2, 2, 0, 2, 2, 2, 2, 2, 2, 2, 2, 2, 0, 0, 2, 0, 2, 2, 2, 2, 2, 2, 2, 2, 2, 2, 2, 2, 2, 2, 2, 2, 2, 2, 2, 2, 0, 0, 0, 0, 2, 2, 2, 2, 2, 2, 2, 2, 2, 2, 2, 2, 2, 0, 0, 0, 2, 2, 2, 2, 2, 2, 2, 2]\n",
      "[0, 0, 0, 0, 0, 0, 0, 0, 0, 0, 0, 0, 0, 0, 0, 0, 0, 0, 0, 0, 0, 0, 0, 0, 0, 0, 0, 0, 0, 0, 0, 0, 0, 0, 0, 0, 0, 0, 0, 0, 0, 0, 0, 0, 0, 0, 0, 0, 0, 0, 0, 0, 0, 0, 0, 0, 0, 0, 0, 0, 0, 0, 0, 0, 0, 0, 0, 0, 0, 0, 0, 0, 0, 0, 0, 0, 0, 0, 0, 0, 0, 0, 0, 0, 0, 0, 0, 0, 0, 0, 0, 0, 0, 0, 0, 0, 0, 0, 0, 0, 0, 0, 0, 0, 0, 0, 0, 0, 0, 0, 0, 0, 0, 0, 0, 0, 0, 0, 0, 0, 0, 0, 0, 0, 0, 0, 0, 0, 0, 0, 0, 0, 0, 0, 0, 0, 0, 0, 0, 0, 0, 0, 0, 0, 0, 0, 0, 0, 0, 0, 0, 0, 0, 0, 0, 0, 0, 0, 0, 0, 1, 1, 1, 1, 1, 1, 1, 1, 1, 1, 1, 1, 1, 1, 1, 1, 1, 1, 1, 1, 1, 1, 1, 1, 1, 1, 1, 1, 1, 1, 1, 1, 1, 1, 1, 1, 1, 1, 1, 1, 1, 1, 1, 1, 1, 1, 1, 1, 1, 1, 1, 1, 1, 1, 1, 1, 1, 1, 1, 1, 1, 1, 1, 1, 1, 1, 1, 1, 1, 1, 1, 1, 1, 1, 1, 1, 1, 1, 1, 1, 1, 1, 1, 1, 1, 1, 1, 1, 1, 1, 1, 1, 1, 1, 1, 1, 1, 1, 1, 1, 1, 1, 1, 1, 1, 1, 1, 1, 1, 1, 1, 1, 1, 1, 1, 1, 1, 1, 1, 1, 1, 1, 1, 1, 2, 2, 2, 2, 2, 2, 2, 2, 2, 2, 2, 2, 2, 2, 2, 2, 2, 2, 2, 2, 2, 2, 2, 2, 2, 2, 2, 2, 2, 2, 2, 2, 2, 2, 2, 2, 2, 2, 2, 2, 2, 2, 2, 2, 2, 2, 2, 2, 2, 2, 2, 2, 2, 2, 2, 2, 2, 2, 2, 2, 2, 2, 2, 2, 2, 2, 2, 2, 2, 2, 2, 2, 2, 2, 2, 2, 2, 2, 2, 2, 2, 2, 2, 2, 2, 2, 2, 2, 2, 2, 2, 2, 2, 2, 2, 2, 2, 2, 2, 2, 2, 2, 2, 2, 2, 2, 2, 2, 2, 2, 2, 2, 2, 2, 2, 2, 2, 2, 2, 2, 2, 2, 2, 2, 2, 2, 2, 2, 2, 2, 2, 2, 2, 2, 2, 2, 2, 2, 2, 2, 2, 2, 2, 2, 2, 2, 2, 2, 2, 2, 2, 2]\n"
     ]
    },
    {
     "data": {
      "image/png": "[encoded data removed]",
      "text/plain": [
       "<Figure size 432x288 with 2 Axes>"
      ]
     },
     "metadata": {
      "needs_background": "light"
     },
     "output_type": "display_data"
    },
    {
     "name": "stdout",
     "output_type": "stream",
     "text": [
      "Precision: 0.8658633922913876\n",
      "Recall: 0.8646788990825688\n",
      "Accuracy: 0.8646788990825688\n"
     ]
    }
   ],
   "source": [
    "# Load the test images from the folder 'test_images'\n",
    "predicted_labels= []\n",
    "true_labels = []\n",
    "\n",
    "label_mapping = {\n",
    "    'aca': 0,\n",
    "    'nor': 1,\n",
    "    'scc': 2\n",
    "}\n",
    "\n",
    "\n",
    "directory = \"private_combined_test_set\"\n",
    "for filename in os.listdir(directory):\n",
    "\n",
    "    # Load the image and add it to the list of test images\n",
    "    f = os.path.join(directory, filename)\n",
    "    imagen = tf.keras.preprocessing.image.load_img(f, target_size=(255,255))\n",
    "    x = tf.keras.preprocessing.image.img_to_array(imagen)    \n",
    "    x = np.expand_dims(x, axis=0)\n",
    "\n",
    "    prediction = model.predict(x)\n",
    "    predicted_class = np.argmax(prediction)\n",
    "\n",
    "    #True labels are calculated based on name. It is a very weak way of doing it. Look for a better one or rename the files\n",
    "\n",
    "    if 'aca' in filename or 'lungaca' in filename:\n",
    "        true_labels.append(0)\n",
    "    elif 'scc' in filename or 'lungscc' in filename:\n",
    "        true_labels.append(2)\n",
    "    elif 'nor' in filename or 'lungn' in filename:\n",
    "        true_labels.append(1)\n",
    "   \n",
    "    \n",
    "\n",
    "    predicted_labels.append(predicted_class)\n",
    "\n",
    "print(predicted_labels)\n",
    "print(true_labels)\n",
    "\n",
    "\n",
    "cm = confusion_matrix(true_labels, predicted_labels)\n",
    "labels = [label for label, _ in sorted(label_mapping.items(), key=lambda x: x[1])]\n",
    "disp = ConfusionMatrixDisplay(confusion_matrix=cm, display_labels=labels)\n",
    "disp.plot()\n",
    "\n",
    "plt.title(directory,  fontdict={'fontsize': 16})  # Set the new title for the plot\n",
    "plt.show()\n",
    "\n",
    "\n",
    "# Calculate precision, recall, and accuracy\n",
    "precision = precision_score(true_labels, predicted_labels, average='weighted')\n",
    "recall = recall_score(true_labels, predicted_labels, average='weighted')\n",
    "accuracy = accuracy_score(true_labels, predicted_labels)\n",
    "\n",
    "# Print the results\n",
    "print(\"Precision:\", precision)\n",
    "print(\"Recall:\", recall)\n",
    "print(\"Accuracy:\", accuracy)\n",
    "\n",
    "mlflow.log_metric(\"Precision\", precision)\n",
    "mlflow.log_metric(\"Recall\", recall)\n",
    "mlflow.log_metric(\"Accuracy\", accuracy)\n",
    "\n",
    "mlflow.end_run()\n",
    "\n"
   ]
  },
  {
   "attachments": {},
   "cell_type": "markdown",
   "metadata": {},
   "source": [
    "#Predice mal en las muestras de Henar. Veremos con el nuevo dataset, pero quizá haya que hacer un training con peso Opciones:\n",
    "\n",
    "Undersample the larger distribution: randomly remove examples from the larger distribution until it matches the size of the smaller one.\n",
    "\n",
    "Oversample the smaller distribution: randomly duplicate examples from the smaller distribution until it matches the size of the larger one.\n",
    "\n",
    "Data augmentation: generate new examples from the smaller distribution using techniques like rotation, flipping, or zooming.\n",
    "\n",
    "Use class weights: adjust the loss function of your CNN to assign higher weights to the smaller distribution so that it receives more emphasis during training.\n",
    "\n",
    "Fine-tuning: you could use a pre-trained model to initialize the weights and only fine-tune the last few layers to fit the imbalanced data."
   ]
  },
  {
   "attachments": {},
   "cell_type": "markdown",
   "metadata": {},
   "source": []
  },
  {
   "attachments": {},
   "cell_type": "markdown",
   "metadata": {},
   "source": []
  },
  {
   "attachments": {},
   "cell_type": "markdown",
   "metadata": {},
   "source": [
    "1. Domain shift\n",
    "2. "
   ]
  },
  {
   "cell_type": "code",
   "execution_count": 19,
   "metadata": {},
   "outputs": [
    {
     "name": "stdout",
     "output_type": "stream",
     "text": [
      "[2, 0, 2, 2, 0, 2, 2, 2, 2, 2, 0, 2, 0, 2, 2, 0, 2, 2, 0, 2, 2, 0, 2, 2, 0, 2, 2, 2, 2, 0, 1, 0, 0, 1, 1, 1, 1, 0, 0, 1, 0, 1, 1, 0, 0, 0, 0, 1, 0, 0, 0, 1, 0, 0, 0, 0, 0, 0, 0, 0, 2, 2, 2, 2, 2, 2, 2, 2, 2, 2, 2, 2, 2, 2, 2, 2, 2, 2, 2, 2, 2, 2, 2, 2, 2, 2, 2, 2, 2, 2]\n",
      "[0, 0, 0, 0, 0, 0, 0, 0, 0, 0, 0, 0, 0, 0, 0, 0, 0, 0, 0, 0, 0, 0, 0, 0, 0, 0, 0, 0, 0, 0, 1, 1, 1, 1, 1, 1, 1, 1, 1, 1, 1, 1, 1, 1, 1, 1, 1, 1, 1, 1, 1, 1, 1, 1, 1, 1, 1, 1, 1, 1, 2, 2, 2, 2, 2, 2, 2, 2, 2, 2, 2, 2, 2, 2, 2, 2, 2, 2, 2, 2, 2, 2, 2, 2, 2, 2, 2, 2, 2, 2]\n"
     ]
    },
    {
     "data": {
      "image/png": "[encoded data removed]",
      "text/plain": [
       "<Figure size 432x288 with 2 Axes>"
      ]
     },
     "metadata": {
      "needs_background": "light"
     },
     "output_type": "display_data"
    },
    {
     "name": "stdout",
     "output_type": "stream",
     "text": [
      "Precision: 0.6328600405679513\n",
      "Recall: 0.5444444444444444\n",
      "Accuracy: 0.5444444444444444\n"
     ]
    }
   ],
   "source": [
    "# Load the test images from the folder 'test_images'\n",
    "predicted_labels= []\n",
    "true_labels = []\n",
    "\n",
    "label_mapping = {\n",
    "    'aca': 0,\n",
    "    'nor': 1,\n",
    "    'scc': 2\n",
    "}\n",
    "\n",
    "\n",
    "directory = \"test_set_public\"\n",
    "for filename in os.listdir(directory):\n",
    "\n",
    "    # Load the image and add it to the list of test images\n",
    "    f = os.path.join(directory, filename)\n",
    "    imagen = tf.keras.preprocessing.image.load_img(f, target_size=(255,255))\n",
    "    x = tf.keras.preprocessing.image.img_to_array(imagen)    \n",
    "    x = np.expand_dims(x, axis=0)\n",
    "\n",
    "    prediction = model.predict(x)\n",
    "    predicted_class = np.argmax(prediction)\n",
    "\n",
    "    #True labels are calculated based on name. It is a very weak way of doing it. Look for a better one or rename the files\n",
    "\n",
    "    if 'aca' in filename or 'lungaca' in filename:\n",
    "        true_labels.append(0)\n",
    "    elif 'scc' in filename or 'lungscc' in filename:\n",
    "        true_labels.append(2)\n",
    "    elif 'nor' in filename or 'lungn' in filename:\n",
    "        true_labels.append(1)\n",
    "   \n",
    "    \n",
    "\n",
    "    predicted_labels.append(predicted_class)\n",
    "\n",
    "print(predicted_labels)\n",
    "print(true_labels)\n",
    "\n",
    "\n",
    "cm = confusion_matrix(true_labels, predicted_labels)\n",
    "labels = [label for label, _ in sorted(label_mapping.items(), key=lambda x: x[1])]\n",
    "disp = ConfusionMatrixDisplay(confusion_matrix=cm, display_labels=labels)\n",
    "disp.plot()\n",
    "\n",
    "plt.title(directory,  fontdict={'fontsize': 16})  # Set the new title for the plot\n",
    "plt.show()\n",
    "\n",
    "\n",
    "# Calculate precision, recall, and accuracy\n",
    "precision = precision_score(true_labels, predicted_labels, average='weighted')\n",
    "recall = recall_score(true_labels, predicted_labels, average='weighted')\n",
    "accuracy = accuracy_score(true_labels, predicted_labels)\n",
    "\n",
    "# Print the results\n",
    "print(\"Precision:\", precision)\n",
    "print(\"Recall:\", recall)\n",
    "print(\"Accuracy:\", accuracy)\n",
    "\n",
    "mlflow.log_metric(\"Precision\", precision)\n",
    "mlflow.log_metric(\"Recall\", recall)\n",
    "mlflow.log_metric(\"Accuracy\", accuracy)\n",
    "\n",
    "mlflow.end_run()"
   ]
  },
  {
   "cell_type": "code",
   "execution_count": null,
   "metadata": {},
   "outputs": [],
   "source": []
  },
  {
   "cell_type": "code",
   "execution_count": null,
   "metadata": {},
   "outputs": [],
   "source": []
  },
  {
   "cell_type": "code",
   "execution_count": null,
   "metadata": {},
   "outputs": [],
   "source": []
  }
 ],
 "metadata": {
  "kernelspec": {
   "display_name": "ml",
   "language": "python",
   "name": "python3"
  },
  "language_info": {
   "codemirror_mode": {
    "name": "ipython",
    "version": 3
   },
   "file_extension": ".py",
   "mimetype": "text/x-python",
   "name": "python",
   "nbconvert_exporter": "python",
   "pygments_lexer": "ipython3",
   "version": "3.9.12"
  },
  "orig_nbformat": 4,
  "vscode": {
   "interpreter": {
    "hash": "fea903cc172cce62c6301ba3c7eecfb26209215bbdb6c0bb5db0de1694474dd0"
   }
  }
 },
 "nbformat": 4,
 "nbformat_minor": 2
}
