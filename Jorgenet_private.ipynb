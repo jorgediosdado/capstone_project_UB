{
 "cells": [
  {
   "cell_type": "code",
   "execution_count": 2,
   "metadata": {},
   "outputs": [],
   "source": [
    "import os\n",
    "import tensorflow as tf\n",
    "import keras\n",
    "from keras import models\n",
    "from keras import layers\n",
    "from keras import optimizers\n",
    "from datetime import datetime\n",
    "from PIL import Image\n",
    "import numpy as np\n",
    "import keras.backend as K\n",
    "import matplotlib.pyplot as plt\n",
    "import mlflow\n",
    "from tensorflow.keras.utils import plot_model"
   ]
  },
  {
   "cell_type": "code",
   "execution_count": 3,
   "metadata": {},
   "outputs": [
    {
     "name": "stderr",
     "output_type": "stream",
     "text": [
      "2023/05/29 14:00:55 INFO mlflow.tracking.fluent: Autologging successfully enabled for tensorflow.\n"
     ]
    }
   ],
   "source": [
    "#Clear GPU memory and set up the logging of the experiment with mlflow\n",
    "K.clear_session()\n",
    "mlflow.set_experiment('capstone_project')\n",
    "mlflow.autolog()"
   ]
  },
  {
   "cell_type": "code",
   "execution_count": 4,
   "metadata": {},
   "outputs": [],
   "source": [
    "batch_size = 32"
   ]
  },
  {
   "cell_type": "code",
   "execution_count": 5,
   "metadata": {},
   "outputs": [
    {
     "name": "stdout",
     "output_type": "stream",
     "text": [
      "Found 1772 files belonging to 3 classes.\n",
      "Using 1507 files for training.\n",
      "Found 1772 files belonging to 3 classes.\n",
      "Using 265 files for validation.\n"
     ]
    }
   ],
   "source": [
    "image_size = (255, 255)\n",
    "train_ds = tf.keras.preprocessing.image_dataset_from_directory(\n",
    "    'private_dataset',\n",
    "    validation_split=0.15,\n",
    "    subset=\"training\",\n",
    "    label_mode = 'int',\n",
    "    labels = 'inferred',\n",
    "    seed=1336,\n",
    "    image_size=image_size,\n",
    "    interpolation = 'bilinear',\n",
    "    batch_size=batch_size,\n",
    "    shuffle = True,\n",
    ")\n",
    "val_ds = tf.keras.preprocessing.image_dataset_from_directory(\n",
    "    'private_dataset',\n",
    "    validation_split=0.15,\n",
    "    subset=\"validation\",\n",
    "    label_mode = 'int',\n",
    "    labels = 'inferred',\n",
    "    seed=1336,\n",
    "    image_size=image_size,\n",
    "    interpolation = 'bilinear',\n",
    "    batch_size=batch_size,\n",
    "    shuffle = True,\n",
    ")\n"
   ]
  },
  {
   "cell_type": "code",
   "execution_count": 6,
   "metadata": {},
   "outputs": [],
   "source": [
    "imput = (255,255,3)"
   ]
  },
  {
   "cell_type": "code",
   "execution_count": 7,
   "metadata": {},
   "outputs": [
    {
     "name": "stdout",
     "output_type": "stream",
     "text": [
      "Model: \"sequential\"\n",
      "_________________________________________________________________\n",
      "Layer (type)                 Output Shape              Param #   \n",
      "=================================================================\n",
      "rescaling (Rescaling)        (None, 255, 255, 3)       0         \n",
      "_________________________________________________________________\n",
      "conv2d (Conv2D)              (None, 254, 254, 32)      416       \n",
      "_________________________________________________________________\n",
      "max_pooling2d (MaxPooling2D) (None, 127, 127, 32)      0         \n",
      "_________________________________________________________________\n",
      "conv2d_1 (Conv2D)            (None, 126, 126, 64)      8256      \n",
      "_________________________________________________________________\n",
      "max_pooling2d_1 (MaxPooling2 (None, 63, 63, 64)        0         \n",
      "_________________________________________________________________\n",
      "conv2d_2 (Conv2D)            (None, 62, 62, 128)       32896     \n",
      "_________________________________________________________________\n",
      "max_pooling2d_2 (MaxPooling2 (None, 31, 31, 128)       0         \n",
      "_________________________________________________________________\n",
      "conv2d_3 (Conv2D)            (None, 30, 30, 256)       131328    \n",
      "_________________________________________________________________\n",
      "max_pooling2d_3 (MaxPooling2 (None, 15, 15, 256)       0         \n",
      "_________________________________________________________________\n",
      "conv2d_4 (Conv2D)            (None, 14, 14, 512)       524800    \n",
      "_________________________________________________________________\n",
      "max_pooling2d_4 (MaxPooling2 (None, 7, 7, 512)         0         \n",
      "_________________________________________________________________\n",
      "flatten (Flatten)            (None, 25088)             0         \n",
      "_________________________________________________________________\n",
      "dense (Dense)                (None, 512)               12845568  \n",
      "_________________________________________________________________\n",
      "dropout (Dropout)            (None, 512)               0         \n",
      "_________________________________________________________________\n",
      "dense_1 (Dense)              (None, 256)               131328    \n",
      "_________________________________________________________________\n",
      "dropout_1 (Dropout)          (None, 256)               0         \n",
      "_________________________________________________________________\n",
      "dense_2 (Dense)              (None, 3)                 771       \n",
      "=================================================================\n",
      "Total params: 13,675,363\n",
      "Trainable params: 13,675,363\n",
      "Non-trainable params: 0\n",
      "_________________________________________________________________\n"
     ]
    }
   ],
   "source": [
    "imput = (255,255,3)\n",
    "\n",
    "model=models.Sequential()\n",
    "\n",
    "model.add(layers.Rescaling(scale = 1./255, offset=0.0, input_shape=imput))\n",
    "\n",
    "# Para el dataset publico no hago augmentation porque ya esta hecho\n",
    "#model.add(layers.RandomFlip(\"horizontal_and_vertical\"))\n",
    "#model.add(layers.RandomRotation(0.2))\n",
    "#model.add(layers.RandomZoom(0.2))\n",
    "#model.add(layers.RandomContrast(0.2))\n",
    "\n",
    "#Estas me petan la dimension de entrada a la densa. Debería haber un resizing \n",
    "# model.add(layers.RandomWidth(0.2))\n",
    "# model.add(layers.RandomHeight(0.2))\n",
    "\n",
    "\n",
    "model.add(layers.Conv2D(filters=32, kernel_size=(2,2), activation='relu',))\n",
    "model.add(layers.MaxPooling2D(pool_size=(2, 2)))\n",
    "model.add(layers.Conv2D(filters=64, kernel_size=(2,2), activation='relu',))\n",
    "model.add(layers.MaxPooling2D(pool_size=(2, 2)))\n",
    "model.add(layers.Conv2D(filters=128, kernel_size=(2,2), activation='relu',))\n",
    "model.add(layers.MaxPooling2D(pool_size=(2, 2)))\n",
    "model.add(layers.Conv2D(filters=256, kernel_size=(2,2), activation='relu',))\n",
    "model.add(layers.MaxPooling2D(pool_size=(2, 2)))\n",
    "model.add(layers.Conv2D(filters=512, kernel_size=(2,2), activation='relu',))\n",
    "model.add(layers.MaxPooling2D(pool_size=(2, 2)))\n",
    "\n",
    "\n",
    "# Add flatten layer\n",
    "model.add(layers.Flatten())\n",
    "\n",
    "# Add dense/dropout layers + activation functions\n",
    "\n",
    "model.add(layers.Dense(512, activation = 'relu'))\n",
    "model.add(layers.Dropout(0.3))\n",
    "model.add(layers.Dense(256, activation = 'relu'))\n",
    "model.add(layers.Dropout(0.3))\n",
    "model.add(layers.Dense(3, activation = 'softmax'))\n",
    "\n",
    "adam = tf.keras.optimizers.Adam(learning_rate=0.001, beta_1=0.9, beta_2=0.999, epsilon=1e-08)\n",
    "\n",
    "model.compile(optimizer = adam, loss = 'sparse_categorical_crossentropy', metrics = ['accuracy'])\n",
    "model.summary()\n",
    "\n",
    "# plot_model(model, to_file='model.png', show_shapes=True,  rankdir='LR')\n",
    "\n",
    "\n"
   ]
  },
  {
   "cell_type": "code",
   "execution_count": 8,
   "metadata": {},
   "outputs": [],
   "source": [
    "folder_date = 'old_models/' +  datetime.now().strftime(\"%Y_%m_%d-%I_%M_%S_%p\")\n",
    "os.mkdir(folder_date)\n",
    "filepath_model = folder_date + '/my_best_model.epoch{epoch:02d}-loss{val_loss:.2f}.hdf5'\n"
   ]
  },
  {
   "attachments": {},
   "cell_type": "markdown",
   "metadata": {},
   "source": [
    "# Callbacks"
   ]
  },
  {
   "cell_type": "code",
   "execution_count": 9,
   "metadata": {},
   "outputs": [],
   "source": [
    "model_checkpoint_callback = tf.keras.callbacks.ModelCheckpoint(\n",
    "filepath=filepath_model,\n",
    "save_weights_only=False,\n",
    "monitor='val_accuracy',\n",
    "mode='max',\n",
    "save_freq=\"epoch\",\n",
    "save_best_only=True)\n",
    "\n",
    "early_stopping = tf.keras.callbacks.EarlyStopping(monitor='val_loss', patience=4, mode='auto', verbose = 1, )"
   ]
  },
  {
   "cell_type": "code",
   "execution_count": 10,
   "metadata": {},
   "outputs": [
    {
     "name": "stderr",
     "output_type": "stream",
     "text": [
      "2023/05/29 14:01:13 INFO mlflow.utils.autologging_utils: Created MLflow autologging run with ID '3b40efbc1be44e59b1a4b71f06462819', which will track hyperparameters, performance metrics, model artifacts, and lineage information for the current tensorflow workflow\n"
     ]
    },
    {
     "name": "stdout",
     "output_type": "stream",
     "text": [
      "Epoch 1/60\n",
      " 6/48 [==>...........................] - ETA: 10s - loss: 1.2203 - accuracy: 0.3490WARNING:tensorflow:Callback method `on_train_batch_end` is slow compared to the batch time (batch time: 0.1090s vs `on_train_batch_end` time: 0.1187s). Check your callbacks.\n",
      "48/48 [==============================] - 25s 254ms/step - loss: 1.0590 - accuracy: 0.4121 - val_loss: 0.8769 - val_accuracy: 0.5509\n",
      "Epoch 2/60\n",
      "48/48 [==============================] - 10s 199ms/step - loss: 0.9621 - accuracy: 0.5109 - val_loss: 0.9313 - val_accuracy: 0.3698\n",
      "Epoch 3/60\n",
      "48/48 [==============================] - 9s 173ms/step - loss: 0.8470 - accuracy: 0.5647 - val_loss: 0.7509 - val_accuracy: 0.5623\n",
      "Epoch 4/60\n",
      "48/48 [==============================] - 9s 173ms/step - loss: 0.7128 - accuracy: 0.6350 - val_loss: 0.6047 - val_accuracy: 0.7283\n",
      "Epoch 5/60\n",
      "48/48 [==============================] - 9s 176ms/step - loss: 0.6010 - accuracy: 0.7512 - val_loss: 0.6049 - val_accuracy: 0.7132\n",
      "Epoch 6/60\n",
      "48/48 [==============================] - 9s 174ms/step - loss: 0.5864 - accuracy: 0.7472 - val_loss: 0.7004 - val_accuracy: 0.7170\n",
      "Epoch 7/60\n",
      "48/48 [==============================] - 9s 174ms/step - loss: 0.4990 - accuracy: 0.8069 - val_loss: 0.4447 - val_accuracy: 0.8642\n",
      "Epoch 8/60\n",
      "48/48 [==============================] - 9s 182ms/step - loss: 0.5692 - accuracy: 0.7611 - val_loss: 0.7988 - val_accuracy: 0.6755\n",
      "Epoch 9/60\n",
      "48/48 [==============================] - 11s 212ms/step - loss: 0.5260 - accuracy: 0.7976 - val_loss: 0.4452 - val_accuracy: 0.8377\n",
      "Epoch 10/60\n",
      "48/48 [==============================] - 11s 213ms/step - loss: 0.3649 - accuracy: 0.8699 - val_loss: 0.3873 - val_accuracy: 0.8453\n",
      "Epoch 11/60\n",
      "48/48 [==============================] - 12s 231ms/step - loss: 0.3216 - accuracy: 0.8786 - val_loss: 0.4573 - val_accuracy: 0.8189\n",
      "Epoch 12/60\n",
      "48/48 [==============================] - 11s 224ms/step - loss: 0.3750 - accuracy: 0.8713 - val_loss: 0.5761 - val_accuracy: 0.7472\n",
      "Epoch 13/60\n",
      "48/48 [==============================] - 11s 220ms/step - loss: 0.3466 - accuracy: 0.8660 - val_loss: 0.3442 - val_accuracy: 0.8604\n",
      "Epoch 14/60\n",
      "48/48 [==============================] - 11s 221ms/step - loss: 0.2884 - accuracy: 0.8991 - val_loss: 0.3722 - val_accuracy: 0.8868\n",
      "Epoch 15/60\n",
      "48/48 [==============================] - 11s 220ms/step - loss: 0.2803 - accuracy: 0.8998 - val_loss: 0.3817 - val_accuracy: 0.8792\n",
      "Epoch 16/60\n",
      "48/48 [==============================] - 10s 196ms/step - loss: 0.2368 - accuracy: 0.9124 - val_loss: 0.3859 - val_accuracy: 0.8415\n",
      "Epoch 17/60\n",
      "48/48 [==============================] - 9s 190ms/step - loss: 0.2299 - accuracy: 0.9190 - val_loss: 0.3471 - val_accuracy: 0.8528\n",
      "Epoch 18/60\n",
      "48/48 [==============================] - 9s 191ms/step - loss: 0.1825 - accuracy: 0.9370 - val_loss: 0.4380 - val_accuracy: 0.8453\n",
      "Epoch 19/60\n",
      "48/48 [==============================] - 9s 179ms/step - loss: 0.1847 - accuracy: 0.9250 - val_loss: 0.4033 - val_accuracy: 0.8566\n",
      "Epoch 20/60\n",
      "48/48 [==============================] - 9s 178ms/step - loss: 0.1927 - accuracy: 0.9230 - val_loss: 0.4471 - val_accuracy: 0.8189\n",
      "Epoch 21/60\n",
      "48/48 [==============================] - 8s 171ms/step - loss: 0.1421 - accuracy: 0.9482 - val_loss: 0.4101 - val_accuracy: 0.8792\n",
      "Epoch 22/60\n",
      "48/48 [==============================] - 9s 178ms/step - loss: 0.2223 - accuracy: 0.9164 - val_loss: 0.4095 - val_accuracy: 0.8642\n",
      "Epoch 23/60\n",
      "48/48 [==============================] - 9s 171ms/step - loss: 0.1414 - accuracy: 0.9549 - val_loss: 0.4565 - val_accuracy: 0.8868\n",
      "Epoch 24/60\n",
      "48/48 [==============================] - 9s 173ms/step - loss: 0.1117 - accuracy: 0.9582 - val_loss: 0.4797 - val_accuracy: 0.8792\n",
      "Epoch 25/60\n",
      "48/48 [==============================] - 9s 176ms/step - loss: 0.1328 - accuracy: 0.9416 - val_loss: 0.5265 - val_accuracy: 0.8528\n",
      "Epoch 26/60\n",
      "48/48 [==============================] - 9s 177ms/step - loss: 0.1907 - accuracy: 0.9363 - val_loss: 0.3829 - val_accuracy: 0.8566\n",
      "Epoch 27/60\n",
      "48/48 [==============================] - 9s 179ms/step - loss: 0.1432 - accuracy: 0.9443 - val_loss: 0.3904 - val_accuracy: 0.8717\n",
      "Epoch 28/60\n",
      "48/48 [==============================] - 9s 177ms/step - loss: 0.0849 - accuracy: 0.9675 - val_loss: 0.5297 - val_accuracy: 0.8340\n",
      "Epoch 29/60\n",
      "48/48 [==============================] - 9s 179ms/step - loss: 0.0578 - accuracy: 0.9827 - val_loss: 0.5307 - val_accuracy: 0.8868\n",
      "Epoch 30/60\n",
      "48/48 [==============================] - 9s 181ms/step - loss: 0.0223 - accuracy: 0.9947 - val_loss: 0.5637 - val_accuracy: 0.8755\n",
      "Epoch 31/60\n",
      "48/48 [==============================] - 9s 174ms/step - loss: 0.0072 - accuracy: 0.9993 - val_loss: 0.8268 - val_accuracy: 0.8755\n",
      "Epoch 32/60\n",
      "48/48 [==============================] - 9s 173ms/step - loss: 0.0742 - accuracy: 0.9715 - val_loss: 1.7811 - val_accuracy: 0.7208\n",
      "Epoch 33/60\n",
      "48/48 [==============================] - 9s 179ms/step - loss: 0.2600 - accuracy: 0.9064 - val_loss: 0.4236 - val_accuracy: 0.8566\n",
      "Epoch 34/60\n",
      "48/48 [==============================] - 9s 177ms/step - loss: 0.0770 - accuracy: 0.9735 - val_loss: 0.5846 - val_accuracy: 0.8528\n",
      "Epoch 35/60\n",
      "48/48 [==============================] - 9s 193ms/step - loss: 0.0456 - accuracy: 0.9867 - val_loss: 0.6577 - val_accuracy: 0.8528\n",
      "Epoch 36/60\n",
      "48/48 [==============================] - 9s 187ms/step - loss: 0.0122 - accuracy: 0.9973 - val_loss: 0.6477 - val_accuracy: 0.8830\n",
      "Epoch 37/60\n",
      "48/48 [==============================] - 10s 199ms/step - loss: 0.1111 - accuracy: 0.9628 - val_loss: 0.6732 - val_accuracy: 0.7660\n",
      "Epoch 38/60\n",
      "48/48 [==============================] - 11s 216ms/step - loss: 0.1419 - accuracy: 0.9549 - val_loss: 0.6220 - val_accuracy: 0.8491\n",
      "Epoch 39/60\n",
      "48/48 [==============================] - 10s 209ms/step - loss: 0.0519 - accuracy: 0.9808 - val_loss: 0.5225 - val_accuracy: 0.8755\n",
      "Epoch 40/60\n",
      "48/48 [==============================] - 9s 178ms/step - loss: 0.0108 - accuracy: 0.9967 - val_loss: 0.7009 - val_accuracy: 0.8792\n",
      "Epoch 41/60\n",
      "48/48 [==============================] - 9s 176ms/step - loss: 0.0084 - accuracy: 0.9973 - val_loss: 0.9114 - val_accuracy: 0.8717\n",
      "Epoch 42/60\n",
      "48/48 [==============================] - 9s 173ms/step - loss: 0.0840 - accuracy: 0.9768 - val_loss: 0.7377 - val_accuracy: 0.8415\n",
      "Epoch 43/60\n",
      "48/48 [==============================] - 9s 174ms/step - loss: 0.0213 - accuracy: 0.9960 - val_loss: 0.7515 - val_accuracy: 0.8679\n",
      "Epoch 44/60\n",
      "48/48 [==============================] - 9s 176ms/step - loss: 0.0049 - accuracy: 0.9993 - val_loss: 0.7596 - val_accuracy: 0.8868\n",
      "Epoch 45/60\n",
      "48/48 [==============================] - 9s 175ms/step - loss: 0.0425 - accuracy: 0.9861 - val_loss: 0.8288 - val_accuracy: 0.8528\n",
      "Epoch 46/60\n",
      "48/48 [==============================] - 9s 177ms/step - loss: 0.0621 - accuracy: 0.9801 - val_loss: 0.7852 - val_accuracy: 0.8377\n",
      "Epoch 47/60\n",
      "48/48 [==============================] - 9s 179ms/step - loss: 0.0541 - accuracy: 0.9834 - val_loss: 0.7584 - val_accuracy: 0.8415\n",
      "Epoch 48/60\n",
      "48/48 [==============================] - 9s 175ms/step - loss: 0.0120 - accuracy: 0.9973 - val_loss: 0.7311 - val_accuracy: 0.8717\n",
      "Epoch 49/60\n",
      "48/48 [==============================] - 9s 174ms/step - loss: 0.0128 - accuracy: 0.9947 - val_loss: 0.8305 - val_accuracy: 0.8717\n",
      "Epoch 50/60\n",
      "48/48 [==============================] - 9s 187ms/step - loss: 0.1500 - accuracy: 0.9622 - val_loss: 0.6084 - val_accuracy: 0.8604\n",
      "Epoch 51/60\n",
      "48/48 [==============================] - 9s 189ms/step - loss: 0.0960 - accuracy: 0.9728 - val_loss: 0.9006 - val_accuracy: 0.7245\n",
      "Epoch 52/60\n",
      "48/48 [==============================] - 9s 179ms/step - loss: 0.0575 - accuracy: 0.9827 - val_loss: 0.7369 - val_accuracy: 0.8340\n",
      "Epoch 53/60\n",
      "48/48 [==============================] - 9s 180ms/step - loss: 0.0271 - accuracy: 0.9920 - val_loss: 0.8725 - val_accuracy: 0.8491\n",
      "Epoch 54/60\n",
      "48/48 [==============================] - 9s 191ms/step - loss: 0.0430 - accuracy: 0.9867 - val_loss: 0.7276 - val_accuracy: 0.8604\n",
      "Epoch 55/60\n",
      "48/48 [==============================] - 9s 170ms/step - loss: 0.0042 - accuracy: 0.9993 - val_loss: 0.8563 - val_accuracy: 0.8717\n",
      "Epoch 56/60\n",
      "48/48 [==============================] - 8s 171ms/step - loss: 0.0021 - accuracy: 0.9993 - val_loss: 1.1155 - val_accuracy: 0.8604\n",
      "Epoch 57/60\n",
      "48/48 [==============================] - 10s 195ms/step - loss: 0.0068 - accuracy: 0.9967 - val_loss: 1.2073 - val_accuracy: 0.8377\n",
      "Epoch 58/60\n",
      "48/48 [==============================] - 9s 190ms/step - loss: 0.0515 - accuracy: 0.9854 - val_loss: 0.5897 - val_accuracy: 0.8717\n",
      "Epoch 59/60\n",
      "48/48 [==============================] - 9s 188ms/step - loss: 0.0965 - accuracy: 0.9635 - val_loss: 0.7625 - val_accuracy: 0.8189\n",
      "Epoch 60/60\n",
      "48/48 [==============================] - 9s 188ms/step - loss: 0.0083 - accuracy: 0.9987 - val_loss: 0.9261 - val_accuracy: 0.8340\n",
      "INFO:tensorflow:Assets written to: C:\\Users\\diosdadj\\AppData\\Local\\Temp\\tmpkcfb1w8b\\model\\data\\model\\assets\n"
     ]
    },
    {
     "name": "stderr",
     "output_type": "stream",
     "text": [
      "2023/05/29 14:11:10 WARNING mlflow.utils.autologging_utils: MLflow autologging encountered a warning: \"c:\\Users\\diosdadj\\Anaconda3\\envs\\ml\\lib\\site-packages\\_distutils_hack\\__init__.py:33: UserWarning: Setuptools is replacing distutils.\"\n"
     ]
    }
   ],
   "source": [
    "epochs = 60\n",
    "history = model.fit(\n",
    "    train_ds, epochs=epochs, validation_data=val_ds, callbacks=[model_checkpoint_callback]\n",
    ")"
   ]
  },
  {
   "cell_type": "code",
   "execution_count": 11,
   "metadata": {},
   "outputs": [],
   "source": [
    "#Guardo el modelo en la última epoch. Esto \n",
    "model.save(folder_date + '/modelo_entrenado.h5')\n"
   ]
  },
  {
   "cell_type": "code",
   "execution_count": 12,
   "metadata": {},
   "outputs": [
    {
     "name": "stdout",
     "output_type": "stream",
     "text": [
      "dict_keys(['loss', 'accuracy', 'val_loss', 'val_accuracy'])\n"
     ]
    }
   ],
   "source": [
    "history\n",
    "print(history.history.keys())"
   ]
  },
  {
   "cell_type": "code",
   "execution_count": 13,
   "metadata": {},
   "outputs": [
    {
     "data": {
      "text/plain": [
       "'old_models/2023_05_29-02_01_11_PM/accuracy.png'"
      ]
     },
     "execution_count": 13,
     "metadata": {},
     "output_type": "execute_result"
    }
   ],
   "source": [
    "folder_date + \"/accuracy.png\""
   ]
  },
  {
   "cell_type": "code",
   "execution_count": 14,
   "metadata": {},
   "outputs": [
    {
     "name": "stdout",
     "output_type": "stream",
     "text": [
      "dict_keys(['loss', 'accuracy', 'val_loss', 'val_accuracy'])\n"
     ]
    },
    {
     "data": {
      "image/png": "[encoded data removed]",
      "text/plain": [
       "<Figure size 432x288 with 1 Axes>"
      ]
     },
     "metadata": {
      "needs_background": "light"
     },
     "output_type": "display_data"
    },
    {
     "data": {
      "image/png": "[encoded data removed]",
      "text/plain": [
       "<Figure size 432x288 with 1 Axes>"
      ]
     },
     "metadata": {
      "needs_background": "light"
     },
     "output_type": "display_data"
    }
   ],
   "source": [
    "print(history.history.keys())\n",
    "\n",
    "#  \"Accuracy\"\n",
    "plt.plot(history.history['accuracy'])\n",
    "plt.plot(history.history['val_accuracy'])\n",
    "plt.title('model accuracy')\n",
    "plt.ylabel('accuracy')\n",
    "plt.xlabel('epoch')\n",
    "plt.legend(['train', 'validation'], loc='upper left')\n",
    "plt.savefig(folder_date + \"/accuracy.png\")\n",
    "plt.show()\n",
    "\n",
    "# \"Loss\"\n",
    "plt.plot(history.history['loss'])\n",
    "plt.plot(history.history['val_loss'])\n",
    "plt.title('model loss')\n",
    "plt.ylabel('loss')\n",
    "plt.xlabel('epoch')\n",
    "plt.legend(['train', 'validation'], loc='upper left')\n",
    "plt.savefig(folder_date + \"/loss.png\")\n",
    "plt.show()\n",
    "\n",
    "\n",
    "\n"
   ]
  },
  {
   "attachments": {},
   "cell_type": "markdown",
   "metadata": {},
   "source": [
    "Preguntas, cómo puedo gestionar datos que vienen de dos distribuciones distintas?\n",
    "\n"
   ]
  },
  {
   "attachments": {},
   "cell_type": "markdown",
   "metadata": {},
   "source": [
    "# This is a section to evaluate the model on te test data"
   ]
  },
  {
   "cell_type": "code",
   "execution_count": 15,
   "metadata": {},
   "outputs": [
    {
     "name": "stderr",
     "output_type": "stream",
     "text": [
      "2023/05/29 14:11:26 INFO mlflow.tracking.fluent: Autologging successfully enabled for sklearn.\n"
     ]
    }
   ],
   "source": [
    "from sklearn.metrics import confusion_matrix, ConfusionMatrixDisplay, precision_recall_fscore_support\n"
   ]
  },
  {
   "cell_type": "code",
   "execution_count": 16,
   "metadata": {},
   "outputs": [
    {
     "name": "stdout",
     "output_type": "stream",
     "text": [
      "[2, 0, 2, 2, 2, 0, 2, 2, 0, 0, 2, 2, 2, 2, 0, 0, 0, 2, 0, 0, 0, 0, 2, 2, 0, 0, 2, 2, 2, 0, 1, 1, 0, 1, 1, 1, 1, 1, 0, 1, 0, 1, 1, 0, 0, 1, 0, 1, 1, 0, 1, 1, 1, 0, 1, 0, 0, 0, 0, 1, 2, 2, 2, 2, 2, 2, 2, 2, 2, 2, 0, 2, 2, 2, 2, 2, 2, 0, 2, 2, 2, 2, 2, 2, 2, 2, 2, 2, 2, 2]\n",
      "[0, 0, 0, 0, 0, 0, 0, 0, 0, 0, 0, 0, 0, 0, 0, 0, 0, 0, 0, 0, 0, 0, 0, 0, 0, 0, 0, 0, 0, 0, 1, 1, 1, 1, 1, 1, 1, 1, 1, 1, 1, 1, 1, 1, 1, 1, 1, 1, 1, 1, 1, 1, 1, 1, 1, 1, 1, 1, 1, 1, 2, 2, 2, 2, 2, 2, 2, 2, 2, 2, 2, 2, 2, 2, 2, 2, 2, 2, 2, 2, 2, 2, 2, 2, 2, 2, 2, 2, 2, 2]\n"
     ]
    },
    {
     "data": {
      "image/png": "[encoded data removed]",
      "text/plain": [
       "<Figure size 432x288 with 2 Axes>"
      ]
     },
     "metadata": {
      "needs_background": "light"
     },
     "output_type": "display_data"
    }
   ],
   "source": [
    "# Load the test images from the folder 'test_images'\n",
    "predicted_labels= []\n",
    "true_labels = []\n",
    "\n",
    "directory = \"test_set_public\"\n",
    "\n",
    "for filename in os.listdir(directory):\n",
    "\n",
    "    # Load the image and add it to the list of test images\n",
    "    f = os.path.join(directory, filename)\n",
    "    imagen = tf.keras.preprocessing.image.load_img(f, target_size=(255,255))\n",
    "    x = tf.keras.preprocessing.image.img_to_array(imagen)    \n",
    "    x = np.expand_dims(x, axis=0)\n",
    "\n",
    "\n",
    "\n",
    "    prediction = model.predict(x)    \n",
    "\n",
    "    predicted_class = np.argmax(prediction)\n",
    "\n",
    "    #True labels are calculated based on name. It is a very weak way of doing it. Look for a better one or rename the files\n",
    "\n",
    "    if 'aca' in filename:\n",
    "        true_labels.append(0)\n",
    "    elif 'scc' in filename or ' e ' in filename:\n",
    "        true_labels.append(2)\n",
    "    elif 'lungn' or ' N ' in filename:\n",
    "        true_labels.append(1)\n",
    "   \n",
    "    \n",
    "\n",
    "    predicted_labels.append(predicted_class)\n",
    "\n",
    "print(predicted_labels)\n",
    "print(true_labels)\n",
    "\n",
    "\n",
    "cm = confusion_matrix(true_labels, predicted_labels)\n",
    "disp = ConfusionMatrixDisplay(confusion_matrix=cm)\n",
    "precision_recall_fscore_support(true_labels, predicted_labels)\n",
    "\n",
    "\n",
    "disp.plot()\n",
    "plt.title(directory,  fontdict={'fontsize': 16})  # Set the new title for the plot\n",
    "plt.show()\n",
    "\n"
   ]
  },
  {
   "attachments": {},
   "cell_type": "markdown",
   "metadata": {},
   "source": [
    "#Predice mal en las muestras de Henar. Veremos con el nuevo dataset, pero quizá haya que hacer un training con peso Opciones:\n",
    "\n",
    "Undersample the larger distribution: randomly remove examples from the larger distribution until it matches the size of the smaller one.\n",
    "\n",
    "Oversample the smaller distribution: randomly duplicate examples from the smaller distribution until it matches the size of the larger one.\n",
    "\n",
    "Data augmentation: generate new examples from the smaller distribution using techniques like rotation, flipping, or zooming.\n",
    "\n",
    "Use class weights: adjust the loss function of your CNN to assign higher weights to the smaller distribution so that it receives more emphasis during training.\n",
    "\n",
    "Fine-tuning: you could use a pre-trained model to initialize the weights and only fine-tune the last few layers to fit the imbalanced data."
   ]
  },
  {
   "cell_type": "markdown",
   "metadata": {},
   "source": []
  },
  {
   "cell_type": "markdown",
   "metadata": {},
   "source": []
  },
  {
   "attachments": {},
   "cell_type": "markdown",
   "metadata": {},
   "source": [
    "1. Domain shift\n",
    "2. "
   ]
  },
  {
   "cell_type": "code",
   "execution_count": 17,
   "metadata": {},
   "outputs": [
    {
     "name": "stdout",
     "output_type": "stream",
     "text": [
      "[0, 0, 0, 0, 0, 0, 0, 0, 0, 0, 0, 0, 0, 0, 0, 0, 0, 0, 0, 0, 0, 0, 2, 2, 2, 2, 2, 2, 2, 0, 2, 2, 2, 2, 2, 2, 2, 2, 2, 2, 0, 2, 2, 2, 1, 1, 1, 1, 1, 1, 1, 1, 1, 1, 1, 1, 1, 1, 1, 1, 1, 1, 1, 1, 1, 1]\n",
      "[0, 0, 0, 0, 0, 0, 0, 0, 0, 0, 0, 0, 1, 1, 1, 1, 1, 1, 1, 1, 1, 1, 1, 1, 1, 1, 1, 1, 1, 1, 1, 1, 1, 1, 1, 1, 1, 1, 1, 1, 1, 1, 1, 2, 1, 1, 1, 1, 1, 1, 1, 1, 1, 1, 1, 1, 1, 1, 1, 1, 1, 1, 1, 1, 1, 1]\n"
     ]
    },
    {
     "data": {
      "image/png": "[encoded data removed]",
      "text/plain": [
       "<Figure size 432x288 with 2 Axes>"
      ]
     },
     "metadata": {
      "needs_background": "light"
     },
     "output_type": "display_data"
    }
   ],
   "source": [
    "# Load the test images from the folder 'test_images'\n",
    "predicted_labels= []\n",
    "true_labels = []\n",
    "\n",
    "directory = \"test_set_private\"\n",
    "\n",
    "for filename in os.listdir(directory):\n",
    "\n",
    "    # Load the image and add it to the list of test images\n",
    "    f = os.path.join(directory, filename)\n",
    "    imagen = tf.keras.preprocessing.image.load_img(f, target_size=(255,255))\n",
    "    x = tf.keras.preprocessing.image.img_to_array(imagen)    \n",
    "    x = np.expand_dims(x, axis=0)\n",
    "\n",
    "\n",
    "\n",
    "    prediction = model.predict(x)    \n",
    "\n",
    "    predicted_class = np.argmax(prediction)\n",
    "\n",
    "    #True labels are calculated based on name. It is a very weak way of doing it. Look for a better one or rename the files\n",
    "\n",
    "    if 'aca' in filename:\n",
    "        true_labels.append(0)\n",
    "    elif 'scc' in filename or ' e ' in filename:\n",
    "        true_labels.append(2)\n",
    "    elif 'lungn' or ' N ' in filename:\n",
    "        true_labels.append(1)\n",
    "   \n",
    "    \n",
    "\n",
    "    predicted_labels.append(predicted_class)\n",
    "\n",
    "print(predicted_labels)\n",
    "print(true_labels)\n",
    "\n",
    "\n",
    "cm = confusion_matrix(true_labels, predicted_labels)\n",
    "disp = ConfusionMatrixDisplay(confusion_matrix=cm)\n",
    "precision_recall_fscore_support(true_labels, predicted_labels)\n",
    "\n",
    "\n",
    "disp.plot()\n",
    "plt.title(directory,  fontdict={'fontsize': 16})  # Set the new title for the plot\n",
    "plt.show()\n"
   ]
  },
  {
   "cell_type": "code",
   "execution_count": null,
   "metadata": {},
   "outputs": [],
   "source": []
  },
  {
   "cell_type": "code",
   "execution_count": null,
   "metadata": {},
   "outputs": [],
   "source": []
  }
 ],
 "metadata": {
  "kernelspec": {
   "display_name": "ml",
   "language": "python",
   "name": "python3"
  },
  "language_info": {
   "codemirror_mode": {
    "name": "ipython",
    "version": 3
   },
   "file_extension": ".py",
   "mimetype": "text/x-python",
   "name": "python",
   "nbconvert_exporter": "python",
   "pygments_lexer": "ipython3",
   "version": "3.9.12"
  },
  "orig_nbformat": 4,
  "vscode": {
   "interpreter": {
    "hash": "fea903cc172cce62c6301ba3c7eecfb26209215bbdb6c0bb5db0de1694474dd0"
   }
  }
 },
 "nbformat": 4,
 "nbformat_minor": 2
}
