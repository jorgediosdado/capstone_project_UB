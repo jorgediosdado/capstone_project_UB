{
 "cells": [
  {
   "cell_type": "code",
   "execution_count": 1,
   "metadata": {},
   "outputs": [],
   "source": [
    "import os\n",
    "import tensorflow as tf\n",
    "import keras\n",
    "from keras import models\n",
    "from keras import layers\n",
    "from keras import optimizers\n",
    "from datetime import datetime\n",
    "from PIL import Image\n",
    "import numpy as np\n",
    "import keras.backend as K\n",
    "import matplotlib.pyplot as plt\n",
    "import mlflow\n",
    "from tensorflow.keras.utils import plot_model\n",
    "from sklearn.metrics import confusion_matrix, ConfusionMatrixDisplay, precision_score, recall_score, accuracy_score"
   ]
  },
  {
   "cell_type": "code",
   "execution_count": 2,
   "metadata": {},
   "outputs": [
    {
     "name": "stderr",
     "output_type": "stream",
     "text": [
      "2023/06/02 10:48:12 INFO mlflow.tracking.fluent: Experiment with name 'jorge_net' does not exist. Creating a new experiment.\n"
     ]
    },
    {
     "data": {
      "text/plain": [
       "<Experiment: artifact_location='file:///c:/Users/diosdadj/Desktop/Master/Lung%20Cancer%20Project/capstone_project_UB/mlruns/391329452290209277', creation_time=1685695692186, experiment_id='391329452290209277', last_update_time=1685695692186, lifecycle_stage='active', name='jorge_net', tags={}>"
      ]
     },
     "execution_count": 2,
     "metadata": {},
     "output_type": "execute_result"
    }
   ],
   "source": [
    "#Clear GPU memory and set up the logging of the experiment with mlflow\n",
    "K.clear_session()\n",
    "mlflow.set_experiment('jorge_net')\n"
   ]
  },
  {
   "cell_type": "code",
   "execution_count": 62,
   "metadata": {},
   "outputs": [],
   "source": [
    "dataset_name = 'combined_dataset'\n",
    "batch_size = 32"
   ]
  },
  {
   "cell_type": "code",
   "execution_count": 63,
   "metadata": {},
   "outputs": [
    {
     "name": "stdout",
     "output_type": "stream",
     "text": [
      "Found 16514 files belonging to 3 classes.\n",
      "Using 14037 files for training.\n",
      "Found 16514 files belonging to 3 classes.\n",
      "Using 2477 files for validation.\n"
     ]
    }
   ],
   "source": [
    "image_size = (255, 255)\n",
    "train_ds = tf.keras.preprocessing.image_dataset_from_directory(\n",
    "    dataset_name,\n",
    "    validation_split=0.15,\n",
    "    subset=\"training\",\n",
    "    label_mode = 'int',\n",
    "    labels = 'inferred',\n",
    "    seed=1336,\n",
    "    image_size=image_size,\n",
    "    interpolation = 'bilinear',\n",
    "    batch_size=batch_size,\n",
    "    shuffle = True,\n",
    ")\n",
    "val_ds = tf.keras.preprocessing.image_dataset_from_directory(\n",
    "    dataset_name,\n",
    "    validation_split=0.15,\n",
    "    subset=\"validation\",\n",
    "    label_mode = 'int',\n",
    "    labels = 'inferred',\n",
    "    seed=1336,\n",
    "    image_size=image_size,\n",
    "    interpolation = 'bilinear',\n",
    "    batch_size=batch_size,\n",
    "    shuffle = True,\n",
    ")\n"
   ]
  },
  {
   "cell_type": "code",
   "execution_count": 64,
   "metadata": {},
   "outputs": [],
   "source": [
    "# Obtain the number of samples\n",
    "num_train_samples = 0\n",
    "for images, labels in train_ds:\n",
    "    num_train_samples += images.shape[0]\n",
    "\n",
    "num_val_samples = 0\n",
    "for images, labels in val_ds:\n",
    "    num_val_samples += images.shape[0]\n",
    "\n"
   ]
  },
  {
   "cell_type": "code",
   "execution_count": 65,
   "metadata": {},
   "outputs": [
    {
     "name": "stdout",
     "output_type": "stream",
     "text": [
      "Model: \"sequential_7\"\n",
      "_________________________________________________________________\n",
      "Layer (type)                 Output Shape              Param #   \n",
      "=================================================================\n",
      "rescaling_5 (Rescaling)      (None, 255, 255, 3)       0         \n",
      "_________________________________________________________________\n",
      "input_6 (InputLayer)         multiple                  0         \n",
      "_________________________________________________________________\n",
      "random_flip_5 (RandomFlip)   (None, 255, 255, 3)       0         \n",
      "_________________________________________________________________\n",
      "random_rotation_5 (RandomRot (None, 255, 255, 3)       0         \n",
      "_________________________________________________________________\n",
      "random_zoom_5 (RandomZoom)   (None, 255, 255, 3)       0         \n",
      "_________________________________________________________________\n",
      "random_contrast_5 (RandomCon (None, 255, 255, 3)       0         \n",
      "_________________________________________________________________\n",
      "random_translation_5 (Random (None, 255, 255, 3)       0         \n",
      "_________________________________________________________________\n",
      "conv2d_25 (Conv2D)           (None, 254, 254, 32)      416       \n",
      "_________________________________________________________________\n",
      "max_pooling2d_25 (MaxPooling (None, 127, 127, 32)      0         \n",
      "_________________________________________________________________\n",
      "conv2d_26 (Conv2D)           (None, 126, 126, 64)      8256      \n",
      "_________________________________________________________________\n",
      "max_pooling2d_26 (MaxPooling (None, 63, 63, 64)        0         \n",
      "_________________________________________________________________\n",
      "conv2d_27 (Conv2D)           (None, 62, 62, 128)       32896     \n",
      "_________________________________________________________________\n",
      "max_pooling2d_27 (MaxPooling (None, 31, 31, 128)       0         \n",
      "_________________________________________________________________\n",
      "conv2d_28 (Conv2D)           (None, 30, 30, 256)       131328    \n",
      "_________________________________________________________________\n",
      "max_pooling2d_28 (MaxPooling (None, 15, 15, 256)       0         \n",
      "_________________________________________________________________\n",
      "conv2d_29 (Conv2D)           (None, 14, 14, 512)       524800    \n",
      "_________________________________________________________________\n",
      "max_pooling2d_29 (MaxPooling (None, 7, 7, 512)         0         \n",
      "_________________________________________________________________\n",
      "flatten_5 (Flatten)          (None, 25088)             0         \n",
      "_________________________________________________________________\n",
      "dense_15 (Dense)             (None, 512)               12845568  \n",
      "_________________________________________________________________\n",
      "dropout_10 (Dropout)         (None, 512)               0         \n",
      "_________________________________________________________________\n",
      "dense_16 (Dense)             (None, 256)               131328    \n",
      "_________________________________________________________________\n",
      "dropout_11 (Dropout)         (None, 256)               0         \n",
      "_________________________________________________________________\n",
      "dense_17 (Dense)             (None, 3)                 771       \n",
      "=================================================================\n",
      "Total params: 13,675,363\n",
      "Trainable params: 13,675,363\n",
      "Non-trainable params: 0\n",
      "_________________________________________________________________\n"
     ]
    }
   ],
   "source": [
    "input_shape = (255, 255, 3)\n",
    "\n",
    "model=models.Sequential()\n",
    "\n",
    "model.add(layers.Rescaling(scale = 1./255, offset=0.0, input_shape=input_shape))\n",
    "model.add(layers.Input(input_shape))\n",
    "\n",
    "\n",
    "#Para el dataset publico no hago augmentation porque ya esta hecho\n",
    "model.add(layers.RandomFlip(\"horizontal_and_vertical\"))\n",
    "model.add(layers.RandomRotation(0.2))\n",
    "model.add(layers.RandomZoom(0.2))\n",
    "model.add(layers.RandomContrast(0.2))\n",
    "model.add(layers.RandomTranslation(0.2, 0.2)) \n",
    "\n",
    "\n",
    "\n",
    "model.add(layers.Conv2D(filters=32, kernel_size=(2,2), activation='relu',))\n",
    "model.add(layers.MaxPooling2D(pool_size=(2, 2)))\n",
    "model.add(layers.Conv2D(filters=64, kernel_size=(2,2), activation='relu',))\n",
    "model.add(layers.MaxPooling2D(pool_size=(2, 2)))\n",
    "model.add(layers.Conv2D(filters=128, kernel_size=(2,2), activation='relu',))\n",
    "model.add(layers.MaxPooling2D(pool_size=(2, 2)))\n",
    "model.add(layers.Conv2D(filters=256, kernel_size=(2,2), activation='relu',))\n",
    "model.add(layers.MaxPooling2D(pool_size=(2, 2)))\n",
    "model.add(layers.Conv2D(filters=512, kernel_size=(2,2), activation='relu',))\n",
    "model.add(layers.MaxPooling2D(pool_size=(2, 2)))\n",
    "\n",
    "\n",
    "# Add flatten layer\n",
    "model.add(layers.Flatten())\n",
    "\n",
    "# Add dense/dropout layers + activation functions\n",
    "\n",
    "model.add(layers.Dense(512, activation = 'relu'))\n",
    "model.add(layers.Dropout(0.3))\n",
    "model.add(layers.Dense(256, activation = 'relu'))\n",
    "model.add(layers.Dropout(0.3))\n",
    "model.add(layers.Dense(3, activation = 'softmax'))\n",
    "\n",
    "adam = tf.keras.optimizers.Adam(learning_rate=0.001, beta_1=0.9, beta_2=0.999, epsilon=1e-08)\n",
    "\n",
    "model.compile(optimizer = adam, loss = 'sparse_categorical_crossentropy', metrics = ['accuracy'])\n",
    "model.summary()\n",
    "\n",
    "# plot_model(model, to_file='model.png', show_shapes=True,  rankdir='LR')\n",
    "\n",
    "\n"
   ]
  },
  {
   "cell_type": "code",
   "execution_count": 66,
   "metadata": {},
   "outputs": [
    {
     "name": "stdout",
     "output_type": "stream",
     "text": [
      "Number of parameters: 13675363\n"
     ]
    }
   ],
   "source": [
    "num_params = model.count_params()\n",
    "print(\"Number of parameters:\", num_params)\n"
   ]
  },
  {
   "cell_type": "code",
   "execution_count": 67,
   "metadata": {},
   "outputs": [],
   "source": [
    "folder_date = 'old_models/' +  datetime.now().strftime(\"%Y_%m_%d-%I_%M_%S_%p\")\n",
    "os.mkdir(folder_date)\n",
    "filepath_model = folder_date + '/my_best_model.epoch{epoch:02d}-loss{val_loss:.2f}.hdf5'\n"
   ]
  },
  {
   "cell_type": "code",
   "execution_count": 68,
   "metadata": {},
   "outputs": [],
   "source": [
    "model_checkpoint_callback = tf.keras.callbacks.ModelCheckpoint(\n",
    "filepath=filepath_model,\n",
    "save_weights_only=False,\n",
    "monitor='val_accuracy',\n",
    "mode='max',\n",
    "save_freq=\"epoch\",\n",
    "save_best_only=True)\n",
    "\n",
    "early_stopping = tf.keras.callbacks.EarlyStopping(monitor='val_loss', patience=4, mode='auto', verbose = 1, )"
   ]
  },
  {
   "cell_type": "code",
   "execution_count": 69,
   "metadata": {},
   "outputs": [],
   "source": [
    "mlflow.end_run()"
   ]
  },
  {
   "cell_type": "code",
   "execution_count": 70,
   "metadata": {},
   "outputs": [
    {
     "name": "stdout",
     "output_type": "stream",
     "text": [
      "Epoch 1/80\n",
      "439/439 [==============================] - 93s 206ms/step - loss: 0.4849 - accuracy: 0.7742 - val_loss: 0.3282 - val_accuracy: 0.8639\n",
      "Epoch 2/80\n",
      "439/439 [==============================] - 89s 201ms/step - loss: 0.3344 - accuracy: 0.8630 - val_loss: 0.3028 - val_accuracy: 0.8635\n",
      "Epoch 3/80\n",
      "439/439 [==============================] - 89s 201ms/step - loss: 0.2917 - accuracy: 0.8816 - val_loss: 0.7392 - val_accuracy: 0.6298\n",
      "Epoch 4/80\n",
      "439/439 [==============================] - 90s 205ms/step - loss: 0.2765 - accuracy: 0.8874 - val_loss: 0.2315 - val_accuracy: 0.9088\n",
      "Epoch 5/80\n",
      "439/439 [==============================] - 91s 207ms/step - loss: 0.2506 - accuracy: 0.8988 - val_loss: 0.2004 - val_accuracy: 0.9237\n",
      "Epoch 6/80\n",
      "439/439 [==============================] - 91s 207ms/step - loss: 0.2418 - accuracy: 0.9010 - val_loss: 0.1972 - val_accuracy: 0.9197\n",
      "Epoch 7/80\n",
      "439/439 [==============================] - 91s 206ms/step - loss: 0.2366 - accuracy: 0.9013 - val_loss: 0.2298 - val_accuracy: 0.9080\n",
      "Epoch 8/80\n",
      "439/439 [==============================] - ETA: 0s - loss: 0.2281 - accuracy: 0.9075"
     ]
    },
    {
     "ename": "KeyboardInterrupt",
     "evalue": "",
     "output_type": "error",
     "traceback": [
      "\u001b[1;31m---------------------------------------------------------------------------\u001b[0m",
      "\u001b[1;31mKeyboardInterrupt\u001b[0m                         Traceback (most recent call last)",
      "\u001b[1;32mc:\\Users\\diosdadj\\Desktop\\Master\\Lung Cancer Project\\capstone_project_UB\\Jorgenet_private.ipynb Cell 11\u001b[0m in \u001b[0;36m<cell line: 14>\u001b[1;34m()\u001b[0m\n\u001b[0;32m      <a href='vscode-notebook-cell:/c%3A/Users/diosdadj/Desktop/Master/Lung%20Cancer%20Project/capstone_project_UB/Jorgenet_private.ipynb#X35sZmlsZQ%3D%3D?line=8'>9</a>\u001b[0m \u001b[39m# Log the number of samples in the dataset\u001b[39;00m\n\u001b[0;32m     <a href='vscode-notebook-cell:/c%3A/Users/diosdadj/Desktop/Master/Lung%20Cancer%20Project/capstone_project_UB/Jorgenet_private.ipynb#X35sZmlsZQ%3D%3D?line=9'>10</a>\u001b[0m \u001b[39m#   mlflow.log_param(\"num_samples_train\", num_train_samples)\u001b[39;00m\n\u001b[0;32m     <a href='vscode-notebook-cell:/c%3A/Users/diosdadj/Desktop/Master/Lung%20Cancer%20Project/capstone_project_UB/Jorgenet_private.ipynb#X35sZmlsZQ%3D%3D?line=10'>11</a>\u001b[0m \u001b[39m#   mlflow.log_param(\"num_samples_train\", num_val_samples)\u001b[39;00m\n\u001b[0;32m     <a href='vscode-notebook-cell:/c%3A/Users/diosdadj/Desktop/Master/Lung%20Cancer%20Project/capstone_project_UB/Jorgenet_private.ipynb#X35sZmlsZQ%3D%3D?line=12'>13</a>\u001b[0m epochs \u001b[39m=\u001b[39m \u001b[39m80\u001b[39m\n\u001b[1;32m---> <a href='vscode-notebook-cell:/c%3A/Users/diosdadj/Desktop/Master/Lung%20Cancer%20Project/capstone_project_UB/Jorgenet_private.ipynb#X35sZmlsZQ%3D%3D?line=13'>14</a>\u001b[0m history \u001b[39m=\u001b[39m model\u001b[39m.\u001b[39;49mfit(\n\u001b[0;32m     <a href='vscode-notebook-cell:/c%3A/Users/diosdadj/Desktop/Master/Lung%20Cancer%20Project/capstone_project_UB/Jorgenet_private.ipynb#X35sZmlsZQ%3D%3D?line=14'>15</a>\u001b[0m     train_ds, epochs\u001b[39m=\u001b[39;49mepochs, validation_data\u001b[39m=\u001b[39;49mval_ds, callbacks\u001b[39m=\u001b[39;49m[model_checkpoint_callback]\n\u001b[0;32m     <a href='vscode-notebook-cell:/c%3A/Users/diosdadj/Desktop/Master/Lung%20Cancer%20Project/capstone_project_UB/Jorgenet_private.ipynb#X35sZmlsZQ%3D%3D?line=15'>16</a>\u001b[0m )\n\u001b[0;32m     <a href='vscode-notebook-cell:/c%3A/Users/diosdadj/Desktop/Master/Lung%20Cancer%20Project/capstone_project_UB/Jorgenet_private.ipynb#X35sZmlsZQ%3D%3D?line=17'>18</a>\u001b[0m \u001b[39m# Evaluate the model\u001b[39;00m\n\u001b[0;32m     <a href='vscode-notebook-cell:/c%3A/Users/diosdadj/Desktop/Master/Lung%20Cancer%20Project/capstone_project_UB/Jorgenet_private.ipynb#X35sZmlsZQ%3D%3D?line=18'>19</a>\u001b[0m loss, accuracy \u001b[39m=\u001b[39m model\u001b[39m.\u001b[39mevaluate(val_ds)\n",
      "File \u001b[1;32mc:\\Users\\diosdadj\\Anaconda3\\envs\\ml\\lib\\site-packages\\keras\\engine\\training.py:1215\u001b[0m, in \u001b[0;36mModel.fit\u001b[1;34m(self, x, y, batch_size, epochs, verbose, callbacks, validation_split, validation_data, shuffle, class_weight, sample_weight, initial_epoch, steps_per_epoch, validation_steps, validation_batch_size, validation_freq, max_queue_size, workers, use_multiprocessing)\u001b[0m\n\u001b[0;32m   1201\u001b[0m \u001b[39mif\u001b[39;00m \u001b[39mgetattr\u001b[39m(\u001b[39mself\u001b[39m, \u001b[39m'\u001b[39m\u001b[39m_eval_data_handler\u001b[39m\u001b[39m'\u001b[39m, \u001b[39mNone\u001b[39;00m) \u001b[39mis\u001b[39;00m \u001b[39mNone\u001b[39;00m:\n\u001b[0;32m   1202\u001b[0m   \u001b[39mself\u001b[39m\u001b[39m.\u001b[39m_eval_data_handler \u001b[39m=\u001b[39m data_adapter\u001b[39m.\u001b[39mget_data_handler(\n\u001b[0;32m   1203\u001b[0m       x\u001b[39m=\u001b[39mval_x,\n\u001b[0;32m   1204\u001b[0m       y\u001b[39m=\u001b[39mval_y,\n\u001b[1;32m   (...)\u001b[0m\n\u001b[0;32m   1213\u001b[0m       model\u001b[39m=\u001b[39m\u001b[39mself\u001b[39m,\n\u001b[0;32m   1214\u001b[0m       steps_per_execution\u001b[39m=\u001b[39m\u001b[39mself\u001b[39m\u001b[39m.\u001b[39m_steps_per_execution)\n\u001b[1;32m-> 1215\u001b[0m val_logs \u001b[39m=\u001b[39m \u001b[39mself\u001b[39;49m\u001b[39m.\u001b[39;49mevaluate(\n\u001b[0;32m   1216\u001b[0m     x\u001b[39m=\u001b[39;49mval_x,\n\u001b[0;32m   1217\u001b[0m     y\u001b[39m=\u001b[39;49mval_y,\n\u001b[0;32m   1218\u001b[0m     sample_weight\u001b[39m=\u001b[39;49mval_sample_weight,\n\u001b[0;32m   1219\u001b[0m     batch_size\u001b[39m=\u001b[39;49mvalidation_batch_size \u001b[39mor\u001b[39;49;00m batch_size,\n\u001b[0;32m   1220\u001b[0m     steps\u001b[39m=\u001b[39;49mvalidation_steps,\n\u001b[0;32m   1221\u001b[0m     callbacks\u001b[39m=\u001b[39;49mcallbacks,\n\u001b[0;32m   1222\u001b[0m     max_queue_size\u001b[39m=\u001b[39;49mmax_queue_size,\n\u001b[0;32m   1223\u001b[0m     workers\u001b[39m=\u001b[39;49mworkers,\n\u001b[0;32m   1224\u001b[0m     use_multiprocessing\u001b[39m=\u001b[39;49muse_multiprocessing,\n\u001b[0;32m   1225\u001b[0m     return_dict\u001b[39m=\u001b[39;49m\u001b[39mTrue\u001b[39;49;00m,\n\u001b[0;32m   1226\u001b[0m     _use_cached_eval_dataset\u001b[39m=\u001b[39;49m\u001b[39mTrue\u001b[39;49;00m)\n\u001b[0;32m   1227\u001b[0m val_logs \u001b[39m=\u001b[39m {\u001b[39m'\u001b[39m\u001b[39mval_\u001b[39m\u001b[39m'\u001b[39m \u001b[39m+\u001b[39m name: val \u001b[39mfor\u001b[39;00m name, val \u001b[39min\u001b[39;00m val_logs\u001b[39m.\u001b[39mitems()}\n\u001b[0;32m   1228\u001b[0m epoch_logs\u001b[39m.\u001b[39mupdate(val_logs)\n",
      "File \u001b[1;32mc:\\Users\\diosdadj\\Anaconda3\\envs\\ml\\lib\\site-packages\\keras\\engine\\training.py:1501\u001b[0m, in \u001b[0;36mModel.evaluate\u001b[1;34m(self, x, y, batch_size, verbose, sample_weight, steps, callbacks, max_queue_size, workers, use_multiprocessing, return_dict, **kwargs)\u001b[0m\n\u001b[0;32m   1499\u001b[0m \u001b[39mwith\u001b[39;00m tf\u001b[39m.\u001b[39mprofiler\u001b[39m.\u001b[39mexperimental\u001b[39m.\u001b[39mTrace(\u001b[39m'\u001b[39m\u001b[39mtest\u001b[39m\u001b[39m'\u001b[39m, step_num\u001b[39m=\u001b[39mstep, _r\u001b[39m=\u001b[39m\u001b[39m1\u001b[39m):\n\u001b[0;32m   1500\u001b[0m   callbacks\u001b[39m.\u001b[39mon_test_batch_begin(step)\n\u001b[1;32m-> 1501\u001b[0m   tmp_logs \u001b[39m=\u001b[39m \u001b[39mself\u001b[39;49m\u001b[39m.\u001b[39;49mtest_function(iterator)\n\u001b[0;32m   1502\u001b[0m   \u001b[39mif\u001b[39;00m data_handler\u001b[39m.\u001b[39mshould_sync:\n\u001b[0;32m   1503\u001b[0m     context\u001b[39m.\u001b[39masync_wait()\n",
      "File \u001b[1;32mc:\\Users\\diosdadj\\Anaconda3\\envs\\ml\\lib\\site-packages\\tensorflow\\python\\eager\\def_function.py:885\u001b[0m, in \u001b[0;36mFunction.__call__\u001b[1;34m(self, *args, **kwds)\u001b[0m\n\u001b[0;32m    882\u001b[0m compiler \u001b[39m=\u001b[39m \u001b[39m\"\u001b[39m\u001b[39mxla\u001b[39m\u001b[39m\"\u001b[39m \u001b[39mif\u001b[39;00m \u001b[39mself\u001b[39m\u001b[39m.\u001b[39m_jit_compile \u001b[39melse\u001b[39;00m \u001b[39m\"\u001b[39m\u001b[39mnonXla\u001b[39m\u001b[39m\"\u001b[39m\n\u001b[0;32m    884\u001b[0m \u001b[39mwith\u001b[39;00m OptionalXlaContext(\u001b[39mself\u001b[39m\u001b[39m.\u001b[39m_jit_compile):\n\u001b[1;32m--> 885\u001b[0m   result \u001b[39m=\u001b[39m \u001b[39mself\u001b[39m\u001b[39m.\u001b[39m_call(\u001b[39m*\u001b[39margs, \u001b[39m*\u001b[39m\u001b[39m*\u001b[39mkwds)\n\u001b[0;32m    887\u001b[0m new_tracing_count \u001b[39m=\u001b[39m \u001b[39mself\u001b[39m\u001b[39m.\u001b[39mexperimental_get_tracing_count()\n\u001b[0;32m    888\u001b[0m without_tracing \u001b[39m=\u001b[39m (tracing_count \u001b[39m==\u001b[39m new_tracing_count)\n",
      "File \u001b[1;32mc:\\Users\\diosdadj\\Anaconda3\\envs\\ml\\lib\\site-packages\\tensorflow\\python\\eager\\def_function.py:924\u001b[0m, in \u001b[0;36mFunction._call\u001b[1;34m(self, *args, **kwds)\u001b[0m\n\u001b[0;32m    921\u001b[0m \u001b[39mself\u001b[39m\u001b[39m.\u001b[39m_lock\u001b[39m.\u001b[39mrelease()\n\u001b[0;32m    922\u001b[0m \u001b[39m# In this case we have not created variables on the first call. So we can\u001b[39;00m\n\u001b[0;32m    923\u001b[0m \u001b[39m# run the first trace but we should fail if variables are created.\u001b[39;00m\n\u001b[1;32m--> 924\u001b[0m results \u001b[39m=\u001b[39m \u001b[39mself\u001b[39m\u001b[39m.\u001b[39m_stateful_fn(\u001b[39m*\u001b[39margs, \u001b[39m*\u001b[39m\u001b[39m*\u001b[39mkwds)\n\u001b[0;32m    925\u001b[0m \u001b[39mif\u001b[39;00m \u001b[39mself\u001b[39m\u001b[39m.\u001b[39m_created_variables \u001b[39mand\u001b[39;00m \u001b[39mnot\u001b[39;00m ALLOW_DYNAMIC_VARIABLE_CREATION:\n\u001b[0;32m    926\u001b[0m   \u001b[39mraise\u001b[39;00m \u001b[39mValueError\u001b[39;00m(\u001b[39m\"\u001b[39m\u001b[39mCreating variables on a non-first call to a function\u001b[39m\u001b[39m\"\u001b[39m\n\u001b[0;32m    927\u001b[0m                    \u001b[39m\"\u001b[39m\u001b[39m decorated with tf.function.\u001b[39m\u001b[39m\"\u001b[39m)\n",
      "File \u001b[1;32mc:\\Users\\diosdadj\\Anaconda3\\envs\\ml\\lib\\site-packages\\tensorflow\\python\\eager\\function.py:3039\u001b[0m, in \u001b[0;36mFunction.__call__\u001b[1;34m(self, *args, **kwargs)\u001b[0m\n\u001b[0;32m   3036\u001b[0m \u001b[39mwith\u001b[39;00m \u001b[39mself\u001b[39m\u001b[39m.\u001b[39m_lock:\n\u001b[0;32m   3037\u001b[0m   (graph_function,\n\u001b[0;32m   3038\u001b[0m    filtered_flat_args) \u001b[39m=\u001b[39m \u001b[39mself\u001b[39m\u001b[39m.\u001b[39m_maybe_define_function(args, kwargs)\n\u001b[1;32m-> 3039\u001b[0m \u001b[39mreturn\u001b[39;00m graph_function\u001b[39m.\u001b[39;49m_call_flat(\n\u001b[0;32m   3040\u001b[0m     filtered_flat_args, captured_inputs\u001b[39m=\u001b[39;49mgraph_function\u001b[39m.\u001b[39;49mcaptured_inputs)\n",
      "File \u001b[1;32mc:\\Users\\diosdadj\\Anaconda3\\envs\\ml\\lib\\site-packages\\tensorflow\\python\\eager\\function.py:1963\u001b[0m, in \u001b[0;36mConcreteFunction._call_flat\u001b[1;34m(self, args, captured_inputs, cancellation_manager)\u001b[0m\n\u001b[0;32m   1959\u001b[0m possible_gradient_type \u001b[39m=\u001b[39m gradients_util\u001b[39m.\u001b[39mPossibleTapeGradientTypes(args)\n\u001b[0;32m   1960\u001b[0m \u001b[39mif\u001b[39;00m (possible_gradient_type \u001b[39m==\u001b[39m gradients_util\u001b[39m.\u001b[39mPOSSIBLE_GRADIENT_TYPES_NONE\n\u001b[0;32m   1961\u001b[0m     \u001b[39mand\u001b[39;00m executing_eagerly):\n\u001b[0;32m   1962\u001b[0m   \u001b[39m# No tape is watching; skip to running the function.\u001b[39;00m\n\u001b[1;32m-> 1963\u001b[0m   \u001b[39mreturn\u001b[39;00m \u001b[39mself\u001b[39m\u001b[39m.\u001b[39m_build_call_outputs(\u001b[39mself\u001b[39;49m\u001b[39m.\u001b[39;49m_inference_function\u001b[39m.\u001b[39;49mcall(\n\u001b[0;32m   1964\u001b[0m       ctx, args, cancellation_manager\u001b[39m=\u001b[39;49mcancellation_manager))\n\u001b[0;32m   1965\u001b[0m forward_backward \u001b[39m=\u001b[39m \u001b[39mself\u001b[39m\u001b[39m.\u001b[39m_select_forward_and_backward_functions(\n\u001b[0;32m   1966\u001b[0m     args,\n\u001b[0;32m   1967\u001b[0m     possible_gradient_type,\n\u001b[0;32m   1968\u001b[0m     executing_eagerly)\n\u001b[0;32m   1969\u001b[0m forward_function, args_with_tangents \u001b[39m=\u001b[39m forward_backward\u001b[39m.\u001b[39mforward()\n",
      "File \u001b[1;32mc:\\Users\\diosdadj\\Anaconda3\\envs\\ml\\lib\\site-packages\\tensorflow\\python\\eager\\function.py:591\u001b[0m, in \u001b[0;36m_EagerDefinedFunction.call\u001b[1;34m(self, ctx, args, cancellation_manager)\u001b[0m\n\u001b[0;32m    589\u001b[0m \u001b[39mwith\u001b[39;00m _InterpolateFunctionError(\u001b[39mself\u001b[39m):\n\u001b[0;32m    590\u001b[0m   \u001b[39mif\u001b[39;00m cancellation_manager \u001b[39mis\u001b[39;00m \u001b[39mNone\u001b[39;00m:\n\u001b[1;32m--> 591\u001b[0m     outputs \u001b[39m=\u001b[39m execute\u001b[39m.\u001b[39;49mexecute(\n\u001b[0;32m    592\u001b[0m         \u001b[39mstr\u001b[39;49m(\u001b[39mself\u001b[39;49m\u001b[39m.\u001b[39;49msignature\u001b[39m.\u001b[39;49mname),\n\u001b[0;32m    593\u001b[0m         num_outputs\u001b[39m=\u001b[39;49m\u001b[39mself\u001b[39;49m\u001b[39m.\u001b[39;49m_num_outputs,\n\u001b[0;32m    594\u001b[0m         inputs\u001b[39m=\u001b[39;49margs,\n\u001b[0;32m    595\u001b[0m         attrs\u001b[39m=\u001b[39;49mattrs,\n\u001b[0;32m    596\u001b[0m         ctx\u001b[39m=\u001b[39;49mctx)\n\u001b[0;32m    597\u001b[0m   \u001b[39melse\u001b[39;00m:\n\u001b[0;32m    598\u001b[0m     outputs \u001b[39m=\u001b[39m execute\u001b[39m.\u001b[39mexecute_with_cancellation(\n\u001b[0;32m    599\u001b[0m         \u001b[39mstr\u001b[39m(\u001b[39mself\u001b[39m\u001b[39m.\u001b[39msignature\u001b[39m.\u001b[39mname),\n\u001b[0;32m    600\u001b[0m         num_outputs\u001b[39m=\u001b[39m\u001b[39mself\u001b[39m\u001b[39m.\u001b[39m_num_outputs,\n\u001b[1;32m   (...)\u001b[0m\n\u001b[0;32m    603\u001b[0m         ctx\u001b[39m=\u001b[39mctx,\n\u001b[0;32m    604\u001b[0m         cancellation_manager\u001b[39m=\u001b[39mcancellation_manager)\n",
      "File \u001b[1;32mc:\\Users\\diosdadj\\Anaconda3\\envs\\ml\\lib\\site-packages\\tensorflow\\python\\eager\\execute.py:59\u001b[0m, in \u001b[0;36mquick_execute\u001b[1;34m(op_name, num_outputs, inputs, attrs, ctx, name)\u001b[0m\n\u001b[0;32m     57\u001b[0m \u001b[39mtry\u001b[39;00m:\n\u001b[0;32m     58\u001b[0m   ctx\u001b[39m.\u001b[39mensure_initialized()\n\u001b[1;32m---> 59\u001b[0m   tensors \u001b[39m=\u001b[39m pywrap_tfe\u001b[39m.\u001b[39;49mTFE_Py_Execute(ctx\u001b[39m.\u001b[39;49m_handle, device_name, op_name,\n\u001b[0;32m     60\u001b[0m                                       inputs, attrs, num_outputs)\n\u001b[0;32m     61\u001b[0m \u001b[39mexcept\u001b[39;00m core\u001b[39m.\u001b[39m_NotOkStatusException \u001b[39mas\u001b[39;00m e:\n\u001b[0;32m     62\u001b[0m   \u001b[39mif\u001b[39;00m name \u001b[39mis\u001b[39;00m \u001b[39mnot\u001b[39;00m \u001b[39mNone\u001b[39;00m:\n",
      "\u001b[1;31mKeyboardInterrupt\u001b[0m: "
     ]
    }
   ],
   "source": [
    "# Start an MLflow run\n",
    "mlflow.start_run()\n",
    "\n",
    "mlflow.set_experiment('jorgenet_project_capstone')\n",
    "\n",
    "# Log the name of the dataset\n",
    "mlflow.log_param(\"dataset_name\", dataset_name)\n",
    "\n",
    "# Log the number of samples in the dataset\n",
    "#   mlflow.log_param(\"num_samples_train\", num_train_samples)\n",
    "#   mlflow.log_param(\"num_samples_train\", num_val_samples)\n",
    "\n",
    "epochs = 80\n",
    "history = model.fit(\n",
    "    train_ds, epochs=epochs, validation_data=val_ds, callbacks=[model_checkpoint_callback]\n",
    ")\n",
    " \n",
    "# Evaluate the model\n",
    "loss, accuracy = model.evaluate(val_ds)\n",
    "\n",
    "#Logging parameters\n",
    "mlflow.log_param(\"epochs\", epochs)\n",
    "mlflow.log_param(\"batch_size\", batch_size)\n",
    "mlflow.log_param(\"parameters\", num_params)\n",
    "\n",
    "\n",
    "#Logging metrics\n",
    "mlflow.log_metric(\"val_loss\", loss)\n",
    "mlflow.log_metric(\"val_accuracy\", accuracy)\n",
    "\n"
   ]
  },
  {
   "cell_type": "code",
   "execution_count": null,
   "metadata": {},
   "outputs": [],
   "source": [
    "#Guardo el modelo en la última epoch. Esto \n",
    "model.save(folder_date + '/modelo_entrenado.h5')\n"
   ]
  },
  {
   "cell_type": "code",
   "execution_count": null,
   "metadata": {},
   "outputs": [
    {
     "name": "stdout",
     "output_type": "stream",
     "text": [
      "dict_keys(['loss', 'accuracy', 'val_loss', 'val_accuracy'])\n"
     ]
    }
   ],
   "source": [
    "history\n",
    "print(history.history.keys())"
   ]
  },
  {
   "cell_type": "code",
   "execution_count": null,
   "metadata": {},
   "outputs": [
    {
     "data": {
      "text/plain": [
       "'old_models/2023_06_02-11_51_35_AM/accuracy.png'"
      ]
     },
     "execution_count": 58,
     "metadata": {},
     "output_type": "execute_result"
    }
   ],
   "source": [
    "folder_date + \"/accuracy.png\""
   ]
  },
  {
   "cell_type": "code",
   "execution_count": null,
   "metadata": {},
   "outputs": [
    {
     "name": "stdout",
     "output_type": "stream",
     "text": [
      "dict_keys(['loss', 'accuracy', 'val_loss', 'val_accuracy'])\n"
     ]
    },
    {
     "data": {
      "image/png": "[encoded data removed]",
      "text/plain": [
       "<Figure size 432x288 with 1 Axes>"
      ]
     },
     "metadata": {
      "needs_background": "light"
     },
     "output_type": "display_data"
    },
    {
     "data": {
      "image/png": "[encoded data removed]",
      "text/plain": [
       "<Figure size 432x288 with 1 Axes>"
      ]
     },
     "metadata": {
      "needs_background": "light"
     },
     "output_type": "display_data"
    }
   ],
   "source": [
    "print(history.history.keys())\n",
    "\n",
    "#  \"Accuracy\"\n",
    "plt.plot(history.history['accuracy'])\n",
    "plt.plot(history.history['val_accuracy'])\n",
    "plt.title('model accuracy')\n",
    "plt.ylabel('accuracy')\n",
    "plt.xlabel('epoch')\n",
    "plt.legend(['train', 'validation'], loc='upper left')\n",
    "\n",
    "plt.text(len(history.history['accuracy'])-1, history.history['accuracy'][-1], \n",
    "         f\"Acc: {history.history['accuracy'][-1]:.4f}\", ha='center', va='bottom')\n",
    "plt.text(len(history.history['val_accuracy'])-1, history.history['val_accuracy'][-1], \n",
    "         f\"Val Acc: {history.history['val_accuracy'][-1]:.4f}\", ha='center', va='top')\n",
    "\n",
    "\n",
    "plt.savefig(folder_date + \"/accuracy.png\")\n",
    "plt.show()\n",
    "\n",
    "# \"Loss\"\n",
    "plt.plot(history.history['loss'])\n",
    "plt.plot(history.history['val_loss'])\n",
    "plt.title('model loss')\n",
    "plt.ylabel('loss')\n",
    "plt.xlabel('epoch')\n",
    "plt.legend(['train', 'validation'], loc='upper left')\n",
    "\n",
    "plt.text(len(history.history['loss'])-1, history.history['loss'][-1], \n",
    "         f\"Loss: {history.history['loss'][-1]:.4f}\", ha='center', va='bottom')\n",
    "plt.text(len(history.history['val_loss'])-1, history.history['val_loss'][-1], \n",
    "         f\"Val Loss: {history.history['val_loss'][-1]:.4f}\", ha='center', va='top')\n",
    "\n",
    "\n",
    "plt.savefig(folder_date + \"/loss.png\")\n",
    "plt.show()\n"
   ]
  },
  {
   "attachments": {},
   "cell_type": "markdown",
   "metadata": {},
   "source": [
    "Preguntas, cómo puedo gestionar datos que vienen de dos distribuciones distintas?\n",
    "\n"
   ]
  },
  {
   "attachments": {},
   "cell_type": "markdown",
   "metadata": {},
   "source": [
    "# This is a section to evaluate the model on te test data"
   ]
  },
  {
   "cell_type": "code",
   "execution_count": null,
   "metadata": {},
   "outputs": [
    {
     "name": "stdout",
     "output_type": "stream",
     "text": [
      "[0, 1, 1, 1, 1, 1, 1, 1, 0, 1, 1, 1, 1, 0, 0, 0, 0, 0, 0, 0, 0, 2, 2, 1, 1, 1, 2, 1, 1, 0, 0, 0, 1, 2, 0, 1, 1, 0, 0, 2, 0, 0, 0, 0, 1, 1, 0, 1, 0, 0, 2, 0, 0, 0, 0, 0, 0, 0, 0, 1, 1, 1, 1, 1, 1, 1, 1, 1, 1, 1, 1, 1, 1, 1, 1, 1, 1, 1, 1, 1, 1, 1, 1, 1, 1, 1, 1, 1, 1, 1, 1, 1, 1, 1, 1, 0, 1, 1, 1, 1, 1, 1, 1, 1, 1, 1, 1, 1, 1, 1, 1, 0, 1, 1, 1, 1, 0, 2, 2, 2, 1, 2, 2, 2, 2, 2, 2, 0, 0, 1, 2, 0, 2, 2, 0, 1, 1, 1, 0, 1, 1, 2, 2, 2, 1, 1, 1, 2, 1, 0, 1, 2, 1, 2, 0, 2]\n",
      "[0, 0, 0, 0, 0, 0, 0, 0, 0, 0, 0, 0, 0, 0, 0, 0, 0, 0, 0, 0, 0, 0, 0, 0, 0, 0, 0, 0, 0, 0, 0, 0, 0, 0, 0, 0, 0, 0, 0, 0, 0, 0, 0, 0, 0, 0, 0, 0, 0, 0, 0, 0, 0, 0, 0, 0, 0, 0, 0, 0, 1, 1, 1, 1, 1, 1, 1, 1, 1, 1, 1, 1, 1, 1, 1, 1, 1, 1, 1, 1, 1, 1, 1, 1, 1, 1, 1, 1, 1, 1, 1, 1, 1, 1, 1, 1, 1, 1, 1, 1, 1, 1, 1, 1, 1, 1, 1, 1, 1, 1, 1, 1, 1, 1, 1, 1, 2, 2, 2, 2, 2, 2, 2, 2, 2, 2, 2, 2, 2, 2, 2, 2, 2, 2, 2, 2, 2, 2, 2, 2, 2, 2, 2, 2, 2, 2, 2, 2, 2, 2, 2, 2, 2, 2, 2, 2]\n"
     ]
    },
    {
     "data": {
      "image/png": "[encoded data removed]",
      "text/plain": [
       "<Figure size 432x288 with 2 Axes>"
      ]
     },
     "metadata": {
      "needs_background": "light"
     },
     "output_type": "display_data"
    },
    {
     "name": "stdout",
     "output_type": "stream",
     "text": [
      "Precision: 0.7010631644777987\n",
      "Recall: 0.6666666666666666\n",
      "Accuracy: 0.6666666666666666\n"
     ]
    }
   ],
   "source": [
    "# Load the test images from the folder 'test_images'\n",
    "predicted_labels= []\n",
    "true_labels = []\n",
    "\n",
    "label_mapping = {\n",
    "    'aca': 0,\n",
    "    'nor': 1,\n",
    "    'scc': 2\n",
    "}\n",
    "\n",
    "\n",
    "directory = \"test_set_private\"\n",
    "for filename in os.listdir(directory):\n",
    "\n",
    "    # Load the image and add it to the list of test images\n",
    "    f = os.path.join(directory, filename)\n",
    "    imagen = tf.keras.preprocessing.image.load_img(f, target_size=(255,255))\n",
    "    x = tf.keras.preprocessing.image.img_to_array(imagen)    \n",
    "    x = np.expand_dims(x, axis=0)\n",
    "\n",
    "    prediction = model.predict(x)\n",
    "    predicted_class = np.argmax(prediction)\n",
    "\n",
    "    #True labels are calculated based on name. It is a very weak way of doing it. Look for a better one or rename the files\n",
    "\n",
    "    if 'aca' in filename or 'lungaca' in filename:\n",
    "        true_labels.append(0)\n",
    "    elif 'scc' in filename or 'lungscc' in filename:\n",
    "        true_labels.append(2)\n",
    "    elif 'nor' in filename or 'lungn' in filename:\n",
    "        true_labels.append(1)\n",
    "   \n",
    "    \n",
    "\n",
    "    predicted_labels.append(predicted_class)\n",
    "\n",
    "print(predicted_labels)\n",
    "print(true_labels)\n",
    "\n",
    "\n",
    "cm = confusion_matrix(true_labels, predicted_labels)\n",
    "labels = [label for label, _ in sorted(label_mapping.items(), key=lambda x: x[1])]\n",
    "disp = ConfusionMatrixDisplay(confusion_matrix=cm, display_labels=labels)\n",
    "disp.plot()\n",
    "\n",
    "plt.title(directory,  fontdict={'fontsize': 16})  # Set the new title for the plot\n",
    "plt.show()\n",
    "\n",
    "\n",
    "# Calculate precision, recall, and accuracy\n",
    "precision = precision_score(true_labels, predicted_labels, average='weighted')\n",
    "recall = recall_score(true_labels, predicted_labels, average='weighted')\n",
    "accuracy = accuracy_score(true_labels, predicted_labels)\n",
    "\n",
    "# Print the results\n",
    "print(\"Precision:\", precision)\n",
    "print(\"Recall:\", recall)\n",
    "print(\"Accuracy:\", accuracy)\n",
    "\n",
    "mlflow.log_metric(\"Precision\", precision)\n",
    "mlflow.log_metric(\"Recall\", recall)\n",
    "mlflow.log_metric(\"Accuracy\", accuracy)\n",
    "\n",
    "mlflow.end_run()\n",
    "\n"
   ]
  },
  {
   "attachments": {},
   "cell_type": "markdown",
   "metadata": {},
   "source": [
    "#Predice mal en las muestras de Henar. Veremos con el nuevo dataset, pero quizá haya que hacer un training con peso Opciones:\n",
    "\n",
    "Undersample the larger distribution: randomly remove examples from the larger distribution until it matches the size of the smaller one.\n",
    "\n",
    "Oversample the smaller distribution: randomly duplicate examples from the smaller distribution until it matches the size of the larger one.\n",
    "\n",
    "Data augmentation: generate new examples from the smaller distribution using techniques like rotation, flipping, or zooming.\n",
    "\n",
    "Use class weights: adjust the loss function of your CNN to assign higher weights to the smaller distribution so that it receives more emphasis during training.\n",
    "\n",
    "Fine-tuning: you could use a pre-trained model to initialize the weights and only fine-tune the last few layers to fit the imbalanced data."
   ]
  },
  {
   "attachments": {},
   "cell_type": "markdown",
   "metadata": {},
   "source": []
  },
  {
   "attachments": {},
   "cell_type": "markdown",
   "metadata": {},
   "source": []
  },
  {
   "attachments": {},
   "cell_type": "markdown",
   "metadata": {},
   "source": [
    "1. Domain shift\n",
    "2. "
   ]
  },
  {
   "cell_type": "code",
   "execution_count": null,
   "metadata": {},
   "outputs": [
    {
     "name": "stdout",
     "output_type": "stream",
     "text": [
      "[0, 0, 0, 0, 0, 0, 0, 0, 0, 0, 0, 0, 0, 0, 0, 0, 2, 0, 0, 0, 0, 0, 0, 0, 0, 0, 0, 2, 0, 0, 1, 1, 1, 1, 1, 1, 1, 1, 1, 1, 1, 1, 1, 1, 1, 1, 1, 1, 1, 1, 1, 1, 1, 1, 1, 1, 1, 1, 1, 1, 2, 2, 2, 2, 2, 2, 2, 2, 2, 2, 2, 2, 2, 2, 2, 2, 2, 2, 2, 2, 2, 2, 2, 2, 2, 2, 2, 2, 2, 2]\n",
      "[0, 0, 0, 0, 0, 0, 0, 0, 0, 0, 0, 0, 0, 0, 0, 0, 0, 0, 0, 0, 0, 0, 0, 0, 0, 0, 0, 0, 0, 0, 1, 1, 1, 1, 1, 1, 1, 1, 1, 1, 1, 1, 1, 1, 1, 1, 1, 1, 1, 1, 1, 1, 1, 1, 1, 1, 1, 1, 1, 1, 2, 2, 2, 2, 2, 2, 2, 2, 2, 2, 2, 2, 2, 2, 2, 2, 2, 2, 2, 2, 2, 2, 2, 2, 2, 2, 2, 2, 2, 2]\n"
     ]
    },
    {
     "data": {
      "image/png": "[encoded data removed]",
      "text/plain": [
       "<Figure size 432x288 with 2 Axes>"
      ]
     },
     "metadata": {
      "needs_background": "light"
     },
     "output_type": "display_data"
    },
    {
     "name": "stdout",
     "output_type": "stream",
     "text": [
      "Precision: 0.9791666666666666\n",
      "Recall: 0.9777777777777777\n",
      "Accuracy: 0.9777777777777777\n"
     ]
    }
   ],
   "source": [
    "# Load the test images from the folder 'test_images'\n",
    "predicted_labels= []\n",
    "true_labels = []\n",
    "\n",
    "label_mapping = {\n",
    "    'aca': 0,\n",
    "    'nor': 1,\n",
    "    'scc': 2\n",
    "}\n",
    "\n",
    "\n",
    "directory = \"test_set_public\"\n",
    "for filename in os.listdir(directory):\n",
    "\n",
    "    # Load the image and add it to the list of test images\n",
    "    f = os.path.join(directory, filename)\n",
    "    imagen = tf.keras.preprocessing.image.load_img(f, target_size=(255,255))\n",
    "    x = tf.keras.preprocessing.image.img_to_array(imagen)    \n",
    "    x = np.expand_dims(x, axis=0)\n",
    "\n",
    "    prediction = model.predict(x)\n",
    "    predicted_class = np.argmax(prediction)\n",
    "\n",
    "    #True labels are calculated based on name. It is a very weak way of doing it. Look for a better one or rename the files\n",
    "\n",
    "    if 'aca' in filename or 'lungaca' in filename:\n",
    "        true_labels.append(0)\n",
    "    elif 'scc' in filename or 'lungscc' in filename:\n",
    "        true_labels.append(2)\n",
    "    elif 'nor' in filename or 'lungn' in filename:\n",
    "        true_labels.append(1)\n",
    "   \n",
    "    \n",
    "\n",
    "    predicted_labels.append(predicted_class)\n",
    "\n",
    "print(predicted_labels)\n",
    "print(true_labels)\n",
    "\n",
    "\n",
    "cm = confusion_matrix(true_labels, predicted_labels)\n",
    "labels = [label for label, _ in sorted(label_mapping.items(), key=lambda x: x[1])]\n",
    "disp = ConfusionMatrixDisplay(confusion_matrix=cm, display_labels=labels)\n",
    "disp.plot()\n",
    "\n",
    "plt.title(directory,  fontdict={'fontsize': 16})  # Set the new title for the plot\n",
    "plt.show()\n",
    "\n",
    "\n",
    "# Calculate precision, recall, and accuracy\n",
    "precision = precision_score(true_labels, predicted_labels, average='weighted')\n",
    "recall = recall_score(true_labels, predicted_labels, average='weighted')\n",
    "accuracy = accuracy_score(true_labels, predicted_labels)\n",
    "\n",
    "# Print the results\n",
    "print(\"Precision:\", precision)\n",
    "print(\"Recall:\", recall)\n",
    "print(\"Accuracy:\", accuracy)\n",
    "\n",
    "mlflow.log_metric(\"Precision\", precision)\n",
    "mlflow.log_metric(\"Recall\", recall)\n",
    "mlflow.log_metric(\"Accuracy\", accuracy)\n",
    "\n",
    "mlflow.end_run()"
   ]
  },
  {
   "cell_type": "code",
   "execution_count": null,
   "metadata": {},
   "outputs": [],
   "source": []
  },
  {
   "cell_type": "code",
   "execution_count": null,
   "metadata": {},
   "outputs": [],
   "source": []
  }
 ],
 "metadata": {
  "kernelspec": {
   "display_name": "ml",
   "language": "python",
   "name": "python3"
  },
  "language_info": {
   "codemirror_mode": {
    "name": "ipython",
    "version": 3
   },
   "file_extension": ".py",
   "mimetype": "text/x-python",
   "name": "python",
   "nbconvert_exporter": "python",
   "pygments_lexer": "ipython3",
   "version": "3.9.12"
  },
  "orig_nbformat": 4,
  "vscode": {
   "interpreter": {
    "hash": "fea903cc172cce62c6301ba3c7eecfb26209215bbdb6c0bb5db0de1694474dd0"
   }
  }
 },
 "nbformat": 4,
 "nbformat_minor": 2
}
